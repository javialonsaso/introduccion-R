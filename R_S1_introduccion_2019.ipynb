{
 "cells": [
  {
   "cell_type": "markdown",
   "metadata": {
    "button": false,
    "new_sheet": false,
    "run_control": {
     "read_only": false
    }
   },
   "source": [
    "# R: Introducción y estructuras de datos"
   ]
  },
  {
   "cell_type": "markdown",
   "metadata": {},
   "source": [
    "Lisette Graafland\n",
    "\n",
    "catharina.graafland@unican.es"
   ]
  },
  {
   "cell_type": "markdown",
   "metadata": {},
   "source": [
    "***\n",
    "## CONTENIDOS\n",
    "### ¿Qué es R?\n",
    "### Primeros pasos con R\n",
    "### Estructuras de datos en R\n",
    "### Práctica dataset Suise\n",
    "***"
   ]
  },
  {
   "cell_type": "markdown",
   "metadata": {
    "button": false,
    "new_sheet": false,
    "run_control": {
     "read_only": false
    }
   },
   "source": [
    "## ¿Qué es R?\n",
    "\n",
    "* En 1976, John Chambers, Rick Becker y Allan Wilks desarrollaron *S* como un conjunto de macros Fortran, que se convirtieron en el entorno de análisis estadístico de Bell Labs.\n",
    "* En 1988, se reescribió completamente S (S3) en código C. Diez años más tarde, en 1998, se lanzó la S4, que contenía un conjunto de características orientadas a objetos más avanzadas que las de S3. S4 (y su versión comercial S-Plus) siguen estando vigentes en la actualidad.\n",
    "* En pocas palabras, R es un dialecto libre del lenguaje S, desarrollado en 1993 por Robert Gentleman y Ross Ihaka del departamento de Estadística de la Universidad de Auckland.\n",
    "* Con más de 2 millones de usuarios a nivel mundial, R se ha convertido rápidamente en uno de los lenguajes de programación líderes en estadística y ciencia de datos. Cada año, el número de usuarios de R crece en un 40%, y cada vez más organizaciones lo están usando para sus actividades cotidianas. Sus características básicas son:\n",
    "  + software libre de código abierto -> desarrolladores de todo el mundo contribuyen con paquetes que permiten realizar análisis cada vez más específicos y sofisticados. No hay limitaciones.   \n",
    "  + está en constante evolución y se dispone de una amplia documentación. Hay mucha información disponible en foros como Stackoverflow.\n",
    "  + gran capacidad de gráficos para visualizar información compleja de una forma sencilla. \n",
    "  + muy flexible, puede trabajar con datos procedentes de todo tipo de archivos: .txt, .csv, JSON, etc.\n",
    "* Existen múltiples guías para el aprendizaje y uso de R. Dos de las más populares son las siguientes:\n",
    "  + \"Introduccion a R\": http://cran.r-project.org/doc/contrib/R-intro-1.1.0-espanol.1.pdf\n",
    "  + \"R para principiantes\": https://cran.r-project.org/doc/contrib/rdebuts_es.pdf\n",
    "  + \"The R book\": ftp://ftp.tuebingen.mpg.de/pub/kyb/bresciani/Crawley%20-%20The%20R%20Book.pdf"
   ]
  },
  {
   "cell_type": "markdown",
   "metadata": {
    "button": false,
    "new_sheet": false,
    "run_control": {
     "read_only": false
    }
   },
   "source": [
    "## Primeros pasos con R\n",
    "\n",
    "* Instalación:\n",
    " + Desde la paǵina de CRAN (Comprehensive R Archive Network): https://cran.r-project.org/mirrors.html. CRAN es el repositorio oficial de R (y la mayoría de sus paquetes), el cual es coordinado por la \"R foundation\" y mantenido por la comunidad de usuarios de R en todo el mundo.\n",
    "   + En Ubuntu y otras distribuciones Linux suele bastar con ejecutar `sudo apt-get install r-base`\n",
    "   + Suele publicarse una nueva versión de R cada seis meses. Es conveniente utilizar siempre la última versión.\n",
    "* R es un lenguaje de programación orientado a objetos, muy similar en sintaxis a C y C++. Todo en R son objetos: un valor numérico es un objeto, un vector es un objeto, una función es un objeto, una base de datos es un objeto, un gráfico es un objeto... Entre otras cosas, esto significa que una misma función puede hacer cosas distintas según la clase del objeto que recibe como argumento, pudiendo incluso no hacer nada (o producir un error) si se le pasan argumentos de una clase inadecuada.\n",
    "* El nombre de un objeto de R puede ser cualquier cadena alfanumérica formada por letras (R distingue entre mayúsculas y minúsculas), dígitos del 0 al 9 (nunca en primera posición del nombre) y los signos \".\" y \"\\_\". Por ejemplo, *Var123* o *Var.123* son nombres válidos.\n",
    "\n",
    "### R desde terminal\n",
    "\n",
    "* Para abrir una sesión de R, simplemente ejecuta la orden `R` desde la terminal. Algunos comandos básicos son los siguientes:\n",
    "\n",
    "`# esto es un comentario\n",
    "getwd()  # muestra el directorio de trabajo actual\n",
    "setwd(\"/home/jovyan/panorama/R\")  # especifica un nuevo directorio de trabajo\n",
    "list.files()  # lista el contenido del directorio de trabajo \n",
    "ls()  # lista los objetos guardados en memoria en la sesión de trabajo actual\n",
    "quit()  # cierra la sesión actual`\n",
    "\n",
    "* Uso de R como calculadora:\n",
    "\n",
    "`2+2\n",
    "10/2\n",
    "sqrt(8)\n",
    "3^2\n",
    "log(7)\n",
    "x <- 5; y <- 6; x+y  # las expresiones \"<-\" y \"=\" son equivalentes`\n",
    "\n",
    "### R en Jupyter\n",
    "\n",
    "* Para poder usar R desde Jupyter necesitamos instalar primero *IRKernell* (kernel de R). [IRKernel](https://irkernel.github.io/) permite incorporar celdas que calculen utilizando R como lenguaje de programación. Para su instalación es [necesario](https://irkernel.github.io/requirements/) tener instalado R en la instancia de Jupyter. En ese caso, la instalación básica del kernel se realiza siguiendo las siguientes [instrucciones](https://irkernel.github.io/installation/#binary-panel):\n",
    "\n",
    " 1) Se instalan desde la consola de R los paquetes necesarios, incluido IRKernel:\n",
    " \n",
    "   `install.packages(c('repr', 'IRdisplay', 'evaluate', 'crayon', 'pbdZMQ', 'devtools', 'uuid', 'digest'))`   \n",
    "   `devtools::install_github('IRkernel/IRkernel')`\n",
    "   \n",
    " 2) A continuación debe hacerse visible el kernel desde Jupyter. Para ello, debemos ejecutar desde R:\n",
    " \n",
    "   `IRkernel::installspec()`   \n",
    "   \n",
    "Ahora se activará dentro del menú *Kernel* de Jupyter una nueva opción `R` para utilizar celdas con ese lenguaje.\n",
    "\n",
    "En ocasiones puede ocurrir que la instalación del kernel no se propague al notebook de modo que no permita seleccionar el Kernel de `R`. En ese caso debemos, por un lado, revisar el listado de kernels (desde la terminal de Jupyter)\n",
    "\n",
    "   `jupyter kernelspec list`\n",
    "   \n",
    "y a continuación, en caso de que esté disponible el kernel, forzar su instalación\n",
    "\n",
    "   `jupyter kernelspec install /path/jupyter/kernels/ir`\n",
    "\n",
    "En dicho momento se activará la opción de ese kernel en el notebook."
   ]
  },
  {
   "cell_type": "markdown",
   "metadata": {
    "button": false,
    "new_sheet": false,
    "run_control": {
     "read_only": false
    }
   },
   "source": [
    "## Estructuras de datos en R\n",
    "\n",
    "* Como ya hemos comentado, las entidades que R crea y manipula se denominan objetos.   \n",
    "  + Los atributos de un objeto suministran información específica sobre el propio objeto.\n",
    "  + Un objeto siempre lleva como attributo la longitud y la clase\n",
    "    + La función `class()` devuelve la clase del objeto.  \n",
    "    + La función `length()` devuelve la longitud del objeto.  \n",
    "    + La función `str()` da informacion sobre todo la estructura del objeto.  \n",
    "\n",
    "* R dispone las siguientes estructuras de datos (clases).\n",
    "  + vector\n",
    "  + matrix\n",
    "  + array\n",
    "  + factor (estructura de R)\n",
    "  + list\n",
    "  + data.frame (estructura de R)\n",
    "\n",
    "* Estas estructuras pueden estar formadas por un único o varios tipos (clases atómicas).\n",
    "  + Enteros  - **integer** (e.g. 2L, as.integer(3))\n",
    "  + Numérico - **numeric/double** (números reales) (e.g. 2, 2.0, pi, Inf) \n",
    "  + Complejo - **complex** (e.g. 1 + 0i, 1 + 4i)\n",
    "    + Los operadores aritméticos elementales son los habituales: +, -, /, ^ ,%%,%/% ...\n",
    "  + Lógicos - **logical** (TRUE, FALSE) \n",
    "    + Operadores lógicos: ==, =!, <=, >=, <, >, && , || ...\n",
    "  + Caracteres - **character** (e.g, \"Hola\", \"mundo\")\n",
    "    - Operador para caracteres: Concatenación con la función `paste()`"
   ]
  },
  {
   "cell_type": "markdown",
   "metadata": {
    "button": false,
    "new_sheet": false,
    "run_control": {
     "read_only": false
    }
   },
   "source": [
    "Ejemplos del uso de operadores elementales:"
   ]
  },
  {
   "cell_type": "code",
   "execution_count": null,
   "metadata": {
    "button": false,
    "new_sheet": false,
    "run_control": {
     "read_only": false
    }
   },
   "outputs": [],
   "source": [
    "# Operadores numéricos\n",
    "# módulo\n",
    "5%%2\n",
    "# división entera\n",
    "5%/%2\n",
    "# potencias\n",
    "2^3\n",
    "# multiplicación entre numeros complejos\n",
    "1+2i*2+1i"
   ]
  },
  {
   "cell_type": "code",
   "execution_count": null,
   "metadata": {
    "button": false,
    "new_sheet": false,
    "run_control": {
     "read_only": false
    }
   },
   "outputs": [],
   "source": [
    "# operadores lógicos\n",
    "5 > 4\n",
    "4 == 3\n",
    "FALSE && TRUE\n",
    "FALSE || TRUE\n",
    "4 && 1 # TRUE: todos los números más Inf, salvo cero\n"
   ]
  },
  {
   "cell_type": "code",
   "execution_count": null,
   "metadata": {
    "button": false,
    "new_sheet": false,
    "run_control": {
     "read_only": false
    }
   },
   "outputs": [],
   "source": [
    "# combinación de cadenas de caracteres\n",
    "paste(\"Hoy\",\"es\",\"lunes\")"
   ]
  },
  {
   "cell_type": "markdown",
   "metadata": {
    "button": false,
    "new_sheet": false,
    "run_control": {
     "read_only": false
    }
   },
   "source": [
    "### Asignación de objetos"
   ]
  },
  {
   "cell_type": "code",
   "execution_count": null,
   "metadata": {
    "button": false,
    "new_sheet": false,
    "run_control": {
     "read_only": false
    }
   },
   "outputs": [],
   "source": [
    "# assignación de un objeto\n",
    "objeto1 <- 3\n",
    "# 3 -> objeto1\n",
    "\n",
    "# assign()\n",
    "assign(\"objeto2\", 3)"
   ]
  },
  {
   "cell_type": "code",
   "execution_count": null,
   "metadata": {
    "button": false,
    "new_sheet": false,
    "run_control": {
     "read_only": false
    }
   },
   "outputs": [],
   "source": [
    "objeto1\n",
    "objeto2"
   ]
  },
  {
   "cell_type": "code",
   "execution_count": null,
   "metadata": {
    "button": false,
    "new_sheet": false,
    "run_control": {
     "read_only": false
    }
   },
   "outputs": [],
   "source": [
    "# determinación del tipo (clase atómica) de un objeto singular: typeof()\n",
    "a <- \"Hola\"\n",
    "b <- 2\n",
    "c <- 2L\n",
    "d <- 2 + 1i\n",
    "e <- FALSE \n",
    "#\n",
    "typeof(a)\n",
    "typeof(b)\n",
    "typeof(c)\n",
    "typeof(d)\n",
    "typeof(e)"
   ]
  },
  {
   "cell_type": "markdown",
   "metadata": {
    "button": false,
    "new_sheet": false,
    "run_control": {
     "read_only": false
    }
   },
   "source": [
    "## Vectores \n",
    "La estructura más simple es el vector, que es una colección unidimensional ordenada. Un número, por ejemplo, se considera un vector numérico de longitud uno.\n",
    "\n",
    "Tipos de vectores:\n",
    "+ numérico, \n",
    "+ entero,\n",
    "+ complejo,\n",
    "+ carácter, \n",
    "+ lógico\n",
    "\n",
    "Funciones frecuentemente utilizados: `length()`, `rev()`, `sort()`"
   ]
  },
  {
   "cell_type": "markdown",
   "metadata": {
    "button": false,
    "new_sheet": false,
    "run_control": {
     "read_only": false
    }
   },
   "source": [
    "+ Vectores numéricos"
   ]
  },
  {
   "cell_type": "code",
   "execution_count": null,
   "metadata": {
    "button": false,
    "new_sheet": false,
    "run_control": {
     "read_only": false
    }
   },
   "outputs": [],
   "source": [
    "# creación de un vector numerico: la función c()\n",
    "x <- c(1.1,2.2,3.3,4.4,5.5)\n",
    "print(x)\n",
    "class(x)"
   ]
  },
  {
   "cell_type": "code",
   "execution_count": null,
   "metadata": {
    "button": false,
    "new_sheet": false,
    "run_control": {
     "read_only": false
    }
   },
   "outputs": [],
   "source": [
    "# creación de un vector de ceros mediante la función numeric\n",
    "x <- numeric(length = 5)\n",
    "print(x)\n",
    "class(x)\n",
    "y <- rep(0, length = 5)\n",
    "print(y)\n",
    "class(y)"
   ]
  },
  {
   "cell_type": "markdown",
   "metadata": {
    "button": false,
    "new_sheet": false,
    "run_control": {
     "read_only": false
    }
   },
   "source": [
    "### Operaciones básicas con vectores\n",
    "#### Operaciones aritméticas entre un valor numérico y un vector:  "
   ]
  },
  {
   "cell_type": "code",
   "execution_count": null,
   "metadata": {
    "button": false,
    "new_sheet": false,
    "run_control": {
     "read_only": false
    }
   },
   "outputs": [],
   "source": [
    "# Los operadores aritméticos básicos se aplican a cada elemento\n",
    "x <- c(1,2,3,4,5,5)\n",
    "print(1/x) # división\n",
    "print(x + 1) # suma\n",
    "print(2 * x) # multiplicación\n",
    "print(x^2) # elevar a una potencia"
   ]
  },
  {
   "cell_type": "code",
   "execution_count": null,
   "metadata": {
    "button": false,
    "new_sheet": false,
    "run_control": {
     "read_only": false
    }
   },
   "outputs": [],
   "source": [
    "# funciones básicas que se aplican a cada elemento: log, exp, sin, cos, tan, sqrt\n",
    "log(x)"
   ]
  },
  {
   "cell_type": "code",
   "execution_count": null,
   "metadata": {
    "button": false,
    "new_sheet": false,
    "run_control": {
     "read_only": false
    }
   },
   "outputs": [],
   "source": [
    "# max, min, sum \n",
    "x <- c(1,2,3,4,5,5)\n",
    "print(max(x))\n",
    "print(min(x))\n",
    "print(sum(x))"
   ]
  },
  {
   "cell_type": "markdown",
   "metadata": {
    "button": false,
    "new_sheet": false,
    "run_control": {
     "read_only": false
    }
   },
   "source": [
    "#### Operaciones aritméticas entre dos vectores:  \n",
    "El resultado será otro vector con longitud = longitud del vector más largo. El vector más corto será reciclado:"
   ]
  },
  {
   "cell_type": "code",
   "execution_count": null,
   "metadata": {
    "button": false,
    "new_sheet": false,
    "run_control": {
     "read_only": false
    }
   },
   "outputs": [],
   "source": [
    "x <- c(1,2,3,4,5)\n",
    "y <- c(1,2,3)\n",
    "\n",
    "print(x + y)\n",
    "print(x - y)\n",
    "print(x*y)\n",
    "print(x^y)"
   ]
  },
  {
   "cell_type": "markdown",
   "metadata": {
    "button": false,
    "new_sheet": false,
    "run_control": {
     "read_only": false
    }
   },
   "source": [
    "\n",
    "Si los objetos `x1` y `x2` son vectores de la misma longitud, el operador `%*%` devuelve el producto interno como un objeto de clase `matrix`"
   ]
  },
  {
   "cell_type": "code",
   "execution_count": null,
   "metadata": {
    "button": false,
    "new_sheet": false,
    "run_control": {
     "read_only": false
    }
   },
   "outputs": [],
   "source": [
    "x1 <- c(1,2,3)\n",
    "x2 <- c(4,5,6)\n",
    "mat.int <- x1 %*% x2\n",
    "mat.int\n",
    "class(mat.int)\n",
    "typeof(mat.int)\n",
    "str(mat.int)"
   ]
  },
  {
   "cell_type": "markdown",
   "metadata": {
    "button": false,
    "new_sheet": false,
    "run_control": {
     "read_only": false
    }
   },
   "source": [
    "El producto exterior lo calculamos con la función `outer()` (devuelve un objeto de la clase \"matrix\")\n"
   ]
  },
  {
   "cell_type": "code",
   "execution_count": null,
   "metadata": {
    "button": false,
    "new_sheet": false,
    "run_control": {
     "read_only": false
    }
   },
   "outputs": [],
   "source": [
    "mat.ext <- outer(x1,x2)\n",
    "mat.ext\n",
    "class(mat.ext)\n",
    "str(mat.ext)"
   ]
  },
  {
   "cell_type": "markdown",
   "metadata": {
    "button": false,
    "new_sheet": false,
    "run_control": {
     "read_only": false
    }
   },
   "source": [
    "* **Vectores de enteros / secuencias**"
   ]
  },
  {
   "cell_type": "code",
   "execution_count": null,
   "metadata": {
    "button": false,
    "new_sheet": false,
    "run_control": {
     "read_only": false
    }
   },
   "outputs": [],
   "source": [
    "# Una secuencia es un vector de enteros\n",
    "seq1 <- 1:10 \n",
    "seq2 <- seq(0, 10, by = 2) \n",
    "seq3 <- seq(10, 0, by = -2) \n",
    "print(seq1)\n",
    "print(seq2)\n",
    "print(seq3)"
   ]
  },
  {
   "cell_type": "code",
   "execution_count": null,
   "metadata": {
    "button": false,
    "new_sheet": false,
    "run_control": {
     "read_only": false
    }
   },
   "outputs": [],
   "source": [
    "# Añadir elementos mediante la funcion c()\n",
    "print(c(seq1,11,12))\n",
    "print(c(seq1,seq3))"
   ]
  },
  {
   "cell_type": "markdown",
   "metadata": {
    "button": false,
    "new_sheet": false,
    "run_control": {
     "read_only": false
    }
   },
   "source": [
    "\n",
    "---\n",
    "__Ejercicio.__  \n",
    "Crea con las funciones `rep()` and `seq()` el siguiente vector: 11,11,11,1,2,3,4,5,7,9,11"
   ]
  },
  {
   "cell_type": "code",
   "execution_count": null,
   "metadata": {
    "button": false,
    "new_sheet": false,
    "run_control": {
     "read_only": false
    }
   },
   "outputs": [],
   "source": [
    "# Solución\n",
    "vec1 <- rep(11, length=3)\n",
    "vec2 <- seq(1,5,by=1)\n",
    "vec3 <- seq(7,11, by=2)\n",
    "vec4 <- c(vec1, vec2, vec3)\n",
    "\n",
    "print(vec4)"
   ]
  },
  {
   "cell_type": "markdown",
   "metadata": {
    "button": false,
    "new_sheet": false,
    "run_control": {
     "read_only": false
    }
   },
   "source": [
    "---\n",
    "\n",
    "* **Vectores lógicos, vectores de caracteres...**\n",
    "    "
   ]
  },
  {
   "cell_type": "code",
   "execution_count": null,
   "metadata": {
    "button": false,
    "new_sheet": false,
    "run_control": {
     "read_only": false
    }
   },
   "outputs": [],
   "source": [
    "logi <- c(FALSE, TRUE)\n",
    "char <- c(\"Hola\",\"que\",\"tal\")"
   ]
  },
  {
   "cell_type": "markdown",
   "metadata": {
    "button": false,
    "new_sheet": false,
    "run_control": {
     "read_only": false
    }
   },
   "source": [
    " ¡Un vector sólamente puede contener un tipo atómico!  \n",
    " Cuando se combinen dos tipos de atomos en un único vector, `R` automaticamente convertirá uno de ellos al tipo del otro.\n"
   ]
  },
  {
   "cell_type": "code",
   "execution_count": null,
   "metadata": {
    "button": false,
    "new_sheet": false,
    "run_control": {
     "read_only": false
    }
   },
   "outputs": [],
   "source": [
    "# ¿Qué tipo de vector saldrá?\n",
    "print(c(2,\"Hola\"))\n",
    "print(c(FALSE,\"Hola\"))\n",
    "print(c(FALSE,2))"
   ]
  },
  {
   "cell_type": "markdown",
   "metadata": {
    "button": false,
    "new_sheet": false,
    "run_control": {
     "read_only": false
    }
   },
   "source": [
    "Se puede comprobar la clase del vector con las funciones:\n",
    "`is.character()`, `is.numeric()`, `is.integer()`...  \n",
    "Se puede convertir vectores de un tipo a vectores de otro tipo usando las funciones:\n",
    "`as.character()`, `as.integer()`, ...\n"
   ]
  },
  {
   "cell_type": "code",
   "execution_count": null,
   "metadata": {
    "button": false,
    "new_sheet": false,
    "run_control": {
     "read_only": false
    }
   },
   "outputs": [],
   "source": [
    "# Ejemplo.\n",
    "r <- c(1.1,2.2,3.3)\n",
    "print(r)\n",
    "r <- as.integer(r)\n",
    "print(r)\n",
    "r <- as.character(r)\n",
    "print(r)\n",
    "is.character(r)"
   ]
  },
  {
   "cell_type": "markdown",
   "metadata": {
    "button": false,
    "new_sheet": false,
    "run_control": {
     "read_only": false
    }
   },
   "source": [
    "---\n",
    "\n",
    "__Ejercicio.__  \n",
    "Crea un vector 'v' con una secuencia de enteros desde el 3 hasta el 10.\n",
    "Convierte 'v' a un vector de tipo caracter.\n",
    "Comprueba la clase de 'v'."
   ]
  },
  {
   "cell_type": "code",
   "execution_count": null,
   "metadata": {
    "button": false,
    "new_sheet": false,
    "run_control": {
     "read_only": false
    }
   },
   "outputs": [],
   "source": [
    "# Solución\n",
    "v <- 3:10\n",
    "v <- as.character(v)\n",
    "v\n",
    "class(v)"
   ]
  },
  {
   "cell_type": "markdown",
   "metadata": {
    "button": false,
    "new_sheet": false,
    "run_control": {
     "read_only": false
    }
   },
   "source": [
    "---\n",
    "\n",
    "* **Vectores lógicos**   \n",
    "    - Los vectores lógicos habitualmente resultan de operaciones lógicas.  \n",
    "    - Te indican cuáles son los valores que cumplen la expresion lógica.  \n",
    "    - Los vectores lógicos son útiles para seleccionar subvectores. "
   ]
  },
  {
   "cell_type": "code",
   "execution_count": null,
   "metadata": {
    "button": false,
    "new_sheet": false,
    "run_control": {
     "read_only": false
    }
   },
   "outputs": [],
   "source": [
    "x <- 1:10\n",
    "print(x)\n",
    "\n",
    "# construcción de un vector \"logical\" que indica qué elementos de x son mayores que 5 / son par\n",
    "y <- x > 5\n",
    "print(y)\n",
    "\n",
    "z <- x %% 2 == 0\n",
    "print(z)\n",
    "\n",
    "z_bool <- as.bool(x %% 2)\n",
    "print(z_bool)"
   ]
  },
  {
   "cell_type": "code",
   "execution_count": null,
   "metadata": {
    "button": false,
    "new_sheet": false,
    "run_control": {
     "read_only": false
    }
   },
   "outputs": [],
   "source": [
    "# extraemos los valores pares en un nuevo objeto\n",
    "x2 <- x[z]\n",
    "print(x2)"
   ]
  },
  {
   "cell_type": "markdown",
   "metadata": {
    "button": false,
    "new_sheet": false,
    "run_control": {
     "read_only": false
    }
   },
   "source": [
    "__Otras formas de selección y modificación de subvectores__  \n",
    "Puede seleccionar un subvector de un vector con un vector de índices entre corchetes [...]"
   ]
  },
  {
   "cell_type": "code",
   "execution_count": null,
   "metadata": {
    "button": false,
    "new_sheet": false,
    "run_control": {
     "read_only": false
    }
   },
   "outputs": [],
   "source": [
    "x <- 10:15\n",
    "# selección por vector de índices: un vector de numeros naturales positivos.\n",
    "print(x[1:2])\n",
    "print(x[c(1,2)])\n",
    "print(x[-c(1,2)]) # excluir los dos primeros elementos"
   ]
  },
  {
   "cell_type": "code",
   "execution_count": null,
   "metadata": {
    "button": false,
    "new_sheet": false,
    "run_control": {
     "read_only": false
    }
   },
   "outputs": [],
   "source": [
    "x <- 10:15\n",
    "# selección por vector lógico\n",
    "print(x>12)\n",
    "print(x[x>12])"
   ]
  },
  {
   "cell_type": "markdown",
   "metadata": {
    "button": false,
    "new_sheet": false,
    "run_control": {
     "read_only": false
    }
   },
   "source": [
    "---\n",
    "\n",
    "__Ejercicio.__  \n",
    "Crea un vector con algunos de los nombres de tus amigos.  \n",
    "Obtén la longitud del vector anterior.  \n",
    "Crea un subvector con los amigos 2 y 3.  \n",
    "Ordena los nombres de tus amigos alfabéticamente.  \n",
    "Dale la vuelta al vector.\n"
   ]
  },
  {
   "cell_type": "code",
   "execution_count": null,
   "metadata": {
    "button": false,
    "new_sheet": false,
    "run_control": {
     "read_only": false
    }
   },
   "outputs": [],
   "source": [
    "# Solución\n",
    "names <- c(\"bbb\", \"aaa\", \"ggg\", \"fff\")\n",
    "names.sub <- names[c(2,3)]\n",
    "names.sort <- sort(names)\n",
    "names.rev <- rev(names)\n",
    "\n",
    "print(names)\n",
    "print(names.sub)\n",
    "print(names.sort)\n",
    "print(names.rev)"
   ]
  },
  {
   "cell_type": "markdown",
   "metadata": {
    "button": false,
    "new_sheet": false,
    "run_control": {
     "read_only": false
    }
   },
   "source": [
    "---\n",
    "\n",
    "* **Valores faltantes (missing values)**:\n",
    "    + Indicados con NA (Not Available) o NaN (Not A Number).  \n",
    "    + NaN caracteriza un valor que sale de una indeterminación matemática, por ejemplo 0/0  \n",
    "    + Los NA se pueden detectar con la función `is.na()`"
   ]
  },
  {
   "cell_type": "code",
   "execution_count": null,
   "metadata": {
    "button": false,
    "new_sheet": false,
    "run_control": {
     "read_only": false
    }
   },
   "outputs": [],
   "source": [
    "x <- c(-1,-2, 1, 2, NA, NaN)\n",
    "# elimina los missing values \n",
    "is.na(x)\n",
    "!is.na(x)\n",
    "y <- x[!is.na(x)]\n",
    "x\n",
    "y"
   ]
  },
  {
   "cell_type": "markdown",
   "metadata": {
    "button": false,
    "new_sheet": false,
    "run_control": {
     "read_only": false
    }
   },
   "source": [
    "---\n",
    "\n",
    "__Ejercicio.__\n",
    "Excluye los valores faltantes y define un vector nuevo que sólo contenga valores positivos. "
   ]
  },
  {
   "cell_type": "code",
   "execution_count": null,
   "metadata": {
    "button": false,
    "new_sheet": false,
    "run_control": {
     "read_only": false
    }
   },
   "outputs": [],
   "source": [
    "x <- c(-5,-4,-3,-2,-1, NA, 1, 2, NA, 4,5)\n",
    "# Solución\n",
    "y <- x[!is.na(x)]\n",
    "y <- y[y >= 0]\n",
    "\n",
    "print(y)"
   ]
  },
  {
   "cell_type": "markdown",
   "metadata": {
    "button": false,
    "new_sheet": false,
    "run_control": {
     "read_only": false
    }
   },
   "source": [
    "---\n",
    "\n",
    "## Matrices"
   ]
  },
  {
   "cell_type": "markdown",
   "metadata": {
    "button": false,
    "new_sheet": false,
    "run_control": {
     "read_only": false
    }
   },
   "source": [
    "* Las matrices son generalizaciones bidimensionales de los vectores. \n",
    "* Se pueden crear con la función `matrix()`\n",
    "* Se caracterizan por filas y columnas.  \n",
    "* Se imprimen por pantalla de modo especial.  \n",
    "* Llevan por defecto un atributo: `dim`, al cual se puede acceder con las funciones `attributes()` y `dim()`\n",
    "* Se pueden añadir otros atributos: `names`, `row.names`, `col.names`... \n",
    "\n",
    "Funciones utilizadas frecuentemente:\n",
    "`t()`, `diag()`, `det()`, `inv()`\n",
    "\n",
    "\n",
    "#### Cambiar nombres\n",
    "\n",
    "Para cambiar los nombres en una columna de la matrix `B`:\n",
    "```R\n",
    "rownames(B) <- c(\"a\", \"b\", \"c\")\n",
    "```"
   ]
  },
  {
   "cell_type": "markdown",
   "metadata": {
    "button": false,
    "new_sheet": false,
    "run_control": {
     "read_only": false
    }
   },
   "source": [
    "---\n",
    "\n",
    "**Ejercicio**. utiliza las funciones `t()`, `diag()`,  `det()`, `inv()` con la matriz que se proporciona a continuación (objeto `mat`). ¿Qué hace cada una de estas funciones?"
   ]
  },
  {
   "cell_type": "code",
   "execution_count": null,
   "metadata": {
    "button": false,
    "new_sheet": false,
    "run_control": {
     "read_only": false
    }
   },
   "outputs": [],
   "source": [
    "# Solución\n",
    "mat <- matrix(1:9, ncol = 3)\n",
    "mat"
   ]
  },
  {
   "cell_type": "markdown",
   "metadata": {
    "button": false,
    "new_sheet": false,
    "run_control": {
     "read_only": false
    }
   },
   "source": [
    "---\n",
    "\n",
    "Crear una matriz vacia:  "
   ]
  },
  {
   "cell_type": "code",
   "execution_count": null,
   "metadata": {
    "button": false,
    "new_sheet": false,
    "run_control": {
     "read_only": false
    }
   },
   "outputs": [],
   "source": [
    "# Crear una matriz vacía de 2x3 \n",
    "m1 <- matrix(nrow = 2, ncol = 3)\n",
    "print(m1)\n",
    "dim(m1)"
   ]
  },
  {
   "cell_type": "markdown",
   "metadata": {
    "button": false,
    "new_sheet": false,
    "run_control": {
     "read_only": false
    }
   },
   "source": [
    "Crear una matriz numérica"
   ]
  },
  {
   "cell_type": "code",
   "execution_count": null,
   "metadata": {
    "button": false,
    "new_sheet": false,
    "run_control": {
     "read_only": false
    }
   },
   "outputs": [],
   "source": [
    "m2 <- matrix(1:6, nrow=2, ncol =3, byrow = TRUE)\n",
    "print(m2)\n",
    "str(m2)"
   ]
  },
  {
   "cell_type": "markdown",
   "metadata": {
    "button": false,
    "new_sheet": false,
    "run_control": {
     "read_only": false
    }
   },
   "source": [
    "Crear una matriz a partir de un vector"
   ]
  },
  {
   "cell_type": "code",
   "execution_count": null,
   "metadata": {
    "button": false,
    "new_sheet": false,
    "run_control": {
     "read_only": false
    }
   },
   "outputs": [],
   "source": [
    "m3 <- 1:10\n",
    "m3\n",
    "class(m3)\n",
    "dim(m3) <- c(2,5) # establecer dimensiones: dos filas, 5 columnas\n",
    "print(m3)\n",
    "class(m3)"
   ]
  },
  {
   "cell_type": "markdown",
   "metadata": {
    "button": false,
    "new_sheet": false,
    "run_control": {
     "read_only": false
    }
   },
   "source": [
    "Crear una matriz por concatenación de vectores de igual longitud.\n",
    "* por columnas: `cbind()`\n",
    "* por filas: `rbind()`"
   ]
  },
  {
   "cell_type": "code",
   "execution_count": null,
   "metadata": {
    "button": false,
    "new_sheet": false,
    "run_control": {
     "read_only": false
    }
   },
   "outputs": [],
   "source": [
    "# cbind(arg 1, arg 2, arg 3, ...)\n",
    "x <- 1:3\n",
    "y <- 10:12\n",
    "z1 <- cbind(x,y)\n",
    "print(z1)\n",
    "# or\n",
    "z2 <- rbind(x,y)\n",
    "print(z2)"
   ]
  },
  {
   "cell_type": "markdown",
   "metadata": {
    "button": false,
    "new_sheet": false,
    "run_control": {
     "read_only": false
    }
   },
   "source": [
    "### Operadores aritméticos básicos con matrices.  \n",
    "* Se aplican a cada elemento"
   ]
  },
  {
   "cell_type": "code",
   "execution_count": null,
   "metadata": {
    "button": false,
    "new_sheet": false,
    "run_control": {
     "read_only": false
    }
   },
   "outputs": [],
   "source": [
    "M <- matrix(c(1,2,3,4), nrow = 2, byrow = TRUE)\n",
    "M"
   ]
  },
  {
   "cell_type": "code",
   "execution_count": null,
   "metadata": {
    "button": false,
    "new_sheet": false,
    "run_control": {
     "read_only": false
    }
   },
   "outputs": [],
   "source": [
    "M+2"
   ]
  },
  {
   "cell_type": "markdown",
   "metadata": {
    "button": false,
    "new_sheet": false,
    "run_control": {
     "read_only": false
    }
   },
   "source": [
    "Si a una matriz se le suma un vector cuya longitud sea igual al número de filas de la matriz, se obtiene como resultado una nueva matriz cuyas columnas son la suma de las columnas de la matriz original más dicho vector."
   ]
  },
  {
   "cell_type": "code",
   "execution_count": null,
   "metadata": {
    "button": false,
    "new_sheet": false,
    "run_control": {
     "read_only": false
    }
   },
   "outputs": [],
   "source": [
    "v <- c(3,4)\n",
    "M+v"
   ]
  },
  {
   "cell_type": "markdown",
   "metadata": {
    "button": false,
    "new_sheet": false,
    "run_control": {
     "read_only": false
    }
   },
   "source": [
    "---\n",
    "\n",
    "__Ejercicio.__\n",
    "Descubra lo que ocurre con la diferencia, la multiplicación y la división de una matriz y un vector."
   ]
  },
  {
   "cell_type": "markdown",
   "metadata": {
    "button": false,
    "new_sheet": false,
    "run_control": {
     "read_only": false
    }
   },
   "source": [
    "La suma o resta de matrices de la misma dimensión se realiza con los operadores `+` y `-`.   \n",
    "El producto de matrices (siempre que sean compatibles) se realiza con el símbolo `%*%`."
   ]
  },
  {
   "cell_type": "code",
   "execution_count": null,
   "metadata": {
    "button": false,
    "new_sheet": false,
    "run_control": {
     "read_only": false
    }
   },
   "outputs": [],
   "source": [
    "M+M"
   ]
  },
  {
   "cell_type": "code",
   "execution_count": null,
   "metadata": {
    "button": false,
    "new_sheet": false,
    "run_control": {
     "read_only": false
    }
   },
   "outputs": [],
   "source": [
    "M-M"
   ]
  },
  {
   "cell_type": "markdown",
   "metadata": {
    "button": false,
    "new_sheet": false,
    "run_control": {
     "read_only": false
    }
   },
   "source": [
    "Se debe tener cuidado con la multiplicación de matrices:"
   ]
  },
  {
   "cell_type": "code",
   "execution_count": null,
   "metadata": {
    "button": false,
    "new_sheet": false,
    "run_control": {
     "read_only": false
    }
   },
   "outputs": [],
   "source": [
    "print(M*M)    # multiplicación por cada elemento\n",
    "print(M%*%M)  # multiplicación de matrices"
   ]
  },
  {
   "cell_type": "markdown",
   "metadata": {
    "button": false,
    "new_sheet": false,
    "run_control": {
     "read_only": false
    }
   },
   "source": [
    "---\n",
    "# NOTAS (IMPORTANTE)\n",
    "\n",
    "Seleccionar elementos por índices"
   ]
  },
  {
   "cell_type": "code",
   "execution_count": null,
   "metadata": {
    "button": false,
    "new_sheet": false,
    "run_control": {
     "read_only": false
    }
   },
   "outputs": [],
   "source": [
    "m <- matrix(1:9, nrow = 3, ncol = 3, byrow = TRUE)\n",
    "print(m)\n",
    "#selección del valor de la fila 2, columna 3\n",
    "m[2,3]\n",
    "#selección de la fila 2 completa\n",
    "m[2,] \n",
    "#selección la columna 3 completa\n",
    "m[,3]\n",
    "#selección del segundo y tercer valor de la fila 1\n",
    "m[1,2:3] "
   ]
  },
  {
   "cell_type": "markdown",
   "metadata": {
    "button": false,
    "new_sheet": false,
    "run_control": {
     "read_only": false
    }
   },
   "source": [
    "---\n",
    "\n",
    "__Ejercicio.__  \n",
    "Crea un vector con 12 enteros.  \n",
    "Convierta el vector a una matriz B de 4 * 3 utilizando la función `matrix()`.  \n",
    "Cambie los nombres de las columnas a x, y, z y los nombres de las filas a a, b, c, d.  \n",
    "Extraer una submatriz de B llamado subB. Debe ser una matriz de 3 × 3 que incluya las últimas tres filas de la matriz B y sus columnas correspondientes.\n"
   ]
  },
  {
   "cell_type": "code",
   "execution_count": null,
   "metadata": {
    "button": false,
    "new_sheet": false,
    "run_control": {
     "read_only": false
    }
   },
   "outputs": [],
   "source": [
    "# Solución\n",
    "x <- 1L:12L\n",
    "B <- matrix(x, nrow=4, ncol=3, byrow=TRUE)\n",
    "colnames(B) <- c(\"a\",\"b\",\"c\")\n",
    "rownames(B) <- c(\"a\",\"b\",\"c\",\"d\")\n",
    "B"
   ]
  },
  {
   "cell_type": "markdown",
   "metadata": {
    "button": false,
    "new_sheet": false,
    "run_control": {
     "read_only": false
    }
   },
   "source": [
    "---\n",
    "\n",
    "**Selecionar elementos**: selecionar por vectores lógicos o con la función `which()`"
   ]
  },
  {
   "cell_type": "code",
   "execution_count": null,
   "metadata": {
    "button": false,
    "new_sheet": false,
    "run_control": {
     "read_only": false
    }
   },
   "outputs": [],
   "source": [
    "m <- matrix(1:9, nrow = 3, ncol = 3, byrow = TRUE)\n",
    "print(m)\n",
    "m[m%%2 == 0] <- 0\n",
    "print(m)"
   ]
  },
  {
   "cell_type": "code",
   "execution_count": null,
   "metadata": {
    "button": false,
    "new_sheet": false,
    "run_control": {
     "read_only": false
    }
   },
   "outputs": [],
   "source": [
    "m <- matrix(1:9, nrow = 3, ncol = 3, byrow = TRUE)\n",
    "print(m)\n",
    "ind <- which(m%%2 == 0, arr.ind = TRUE) # devuelve los índices de los elementos par\n",
    "print(ind)\n",
    "m[ind] <- 0 # convierte los elementos de los índices indicados a 0\n",
    "print(m)"
   ]
  },
  {
   "cell_type": "markdown",
   "metadata": {
    "button": false,
    "new_sheet": false,
    "run_control": {
     "read_only": false
    }
   },
   "source": [
    "## Arrays\n",
    "Una variable indexada (array) es una colección de datos, por ejemplo numéricos, indexada por varios ı́ndices.\n",
    "Los arrays son generalizaciones multi-dimensionales de los vectores."
   ]
  },
  {
   "cell_type": "markdown",
   "metadata": {
    "button": false,
    "new_sheet": false,
    "run_control": {
     "read_only": false
    }
   },
   "source": [
    "Creación: la funcion `array()`"
   ]
  },
  {
   "cell_type": "code",
   "execution_count": null,
   "metadata": {
    "button": false,
    "new_sheet": false,
    "run_control": {
     "read_only": false
    }
   },
   "outputs": [],
   "source": [
    "a <- array(1:24, dim = c(2,3,4))\n",
    "print(a)"
   ]
  },
  {
   "cell_type": "markdown",
   "metadata": {
    "button": false,
    "new_sheet": false,
    "run_control": {
     "read_only": false
    }
   },
   "source": [
    "Creación utilizando la funcion `dim()`"
   ]
  },
  {
   "cell_type": "code",
   "execution_count": null,
   "metadata": {
    "button": false,
    "new_sheet": false,
    "run_control": {
     "read_only": false
    }
   },
   "outputs": [],
   "source": [
    "x <- c(1:24)\n",
    "dim(x) <- c(2,3,4) \n",
    "print(x)\n",
    "dim(x)\n",
    "class(x)"
   ]
  },
  {
   "cell_type": "markdown",
   "metadata": {
    "button": false,
    "new_sheet": false,
    "run_control": {
     "read_only": false
    }
   },
   "source": [
    "Selección de los elementos por índices"
   ]
  },
  {
   "cell_type": "code",
   "execution_count": null,
   "metadata": {
    "button": false,
    "new_sheet": false,
    "run_control": {
     "read_only": false
    }
   },
   "outputs": [],
   "source": [
    "x[1,1,1]\n",
    "x[,,1]\n",
    "x[,2,1]"
   ]
  },
  {
   "cell_type": "markdown",
   "metadata": {
    "button": false,
    "new_sheet": false,
    "run_control": {
     "read_only": false
    }
   },
   "source": [
    "### Factores\n",
    "Un factor es un vector utilizado para especificar una clasificación discreta de los elementos de otro vector de igual longitud.\n",
    "* Un factor lleva dos atributos: levels y class, a los cuales se puede acceder mediante `levels()` y `class()`"
   ]
  },
  {
   "cell_type": "markdown",
   "metadata": {
    "button": false,
    "new_sheet": false,
    "run_control": {
     "read_only": false
    }
   },
   "source": [
    "Creación de un factor: la funcion `factor()`"
   ]
  },
  {
   "cell_type": "code",
   "execution_count": null,
   "metadata": {
    "button": false,
    "new_sheet": false,
    "run_control": {
     "read_only": false
    }
   },
   "outputs": [],
   "source": [
    "ciudades <- c(\"San\",\"Tor\",\"Ovi\",\"Ovi\",\"San\",\"Ovi\",\"San\",\"Tor\",\"Ovi\")\n",
    "ciudadesf <- factor(ciudades)\n",
    "print(ciudadesf)"
   ]
  },
  {
   "cell_type": "code",
   "execution_count": null,
   "metadata": {
    "button": false,
    "new_sheet": false,
    "run_control": {
     "read_only": false
    }
   },
   "outputs": [],
   "source": [
    "attributes(ciudadesf)\n",
    "levels(ciudadesf)"
   ]
  },
  {
   "cell_type": "code",
   "execution_count": null,
   "metadata": {
    "button": false,
    "new_sheet": false,
    "run_control": {
     "read_only": false
    }
   },
   "outputs": [],
   "source": [
    "table(ciudadesf)\n",
    "plot(ciudadesf)"
   ]
  },
  {
   "cell_type": "markdown",
   "metadata": {
    "button": false,
    "new_sheet": false,
    "run_control": {
     "read_only": false
    }
   },
   "source": [
    "---\n",
    "\n",
    "__Ejercicio.__  \n",
    "Crea a un vector 'Vec' que contenga 10 números enteros entre el 1 y el 5.  \n",
    "Convierta 'Vec' a un factor 'Vecf'.  \n",
    "Acceda a los distintos niveles.  \n",
    "Haz una tabla de frequencias."
   ]
  },
  {
   "cell_type": "code",
   "execution_count": null,
   "metadata": {},
   "outputs": [],
   "source": [
    "# solución\n",
    "Vec <- c(1,2,3,4,1,2,3,1,1,2)\n",
    "Vec.factor <- as.factor(Vec)\n",
    "Vec.factor\n",
    "levels(Vec.factor)\n",
    "table(Vec.factor)"
   ]
  },
  {
   "cell_type": "markdown",
   "metadata": {
    "button": false,
    "new_sheet": false,
    "run_control": {
     "read_only": false
    }
   },
   "source": [
    "### Listas\n",
    "Una lista es una colección ordenada de objetos, donde se pueden agrupar objetos de diferentes tipos (por ejemplo una combinación de vectores, matrices, factores, otras listas, data.frames, etc.).  \n",
    "La creación de una lista se hace mediante la función `list()`."
   ]
  },
  {
   "cell_type": "code",
   "execution_count": null,
   "metadata": {
    "button": false,
    "new_sheet": false,
    "run_control": {
     "read_only": false
    }
   },
   "outputs": [],
   "source": [
    "list1 <- list(\"Pedro\", \"Pelayo\", 3, c(4,7,9))\n",
    "list1"
   ]
  },
  {
   "cell_type": "markdown",
   "metadata": {
    "button": false,
    "new_sheet": false,
    "run_control": {
     "read_only": false
    }
   },
   "source": [
    "Los elementos de la lista se pueden nombrar."
   ]
  },
  {
   "cell_type": "code",
   "execution_count": null,
   "metadata": {
    "button": false,
    "new_sheet": false,
    "run_control": {
     "read_only": false
    }
   },
   "outputs": [],
   "source": [
    "list2 <- list(nombre = \"Pedro\", apellido = \"Pelayo\", no.hijos = 3, edad.hijos = c(4,7,9))\n",
    "list2"
   ]
  },
  {
   "cell_type": "markdown",
   "metadata": {
    "button": false,
    "new_sheet": false,
    "run_control": {
     "read_only": false
    }
   },
   "source": [
    "Selección de elementos de una lista.\n"
   ]
  },
  {
   "cell_type": "code",
   "execution_count": null,
   "metadata": {
    "button": false,
    "new_sheet": false,
    "run_control": {
     "read_only": false
    }
   },
   "outputs": [],
   "source": [
    "list1[[1]]\n",
    "list2[[1]]\n",
    "list2$nombre\n",
    "list2[[4]]\n",
    "list2[[4]][1]"
   ]
  },
  {
   "cell_type": "markdown",
   "metadata": {
    "button": false,
    "new_sheet": false,
    "run_control": {
     "read_only": false
    }
   },
   "source": [
    "### Data frames\n",
    "Un data frame se usa para guardar tablas de datos (creadas o importadas).  \n",
    "* Un data frame es una lista de vectores de longitudes iguales.\n",
    "  + lleva por defecto los atributos: `names`, `row.names`, `class`"
   ]
  },
  {
   "cell_type": "markdown",
   "metadata": {
    "button": false,
    "new_sheet": false,
    "run_control": {
     "read_only": false
    }
   },
   "source": [
    "\n",
    "Creación: la función `data.frame()`"
   ]
  },
  {
   "cell_type": "code",
   "execution_count": 2,
   "metadata": {
    "button": false,
    "new_sheet": false,
    "run_control": {
     "read_only": false
    }
   },
   "outputs": [
    {
     "data": {
      "text/html": [
       "<table>\n",
       "<caption>A data.frame: 10 × 4</caption>\n",
       "<thead>\n",
       "\t<tr><th scope=col>edad</th><th scope=col>tiempo1</th><th scope=col>tiempo2</th><th scope=col>sexo</th></tr>\n",
       "\t<tr><th scope=col>&lt;dbl&gt;</th><th scope=col>&lt;dbl&gt;</th><th scope=col>&lt;dbl&gt;</th><th scope=col>&lt;fct&gt;</th></tr>\n",
       "</thead>\n",
       "<tbody>\n",
       "\t<tr><td>22</td><td>10.36</td><td>11.38</td><td>M</td></tr>\n",
       "\t<tr><td>34</td><td>14.21</td><td>15.20</td><td>H</td></tr>\n",
       "\t<tr><td>29</td><td>13.81</td><td>14.91</td><td>H</td></tr>\n",
       "\t<tr><td>25</td><td>11.89</td><td>12.90</td><td>M</td></tr>\n",
       "\t<tr><td>30</td><td>10.99</td><td>12.03</td><td>M</td></tr>\n",
       "\t<tr><td>33</td><td>12.03</td><td>12.58</td><td>H</td></tr>\n",
       "\t<tr><td>31</td><td>12.48</td><td>13.00</td><td>M</td></tr>\n",
       "\t<tr><td>27</td><td>13.37</td><td>13.01</td><td>M</td></tr>\n",
       "\t<tr><td>25</td><td>12.29</td><td>14.54</td><td>H</td></tr>\n",
       "\t<tr><td>25</td><td>11.92</td><td>15.27</td><td>H</td></tr>\n",
       "</tbody>\n",
       "</table>\n"
      ],
      "text/latex": [
       "A data.frame: 10 × 4\n",
       "\\begin{tabular}{r|llll}\n",
       " edad & tiempo1 & tiempo2 & sexo\\\\\n",
       " <dbl> & <dbl> & <dbl> & <fct>\\\\\n",
       "\\hline\n",
       "\t 22 & 10.36 & 11.38 & M\\\\\n",
       "\t 34 & 14.21 & 15.20 & H\\\\\n",
       "\t 29 & 13.81 & 14.91 & H\\\\\n",
       "\t 25 & 11.89 & 12.90 & M\\\\\n",
       "\t 30 & 10.99 & 12.03 & M\\\\\n",
       "\t 33 & 12.03 & 12.58 & H\\\\\n",
       "\t 31 & 12.48 & 13.00 & M\\\\\n",
       "\t 27 & 13.37 & 13.01 & M\\\\\n",
       "\t 25 & 12.29 & 14.54 & H\\\\\n",
       "\t 25 & 11.92 & 15.27 & H\\\\\n",
       "\\end{tabular}\n"
      ],
      "text/markdown": [
       "\n",
       "A data.frame: 10 × 4\n",
       "\n",
       "| edad &lt;dbl&gt; | tiempo1 &lt;dbl&gt; | tiempo2 &lt;dbl&gt; | sexo &lt;fct&gt; |\n",
       "|---|---|---|---|\n",
       "| 22 | 10.36 | 11.38 | M |\n",
       "| 34 | 14.21 | 15.20 | H |\n",
       "| 29 | 13.81 | 14.91 | H |\n",
       "| 25 | 11.89 | 12.90 | M |\n",
       "| 30 | 10.99 | 12.03 | M |\n",
       "| 33 | 12.03 | 12.58 | H |\n",
       "| 31 | 12.48 | 13.00 | M |\n",
       "| 27 | 13.37 | 13.01 | M |\n",
       "| 25 | 12.29 | 14.54 | H |\n",
       "| 25 | 11.92 | 15.27 | H |\n",
       "\n"
      ],
      "text/plain": [
       "   edad tiempo1 tiempo2 sexo\n",
       "1  22   10.36   11.38   M   \n",
       "2  34   14.21   15.20   H   \n",
       "3  29   13.81   14.91   H   \n",
       "4  25   11.89   12.90   M   \n",
       "5  30   10.99   12.03   M   \n",
       "6  33   12.03   12.58   H   \n",
       "7  31   12.48   13.00   M   \n",
       "8  27   13.37   13.01   M   \n",
       "9  25   12.29   14.54   H   \n",
       "10 25   11.92   15.27   H   "
      ]
     },
     "metadata": {},
     "output_type": "display_data"
    }
   ],
   "source": [
    "edad <- c(22, 34, 29, 25, 30, 33, 31, 27, 25, 25)  # edad estudiantes\n",
    "tiempo1 <- c(10.36, 14.21, 13.81, 11.89, 10.99, 12.03, 12.48, 13.37, 12.29, 11.92)  # primera carrera de 100 m.\n",
    "tiempo2 <- c(11.38, 15.20, 14.91, 12.90, 12.03, 12.58, 13.00, 13.01, 14.54, 15.27)  # segunda carrera de 100 m.\n",
    "sexo <- factor(c(\"M\",\"H\",\"H\",\"M\",\"M\",\"H\",\"M\",\"M\",\"H\",\"H\"))\n",
    "df <- data.frame(edad,tiempo1,tiempo2,sexo)\n",
    "df"
   ]
  },
  {
   "cell_type": "code",
   "execution_count": 3,
   "metadata": {
    "button": false,
    "new_sheet": false,
    "run_control": {
     "read_only": false
    },
    "scrolled": false
   },
   "outputs": [
    {
     "name": "stdout",
     "output_type": "stream",
     "text": [
      "'data.frame':\t10 obs. of  4 variables:\n",
      " $ edad   : num  22 34 29 25 30 33 31 27 25 25\n",
      " $ tiempo1: num  10.4 14.2 13.8 11.9 11 ...\n",
      " $ tiempo2: num  11.4 15.2 14.9 12.9 12 ...\n",
      " $ sexo   : Factor w/ 2 levels \"H\",\"M\": 2 1 1 2 2 1 2 2 1 1\n"
     ]
    }
   ],
   "source": [
    "# Estructura del data frame\n",
    "str(df)    "
   ]
  },
  {
   "cell_type": "markdown",
   "metadata": {
    "button": false,
    "new_sheet": false,
    "run_control": {
     "read_only": false
    }
   },
   "source": [
    "Se puede acceder a las columnas por su nombre y hacer operaciones con ellas de manera fácil."
   ]
  },
  {
   "cell_type": "code",
   "execution_count": 4,
   "metadata": {
    "button": false,
    "new_sheet": false,
    "run_control": {
     "read_only": false
    }
   },
   "outputs": [
    {
     "data": {
      "text/html": [
       "<table>\n",
       "<caption>A data.frame: 10 × 5</caption>\n",
       "<thead>\n",
       "\t<tr><th scope=col>edad</th><th scope=col>tiempo1</th><th scope=col>tiempo2</th><th scope=col>sexo</th><th scope=col>totaltiempo</th></tr>\n",
       "\t<tr><th scope=col>&lt;dbl&gt;</th><th scope=col>&lt;dbl&gt;</th><th scope=col>&lt;dbl&gt;</th><th scope=col>&lt;fct&gt;</th><th scope=col>&lt;dbl&gt;</th></tr>\n",
       "</thead>\n",
       "<tbody>\n",
       "\t<tr><td>22</td><td>10.36</td><td>11.38</td><td>M</td><td>21.74</td></tr>\n",
       "\t<tr><td>34</td><td>14.21</td><td>15.20</td><td>H</td><td>29.41</td></tr>\n",
       "\t<tr><td>29</td><td>13.81</td><td>14.91</td><td>H</td><td>28.72</td></tr>\n",
       "\t<tr><td>25</td><td>11.89</td><td>12.90</td><td>M</td><td>24.79</td></tr>\n",
       "\t<tr><td>30</td><td>10.99</td><td>12.03</td><td>M</td><td>23.02</td></tr>\n",
       "\t<tr><td>33</td><td>12.03</td><td>12.58</td><td>H</td><td>24.61</td></tr>\n",
       "\t<tr><td>31</td><td>12.48</td><td>13.00</td><td>M</td><td>25.48</td></tr>\n",
       "\t<tr><td>27</td><td>13.37</td><td>13.01</td><td>M</td><td>26.38</td></tr>\n",
       "\t<tr><td>25</td><td>12.29</td><td>14.54</td><td>H</td><td>26.83</td></tr>\n",
       "\t<tr><td>25</td><td>11.92</td><td>15.27</td><td>H</td><td>27.19</td></tr>\n",
       "</tbody>\n",
       "</table>\n"
      ],
      "text/latex": [
       "A data.frame: 10 × 5\n",
       "\\begin{tabular}{r|lllll}\n",
       " edad & tiempo1 & tiempo2 & sexo & totaltiempo\\\\\n",
       " <dbl> & <dbl> & <dbl> & <fct> & <dbl>\\\\\n",
       "\\hline\n",
       "\t 22 & 10.36 & 11.38 & M & 21.74\\\\\n",
       "\t 34 & 14.21 & 15.20 & H & 29.41\\\\\n",
       "\t 29 & 13.81 & 14.91 & H & 28.72\\\\\n",
       "\t 25 & 11.89 & 12.90 & M & 24.79\\\\\n",
       "\t 30 & 10.99 & 12.03 & M & 23.02\\\\\n",
       "\t 33 & 12.03 & 12.58 & H & 24.61\\\\\n",
       "\t 31 & 12.48 & 13.00 & M & 25.48\\\\\n",
       "\t 27 & 13.37 & 13.01 & M & 26.38\\\\\n",
       "\t 25 & 12.29 & 14.54 & H & 26.83\\\\\n",
       "\t 25 & 11.92 & 15.27 & H & 27.19\\\\\n",
       "\\end{tabular}\n"
      ],
      "text/markdown": [
       "\n",
       "A data.frame: 10 × 5\n",
       "\n",
       "| edad &lt;dbl&gt; | tiempo1 &lt;dbl&gt; | tiempo2 &lt;dbl&gt; | sexo &lt;fct&gt; | totaltiempo &lt;dbl&gt; |\n",
       "|---|---|---|---|---|\n",
       "| 22 | 10.36 | 11.38 | M | 21.74 |\n",
       "| 34 | 14.21 | 15.20 | H | 29.41 |\n",
       "| 29 | 13.81 | 14.91 | H | 28.72 |\n",
       "| 25 | 11.89 | 12.90 | M | 24.79 |\n",
       "| 30 | 10.99 | 12.03 | M | 23.02 |\n",
       "| 33 | 12.03 | 12.58 | H | 24.61 |\n",
       "| 31 | 12.48 | 13.00 | M | 25.48 |\n",
       "| 27 | 13.37 | 13.01 | M | 26.38 |\n",
       "| 25 | 12.29 | 14.54 | H | 26.83 |\n",
       "| 25 | 11.92 | 15.27 | H | 27.19 |\n",
       "\n"
      ],
      "text/plain": [
       "   edad tiempo1 tiempo2 sexo totaltiempo\n",
       "1  22   10.36   11.38   M    21.74      \n",
       "2  34   14.21   15.20   H    29.41      \n",
       "3  29   13.81   14.91   H    28.72      \n",
       "4  25   11.89   12.90   M    24.79      \n",
       "5  30   10.99   12.03   M    23.02      \n",
       "6  33   12.03   12.58   H    24.61      \n",
       "7  31   12.48   13.00   M    25.48      \n",
       "8  27   13.37   13.01   M    26.38      \n",
       "9  25   12.29   14.54   H    26.83      \n",
       "10 25   11.92   15.27   H    27.19      "
      ]
     },
     "metadata": {},
     "output_type": "display_data"
    }
   ],
   "source": [
    "df$totaltiempo <- df$tiempo1 + df$tiempo2\n",
    "df"
   ]
  },
  {
   "cell_type": "markdown",
   "metadata": {
    "button": false,
    "new_sheet": false,
    "run_control": {
     "read_only": false
    }
   },
   "source": [
    "Existen funciones en R que operan directamente sobre data frames.  \n",
    "Las funciones utlizan los nombres, reconocen factores, etc."
   ]
  },
  {
   "cell_type": "code",
   "execution_count": 5,
   "metadata": {
    "button": false,
    "new_sheet": false,
    "run_control": {
     "read_only": false
    }
   },
   "outputs": [
    {
     "data": {
      "image/png": "[encoded data removed]",
      "text/plain": [
       "plot without title"
      ]
     },
     "metadata": {},
     "output_type": "display_data"
    }
   ],
   "source": [
    "plot(df, col = c(\"red\",\"green\")[df$sexo]) # rojo = hombre, verde = mujer"
   ]
  },
  {
   "cell_type": "markdown",
   "metadata": {
    "button": false,
    "new_sheet": false,
    "run_control": {
     "read_only": false
    }
   },
   "source": [
    "---\n",
    "\n",
    "__Ejercicio.__  \n",
    "Añade una nueva columna con la media de los dos tiempos. \n",
    "Añade una nueva columna que indique si los estudiantes han probado el test: Media < 13.  \n",
    "Dibuja la edad vs el tiempo."
   ]
  },
  {
   "cell_type": "code",
   "execution_count": 6,
   "metadata": {
    "button": false,
    "new_sheet": false,
    "run_control": {
     "read_only": false
    }
   },
   "outputs": [],
   "source": [
    "# solución\n",
    "df$tiempomedio = (df$tiempo1 + df$tiempo2)/2"
   ]
  },
  {
   "cell_type": "markdown",
   "metadata": {
    "button": false,
    "new_sheet": false,
    "run_control": {
     "read_only": false
    }
   },
   "source": [
    "---\n",
    "\n",
    "Las bases de datos o datasets (por ejemplo en formato excel o csv) se importan en R como data frames para análisis posteriores. \n",
    "La librería `base` de R proporciona una serie de datasets de ejemplo (e.g. swiss)"
   ]
  },
  {
   "cell_type": "code",
   "execution_count": 10,
   "metadata": {
    "button": false,
    "new_sheet": false,
    "run_control": {
     "read_only": false
    }
   },
   "outputs": [
    {
     "name": "stdout",
     "output_type": "stream",
     "text": [
      "'data.frame':\t47 obs. of  6 variables:\n",
      " $ Fertility       : num  80.2 83.1 92.5 85.8 76.9 76.1 83.8 92.4 82.4 82.9 ...\n",
      " $ Agriculture     : num  17 45.1 39.7 36.5 43.5 35.3 70.2 67.8 53.3 45.2 ...\n",
      " $ Examination     : int  15 6 5 12 17 9 16 14 12 16 ...\n",
      " $ Education       : int  12 9 5 7 15 7 7 8 7 13 ...\n",
      " $ Catholic        : num  9.96 84.84 93.4 33.77 5.16 ...\n",
      " $ Infant.Mortality: num  22.2 22.2 20.2 20.3 20.6 26.6 23.6 24.9 21 24.4 ...\n"
     ]
    }
   ],
   "source": [
    "data(swiss)\n",
    "?swiss\n",
    "str(swiss)"
   ]
  },
  {
   "cell_type": "markdown",
   "metadata": {
    "button": false,
    "new_sheet": false,
    "run_control": {
     "read_only": false
    }
   },
   "source": [
    "---\n",
    "\n",
    "__Ejercicio.__  \n",
    "Utiliza este data frame (`swiss`) para aplicar las diferentes operaciones que hemos visto. Por ejemplo:\n",
    "* Busca en la ayuda del data frame (`swiss`) el ejemplo en que se hace una regresión lineal. Copia ese ejemplo.\n",
    "* Trata de explicar la relacion existente entre la \"Education\" y \"Examination\" con un plot o una regresión lineal entre las dos variables.\n",
    "* Convierte la variable `catholic` del data frame `swiss` en una variable categórica (por ejemplo de tipo lógico con la condicion > 55 %). Posteriormente conviértela a factor. Haz una tabla de frequencias: ¿Como se ha dividido el país?\n",
    "* Haz un nuevo data.frame `swiss2` que sólo contenga las columnas \"Fertility\", \"Agriculture\" e \"Infant.Mortality\". \n",
    "* Dibuja un scatterplot de `swiss2`\n"
   ]
  },
  {
   "cell_type": "code",
   "execution_count": 9,
   "metadata": {
    "button": false,
    "new_sheet": false,
    "run_control": {
     "read_only": false
    }
   },
   "outputs": [
    {
     "data": {
      "text/plain": [
       "\n",
       "Call:\n",
       "lm(formula = Fertility ~ ., data = swiss)\n",
       "\n",
       "Residuals:\n",
       "     Min       1Q   Median       3Q      Max \n",
       "-15.2743  -5.2617   0.5032   4.1198  15.3213 \n",
       "\n",
       "Coefficients:\n",
       "                 Estimate Std. Error t value Pr(>|t|)    \n",
       "(Intercept)      66.91518   10.70604   6.250 1.91e-07 ***\n",
       "Agriculture      -0.17211    0.07030  -2.448  0.01873 *  \n",
       "Examination      -0.25801    0.25388  -1.016  0.31546    \n",
       "Education        -0.87094    0.18303  -4.758 2.43e-05 ***\n",
       "Catholic          0.10412    0.03526   2.953  0.00519 ** \n",
       "Infant.Mortality  1.07705    0.38172   2.822  0.00734 ** \n",
       "---\n",
       "Signif. codes:  0 ‘***’ 0.001 ‘**’ 0.01 ‘*’ 0.05 ‘.’ 0.1 ‘ ’ 1\n",
       "\n",
       "Residual standard error: 7.165 on 41 degrees of freedom\n",
       "Multiple R-squared:  0.7067,\tAdjusted R-squared:  0.671 \n",
       "F-statistic: 19.76 on 5 and 41 DF,  p-value: 5.594e-10\n"
      ]
     },
     "metadata": {},
     "output_type": "display_data"
    },
    {
     "data": {
      "image/png": "[encoded data removed]",
      "text/plain": [
       "plot without title"
      ]
     },
     "metadata": {},
     "output_type": "display_data"
    }
   ],
   "source": [
    "# solución\n",
    "require(stats); require(graphics)\n",
    "pairs(swiss, panel = panel.smooth, main = \"swiss data\",\n",
    "      col = 3 + (swiss$Catholic > 50))\n",
    "summary(lm(Fertility ~ . , data = swiss))\n",
    "\n",
    "# Education  vs examination\n",
    "# Conforme mayor es el grado de estudios superiores al primario en la población,\n",
    "# Más probable es obtener una nota alta en los exámenes militares"
   ]
  },
  {
   "cell_type": "code",
   "execution_count": 33,
   "metadata": {},
   "outputs": [
    {
     "data": {
      "text/plain": [
       "\n",
       " A  B \n",
       "30 17 "
      ]
     },
     "metadata": {},
     "output_type": "display_data"
    }
   ],
   "source": [
    "# Convierte la variable `catholic` del data frame `swiss` en una variable categórica\n",
    "# (por ejemplo de tipo lógico con la condicion > 55 %).\n",
    "# Posteriormente conviértela a factor. Haz una tabla de frequencias: ¿Como se ha dividido el país?\n",
    "\n",
    "# swiss$Catholic <- factor(swiss$Catholic > 55)\n",
    "# levels(swiss$Catholic) <- c('A', 'B')\n",
    "table(swiss$Catholic)"
   ]
  },
  {
   "cell_type": "code",
   "execution_count": 38,
   "metadata": {},
   "outputs": [
    {
     "data": {
      "image/png": "[encoded data removed]",
      "text/plain": [
       "plot without title"
      ]
     },
     "metadata": {},
     "output_type": "display_data"
    }
   ],
   "source": [
    "# Haz un nuevo data.frame `swiss2` que sólo contenga las columnas \"Fertility\", \"Agriculture\" e \"Infant.Mortality\".\n",
    "swiss2 <- data.frame(swiss$Fertility, swiss$Agriculture, swiss$Infant.Mortality)\n",
    "plot(swiss2)"
   ]
  },
  {
   "cell_type": "markdown",
   "metadata": {
    "button": false,
    "new_sheet": false,
    "run_control": {
     "read_only": false
    }
   },
   "source": [
    "## Funciones en R\n",
    "* Las funciones permiten realizar operaciones sobre objetos de una manera estructurada. La forma básica de definir una función (por ejemplo, llamada *function.name*) en R es la siguiente:\n",
    "\n",
    "```{r}\n",
    "function.name <- function(arg1, arg2, ..., argN) {\n",
    "# statements\n",
    "}\n",
    "```\n",
    " \n",
    "*arg1, ..., argN* son las variables y/o argumentos de entrada que necesita la función\n",
    "    \n",
    "    \n",
    "* La forma de llamar a esta función sería tal que así:\n",
    "\n",
    "```{r}\n",
    "res <- function.name(arg1, arg2, ..., argN)\n",
    "```\n",
    "     \n",
    "*res* es la variable de salida que devuelve la función como resultado de las operaciones hechas sobre las variables de entrada."
   ]
  },
  {
   "cell_type": "code",
   "execution_count": 2,
   "metadata": {
    "button": false,
    "new_sheet": false,
    "run_control": {
     "read_only": false
    }
   },
   "outputs": [
    {
     "name": "stdout",
     "output_type": "stream",
     "text": [
      "[1] \"Hello world\"\n"
     ]
    }
   ],
   "source": [
    "# Es posible definir una función sin ninguna variable de entrada (aunque no tiene mucho sentido)\n",
    "# Función \"sin función\"\n",
    "hello <- function() {\n",
    " print(\"Hello world\")\n",
    "}\n",
    "hello()"
   ]
  },
  {
   "cell_type": "code",
   "execution_count": 5,
   "metadata": {
    "button": false,
    "new_sheet": false,
    "run_control": {
     "read_only": false
    }
   },
   "outputs": [
    {
     "data": {
      "text/html": [
       "12"
      ],
      "text/latex": [
       "12"
      ],
      "text/markdown": [
       "12"
      ],
      "text/plain": [
       "[1] 12"
      ]
     },
     "metadata": {},
     "output_type": "display_data"
    }
   ],
   "source": [
    "# Ejemplo de función con dos variables de entrada\n",
    "# Calcula la suma de dos números\n",
    "fun.sum <- function(x, y = 2) {\n",
    " return(x + y)\n",
    "}\n",
    "fun.sum(5, 7)"
   ]
  },
  {
   "cell_type": "code",
   "execution_count": null,
   "metadata": {
    "button": false,
    "new_sheet": false,
    "run_control": {
     "read_only": false
    }
   },
   "outputs": [],
   "source": [
    "# Cálculo del máximo y el mínimo de un vector\n",
    "max.min <- function(x) {\n",
    " return(c(min(x), max(x)))\n",
    "}\n",
    "vec <- 1:100\n",
    "max.min(vec)"
   ]
  },
  {
   "cell_type": "markdown",
   "metadata": {
    "button": false,
    "new_sheet": false,
    "run_control": {
     "read_only": false
    }
   },
   "source": [
    "### Ejercicio\n",
    "Construye una función llamada *IMC* que calcule el *Indice de Masa Corporal* a partir del peso (en kg) y la altura (en m). \n",
    "IMC = peso/altura^2."
   ]
  },
  {
   "cell_type": "code",
   "execution_count": null,
   "metadata": {
    "button": false,
    "new_sheet": false,
    "run_control": {
     "read_only": false
    }
   },
   "outputs": [],
   "source": [
    "peso = c(55, 63, 77, 82, 61, 75, 92)\n",
    "altura = c(1.60, 1.73, 1.71, 1.75, 1.58, 1.72, 1.81)\n",
    "\n",
    "IMC <- function(peso, altura) {\n",
    "    # funcion para calcular el IMC a partir del peso y la altura\n",
    "    return(peso/altura**2)\n",
    "}\n",
    "IMC(peso, altura)"
   ]
  },
  {
   "cell_type": "markdown",
   "metadata": {
    "button": false,
    "new_sheet": false,
    "run_control": {
     "read_only": false
    }
   },
   "source": [
    "* Hay variables de entrada que son obligatorias y otras que son opcionales. Por ejemplo, la función *log* tiene una variable de entrada obligatoria (el número del cual se desea calcular el logaritmo) y otra opcional (si no se especifica lo contrario, se calcular el logaritmo natural, es decir, en base *e*)."
   ]
  },
  {
   "cell_type": "code",
   "execution_count": null,
   "metadata": {
    "button": false,
    "new_sheet": false,
    "run_control": {
     "read_only": false
    }
   },
   "outputs": [],
   "source": [
    "log(exp(1))\n",
    "log(exp(1), base = 2)"
   ]
  },
  {
   "cell_type": "code",
   "execution_count": null,
   "metadata": {
    "button": false,
    "new_sheet": false,
    "run_control": {
     "read_only": false
    }
   },
   "outputs": [],
   "source": [
    "# Esta función, por ejemplo, admite un argumento de entrada opcional (\"operator\"), que puede tomar los valores \"power\" o \"divide\".\n",
    "# Función para realizar operaciones (elevar al cuadrado o dividir) sobre dos números\n",
    "operate.2num = function(x, y, operator = NULL) {\n",
    "    if (is.null(operator)) {\n",
    "        return(c(x, y))\n",
    "    } else if (operator == \"power\") {\n",
    "        return(x^y)\n",
    "    } else if (operator == \"divide\") {\n",
    "        return(x/y)\n",
    "    }\n",
    "}\n",
    "operate.2num(10, 2)\n",
    "operate.2num(10, 2, \"power\")\n",
    "operate.2num(10, 2, \"divide\")"
   ]
  },
  {
   "cell_type": "markdown",
   "metadata": {
    "button": false,
    "new_sheet": false,
    "run_control": {
     "read_only": false
    }
   },
   "source": [
    "### Ejercicio\n",
    "Modifica la función anterior (*operate.2num*) para que:\n",
    "1. permita también calcular el logaritmo de \"x\" en base \"y\"\n",
    "2. en el caso de la operación \"power\" sea el mayor de los dos números el que se eleve al menor"
   ]
  },
  {
   "cell_type": "code",
   "execution_count": null,
   "metadata": {
    "button": false,
    "new_sheet": false,
    "run_control": {
     "read_only": false
    }
   },
   "outputs": [],
   "source": [
    "# Modificación de la función \"operate.2num\"\n",
    "operate.2num = function(x, y, operator = NULL) {\n",
    "    if (is.null(operator)) {\n",
    "        return(c(x, y))\n",
    "    } else if (operator == \"power\") {\n",
    "        return(max(c(x,y))^min(c(x,y)))\n",
    "    } else if (operator == \"divide\") {\n",
    "        return(x/y)\n",
    "    } else if (operator == \"log\") {\n",
    "        return(log(x, y))\n",
    "    }\n",
    "}\n",
    "operate.2num(10, 2)\n",
    "operate.2num(10, 2, \"power\")\n",
    "operate.2num(10, 2, \"divide\")\n",
    "operate.2num(10, 2, \"log\")"
   ]
  },
  {
   "cell_type": "markdown",
   "metadata": {
    "button": false,
    "new_sheet": false,
    "run_control": {
     "read_only": false
    }
   },
   "source": [
    "* La ayuda de una función en R se puede obtener mediante los comandos `?` y `help()`, y se estructura en varias secciones:\n",
    "   +  **Description**: breve descripción de lo que hace la función.  \n",
    "   +  **Usage**: sintaxis de la función.\n",
    "   +  **Arguments**: explicación de los argumentos que recibe la función.\n",
    "   +  **Value**: explicación del objeto que devuelve la función. El objeto devuelto puede ser un valor, una lista, una matriz, …\n",
    "   +  **References**: bibliografía relacionada con los métodos implementados en la función.\n",
    "   +  **See Also**: funciones relacionadas.\n",
    "   +  **Examples**: esta es sin duda la sección más importante ya que muestra ejemplos efectivos del uso de la función."
   ]
  },
  {
   "cell_type": "code",
   "execution_count": null,
   "metadata": {
    "button": false,
    "new_sheet": false,
    "run_control": {
     "read_only": false
    }
   },
   "outputs": [],
   "source": [
    "?mean()\n",
    "help(mean)"
   ]
  },
  {
   "cell_type": "markdown",
   "metadata": {
    "button": false,
    "new_sheet": false,
    "run_control": {
     "read_only": false
    }
   },
   "source": [
    "* Si queremos utilizar una función que no recordamos (o no conocemos), pero de la que sabemos (o sospechamos) que su nombre contiene el término *mean*, podemos utilizar *apropos(\"mean\")*, que nos devuelve un listado de funciones que contienen dicho témino en su nombre."
   ]
  },
  {
   "cell_type": "code",
   "execution_count": null,
   "metadata": {
    "button": false,
    "new_sheet": false,
    "run_control": {
     "read_only": false
    }
   },
   "outputs": [],
   "source": [
    "apropos(\"mean\")"
   ]
  },
  {
   "cell_type": "markdown",
   "metadata": {
    "button": false,
    "new_sheet": false,
    "run_control": {
     "read_only": false
    }
   },
   "source": [
    "## Librerías en R\n",
    "\n",
    "* La instalación básica de R viene equipada con múltiples funciones para análisis estadístico, importación de datos, gráficos, etc. Sin embargo, puede ocurrir que necesitemos llevar a cabo un análisis muy específico para el cual no encontremos las funciones adecuadas. En ese caso, la gran ventaja de R radica en que, en la práctica, casi siempre será posible encontrar un paquete (ó librería) que ya haya sido diseñado para el fin que perseguimos.\n",
    "* Un paquete es una colección de funciones y/o datos con un propósito concreto (normalmente bastante específico) que se almacenan en una carpeta conforme a una estructura bien definida, fácilmente entendible por R.\n",
    "* En la web de R se puede consultar la lista de paquetes disponibles (actualmente, más de 13000): https://cran.r-project.org/web/packages/. En la sección Task Views (https://cran.r-project.org/web/views/) se puede consultar una lista de paquetes ordenada según áreas de aplicación.\n",
    "* El comando *library()* abre una ventana con información sobre los paquetes instalados en R. "
   ]
  },
  {
   "cell_type": "code",
   "execution_count": null,
   "metadata": {
    "button": false,
    "new_sheet": false,
    "run_control": {
     "read_only": false
    }
   },
   "outputs": [],
   "source": [
    "library()"
   ]
  },
  {
   "cell_type": "markdown",
   "metadata": {
    "button": false,
    "new_sheet": false,
    "run_control": {
     "read_only": false
    }
   },
   "source": [
    "* Podemos ver un listado completo de los paquetes actualmente cargados en memoria con el comando `search()`. "
   ]
  },
  {
   "cell_type": "code",
   "execution_count": null,
   "metadata": {
    "button": false,
    "new_sheet": false,
    "run_control": {
     "read_only": false
    }
   },
   "outputs": [],
   "source": [
    "search()"
   ]
  },
  {
   "cell_type": "markdown",
   "metadata": {
    "button": false,
    "new_sheet": false,
    "run_control": {
     "read_only": false
    }
   },
   "source": [
    "* Para poder usar un paquete es necesario instalarlo y después cargarlo en memoria (comando `library`).\n",
    "  \n",
    " + Instalación de librerías:\n",
    "     + CRAN \n",
    "     + GitHub (hay que instalar antes el paquete \"devtools\")\n",
    "     + local"
   ]
  },
  {
   "cell_type": "code",
   "execution_count": null,
   "metadata": {
    "button": false,
    "new_sheet": false,
    "run_control": {
     "read_only": false
    }
   },
   "outputs": [],
   "source": [
    "## installing from CRAN ##\n",
    "# R.matlab package (https://cran.r-project.org/web/packages/R.matlab/index.html). \n",
    "# R.matlab provides methods for controlling MATLAB via R and sending and retrieving data between R and MATLAB.\n",
    "install.packages(\"R.matlab\")\n",
    "\n",
    "# La primera vez que se instale un paquete, R  preguntará el país desde dónde se desea descargar\n",
    "# (es aconsejable hacerlo desde un mirror español). \n",
    "\n",
    "# Una vez instalado no se necesitará instalarlo más, pero hay que cargarlo en memoria para poder usarlo\n",
    "library(R.matlab)\n",
    "existsFunction(\"writeMat\")"
   ]
  },
  {
   "cell_type": "code",
   "execution_count": null,
   "metadata": {
    "button": false,
    "new_sheet": false,
    "run_control": {
     "read_only": false
    }
   },
   "outputs": [],
   "source": [
    "# https://cran.r-project.org/web/packages/devtools/index.html\n",
    "install.packages(\"devtools\")\n",
    "library(devtools)\n",
    "\n",
    "## installing from GitHub ##\n",
    "install_github(\"HenrikBengtsson/R.matlab@develop\")\n",
    "library(R.matlab)"
   ]
  },
  {
   "cell_type": "code",
   "execution_count": null,
   "metadata": {
    "button": false,
    "new_sheet": false,
    "run_control": {
     "read_only": false
    }
   },
   "outputs": [],
   "source": [
    "## instalación local de un paquete comprimido\n",
    "install.packages(\"./pathLocal/paquete.tar.gz\", repos = NULL, type = \"source\")\n",
    "library(paquete)"
   ]
  },
  {
   "cell_type": "markdown",
   "metadata": {
    "button": false,
    "new_sheet": false,
    "run_control": {
     "read_only": false
    }
   },
   "source": [
    "* En ocasiones se hace necesario eliminar de la memoria algún paquete que hemos cargado previamente (por ejemplo, porque deseamos cargar una versión que acabamos de actualizar). Para ello basta con ejecutar el comando *detach*"
   ]
  },
  {
   "cell_type": "code",
   "execution_count": null,
   "metadata": {
    "button": false,
    "new_sheet": false,
    "run_control": {
     "read_only": false
    }
   },
   "outputs": [],
   "source": [
    "detach(\"package:R.matlab\")\n",
    "# comprueba si existe la función especificada\n",
    "existsFunction(\"writeMat\") "
   ]
  },
  {
   "cell_type": "markdown",
   "metadata": {
    "button": false,
    "new_sheet": false,
    "run_control": {
     "read_only": false
    }
   },
   "source": [
    "* Si queremos eliminar físicamente del disco duro un paquete que tengamos instalado, basta ejecutar la función *remove.packages*"
   ]
  },
  {
   "cell_type": "code",
   "execution_count": null,
   "metadata": {
    "button": false,
    "new_sheet": false,
    "run_control": {
     "read_only": false
    }
   },
   "outputs": [],
   "source": [
    "remove.packages(\"R.matlab\")"
   ]
  },
  {
   "cell_type": "markdown",
   "metadata": {
    "button": false,
    "new_sheet": false,
    "run_control": {
     "read_only": false
    }
   },
   "source": [
    "* Para ver un listado de todos los paquetes que tenemos en nuestro ordenador que pueden ser actualizados"
   ]
  },
  {
   "cell_type": "code",
   "execution_count": null,
   "metadata": {
    "button": false,
    "new_sheet": false,
    "run_control": {
     "read_only": false
    }
   },
   "outputs": [],
   "source": [
    "old.packages()"
   ]
  },
  {
   "cell_type": "markdown",
   "metadata": {
    "button": false,
    "new_sheet": false,
    "run_control": {
     "read_only": false
    }
   },
   "source": [
    "* Para actualizar dichos paquetes"
   ]
  },
  {
   "cell_type": "code",
   "execution_count": null,
   "metadata": {
    "button": false,
    "new_sheet": false,
    "run_control": {
     "read_only": false
    }
   },
   "outputs": [],
   "source": [
    "update.packages()"
   ]
  },
  {
   "cell_type": "markdown",
   "metadata": {
    "button": false,
    "new_sheet": false,
    "run_control": {
     "read_only": false
    }
   },
   "source": [
    "* Finalmente, podemos querer cargar una función que hayamos creado nosotros mismos o nos hayamos descargado en local, pero que no sea una librería. Para ello tenemos que usar el comando `source`. El problema de este comando es que hay que volver a aplicarlo siempre que hagamos un cambio en la funcion que queramos utilizar."
   ]
  },
  {
   "cell_type": "code",
   "execution_count": null,
   "metadata": {
    "button": false,
    "new_sheet": false,
    "run_control": {
     "read_only": false
    }
   },
   "outputs": [],
   "source": [
    "source(\"/home/jovyan/R/show.name.R\")\n",
    "show.name(\"Rodrigo\")"
   ]
  },
  {
   "cell_type": "markdown",
   "metadata": {
    "button": false,
    "new_sheet": false,
    "run_control": {
     "read_only": false
    }
   },
   "source": [
    "## RStudio\n",
    "* RStudio es un IDE (*Integrated Development Environment*, o Entorno de Desarrollo Integrado) de código abierto que permite interactuar con R de manera muy simple. Por decirlo de una manera gráfica, R será nuestro motor para el análisis de datos y Rstudio la carrocería que nos va a permitir manejar cómodamente toda la potencia del motor.\n",
    "* Entre otras ventajas, Rstudio utiliza diferentes colores para las distintas clases de objetos de R, permite autocompletar código (tecla tabulador), incluye un sistema de menús de ayuda muy completo, cuenta con un potente sistema para la gestión, descarga y construcción de librerías, dispone de un depurador de código que detecta posibles errores de sintaxis, es multiplataforma (existen versiones para Windows, Linux y Mac)...\n",
    "* Instalación: \n",
    "http://www.rstudio.com/\n",
    "* Por defecto, RStudio tiene cuatro paneles principales (la interfaz puede modificarse en *Tools → Options → PaneLayout*). \n",
    "   + El panel inferior izquierdo es una consola de R. En ella se puede escribir y ejecutar código. \n",
    "   + El panel superior izquierdo es un editor de código. Los ficheros que se abran y se editen irán apareciendo en distintas pestañas.\n",
    "   + Los paneles de la derecha son menos importantes. \n",
    "      + El superior contiene un listado de las variables en el entorno y un histórico de comandos ejecutados. \n",
    "      + De entre todas las pestañas que aparecen en el inferior, las más usadas generalmente son:\n",
    "        + Files: da acceso al sistema de ficheros del disco duro.\n",
    "        + Plots: aloja los gráficos que cree R.\n",
    "        + Help: muestra la página de ayuda de las funciones cuando la solicite el usuario.             \n",
    "* Permite la creación de proyectos e integra funcionalidades git.\n"
   ]
  }
 ],
 "metadata": {
  "kernelspec": {
   "display_name": "R",
   "language": "R",
   "name": "ir"
  },
  "language_info": {
   "codemirror_mode": "r",
   "file_extension": ".r",
   "mimetype": "text/x-r-source",
   "name": "R",
   "pygments_lexer": "r",
   "version": "3.6.1"
  }
 },
 "nbformat": 4,
 "nbformat_minor": 2
}
