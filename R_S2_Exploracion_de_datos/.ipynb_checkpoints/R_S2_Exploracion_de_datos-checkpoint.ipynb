{
 "cells": [
  {
   "cell_type": "markdown",
   "metadata": {},
   "source": [
    "# HERRAMIENTAS BÁSICAS PARA IMPORTAR, TRANSFORMAR Y VISUALIZAR DATOS"
   ]
  },
  {
   "cell_type": "markdown",
   "metadata": {},
   "source": [
    "Maialen Iturbide \n",
    "\n",
    "miturbide@ifca.unican.es"
   ]
  },
  {
   "cell_type": "markdown",
   "metadata": {},
   "source": [
    "<img src=\"figs/data-science-explore.png\" caption=\"fuente: Wickham and Grolemund, 2018\" />"
   ]
  },
  {
   "cell_type": "markdown",
   "metadata": {},
   "source": [
    "![manualRdatascience](figs/manual_R_for_Data_Science.jpg)\n",
    "\n",
    "http://r4ds.had.co.nz/index.html\n"
   ]
  },
  {
   "cell_type": "markdown",
   "metadata": {},
   "source": [
    "***\n",
    "## CONTENIDOS\n",
    "### Visualizar \n",
    "### Transformar \n",
    "### Importar/Exportar\n",
    "### Ordenar\n",
    "### Caso de estudio\n",
    "***"
   ]
  },
  {
   "cell_type": "markdown",
   "metadata": {},
   "source": [
    "## ANTES DE EMPEZAR...UNA INTRODUCCIÓN A **KAGGLE**\n",
    "\n",
    "\n",
    "Kaggle es una plataforma Web que reune a la mayor comunidad de data sciencetists del mundo: https://www.kaggle.com/\n",
    "\n",
    "Kaggle ofrece:\n",
    " \n",
    " * **Competiciones de Machine learning:** Este fue el primer producto de Kaggle. Las Compañías publican problemas y los participantes compiten para construir el mejor algoritmo que dé solución al problema planteado.\n",
    " * **Kernels:** Son notebooks y scripts de python o de R que la comunidad comparte.\n",
    " * **Datasets públicos:** Los miembros de la comunidad comparten conjuntos de datos.\n",
    " * **Kaggle Learn:** ofrece cursos para aprender o mejorar en data science (e.g. python, machine learning, visualización de datos...)\n",
    "\n",
    "![](figs/kaggle_learn.png)\n",
    "\n",
    "\n",
    "\n"
   ]
  },
  {
   "cell_type": "markdown",
   "metadata": {},
   "source": [
    "***"
   ]
  },
  {
   "cell_type": "markdown",
   "metadata": {},
   "source": [
    "## **VISUALIZAR DATOS**\n",
    "### (Dataset de ejemplo: *Iris de Fisher* y *mpg*)\n",
    "\n",
    "La **visualización** se trata de crear **\"plots\"** o gráficos informativos que ayuden a **entender los datos**.\n",
    "\n",
    "En esta sección utilizaremos el **dataset de Iris de Fisher** (también llamado dataset de Iris de Anderson) (https://en.wikipedia.org/wiki/Iris_flower_data_set).\n",
    "\n",
    "<img src=\"figs/iris_setosa.jpg\" width= \"250\"/> <img src=\"figs/iris_virginica.jpg\" width= \"220\"/> <img src=\"figs/iris_versicolor.jpg\" width= \"240\"/>; \n",
    "\n",
    "El conjunto de datos contiene 50 muestras de cada una de tres especies de Iris (**Iris setosa**, **Iris virginica** e **Iris versicolor**). Se midieron cuatro rasgos de cada muestra: **El largo y ancho de los sépalos y el largo y ancho de los pétalos**. Basado en la combinación de estos cuatro rasgos, Fisher desarrolló un modelo discriminante lineal para distinguir entre una especie y otra.\n",
    "\n",
    "Este dataset se encuentra en formato **csv** en kaggle (https://www.kaggle.com/uciml/iris).\n",
    "\n",
    "Lo podemos leer (una vez descargado) en nuestra sesión de R con la función `read.csv` o `read.table`:\n",
    "\n"
   ]
  },
  {
   "cell_type": "code",
   "execution_count": null,
   "metadata": {},
   "outputs": [],
   "source": [
    "iris.kagg <- read.table(file = \"data/Iris.csv\", sep = \",\", header = TRUE)\n",
    "str(iris.kagg)"
   ]
  },
  {
   "cell_type": "markdown",
   "metadata": {},
   "source": [
    "\n",
    "Este dataset también se encuentra disponible en el paquete `datasets` de R:\n"
   ]
  },
  {
   "cell_type": "code",
   "execution_count": null,
   "metadata": {},
   "outputs": [],
   "source": [
    "library(help = \"datasets\")"
   ]
  },
  {
   "cell_type": "code",
   "execution_count": null,
   "metadata": {},
   "outputs": [],
   "source": [
    "?iris"
   ]
  },
  {
   "cell_type": "markdown",
   "metadata": {},
   "source": [
    "Podemos ver la estructura de `iris` con la función `str()`:"
   ]
  },
  {
   "cell_type": "code",
   "execution_count": null,
   "metadata": {},
   "outputs": [],
   "source": [
    "str(iris)"
   ]
  },
  {
   "cell_type": "markdown",
   "metadata": {},
   "source": [
    "Fijándonos en la estructura de ambos data.frames (objetos iris.kagg e iris), vemos que la versión de _iris_ de kaggle tiene una variable más (ID)."
   ]
  },
  {
   "cell_type": "markdown",
   "metadata": {},
   "source": [
    "La función de visualización básica de R es `plot` (`?plot` para acceder a la ayuda). "
   ]
  },
  {
   "cell_type": "code",
   "execution_count": null,
   "metadata": {},
   "outputs": [],
   "source": [
    "plot(iris$Sepal.Length, iris$Sepal.Width, \n",
    "main=\"Edgar Anderson's Iris Data\")"
   ]
  },
  {
   "cell_type": "markdown",
   "metadata": {},
   "source": [
    "Visualicemos por ejemplo esta misma gráfica pero **diferenciando con colores las diferentes especies de Iris**. Para ello realizaremos una pequeña transformación de los datos en los pasos que se muestran a continuación."
   ]
  },
  {
   "cell_type": "markdown",
   "metadata": {},
   "source": [
    "La función `levels()` nos devuelve las especies que recoge el conjunto de datos:"
   ]
  },
  {
   "cell_type": "code",
   "execution_count": null,
   "metadata": {},
   "outputs": [],
   "source": [
    "levels(iris$Species)"
   ]
  },
  {
   "cell_type": "code",
   "execution_count": null,
   "metadata": {},
   "outputs": [],
   "source": [
    "# Extraigo los datos que corresponden únicamente a la especie de Iris setosa\n",
    "ind <- which(iris$Species == \"setosa\")\n",
    "str(iris[ind,])\n",
    "\n",
    "# La función `subset` nos permite hacer lo mismo en un solo paso\n",
    "setosa <- subset(iris, Species == \"setosa\")\n",
    "str(setosa)"
   ]
  },
  {
   "cell_type": "markdown",
   "metadata": {},
   "source": [
    "Si aplicamos `subset()` para cada una de las especies, mediante las funciones `plot` y `points` podemos diferenciarlas en un mismo gráfico:"
   ]
  },
  {
   "cell_type": "code",
   "execution_count": null,
   "metadata": {},
   "outputs": [],
   "source": [
    "versicolor <- subset(iris, Species == \"versicolor\")\n",
    "virginica <- subset(iris, Species == \"virginica\")"
   ]
  },
  {
   "cell_type": "code",
   "execution_count": null,
   "metadata": {},
   "outputs": [],
   "source": [
    "plot(setosa$Sepal.Length, setosa$Sepal.Width, xlim = c(4, 8), ylim = c(2, 4.5))\n",
    "points(virginica$Sepal.Length, virginica$Sepal.Width, col = \"green\")\n",
    "points(versicolor$Sepal.Length, versicolor$Sepal.Width, col = \"red\")"
   ]
  },
  {
   "cell_type": "markdown",
   "metadata": {},
   "source": [
    "Para este caso concreto, la transformación de arriba no es necesaria, ya que podemos pasarle al argumento `col` la variable `Species`:"
   ]
  },
  {
   "cell_type": "code",
   "execution_count": null,
   "metadata": {},
   "outputs": [],
   "source": [
    "plot(iris$Sepal.Length, iris$Sepal.Width, col = iris$Species)"
   ]
  },
  {
   "cell_type": "markdown",
   "metadata": {},
   "source": [
    "Existen librerías más potentes para la visualización de datos, por ejemplo, `ggplot` o **`lattice`**:"
   ]
  },
  {
   "cell_type": "code",
   "execution_count": null,
   "metadata": {},
   "outputs": [],
   "source": [
    "install.packages(\"lattice\")"
   ]
  },
  {
   "cell_type": "code",
   "execution_count": null,
   "metadata": {},
   "outputs": [],
   "source": [
    "library(lattice)\n",
    "xyplot(Sepal.Width~Sepal.Length, data = iris)"
   ]
  },
  {
   "cell_type": "code",
   "execution_count": null,
   "metadata": {},
   "outputs": [],
   "source": [
    "xyplot(Sepal.Width~Sepal.Length|Species, data = iris)"
   ]
  },
  {
   "cell_type": "code",
   "execution_count": null,
   "metadata": {},
   "outputs": [],
   "source": [
    "xyplot(Sepal.Width~Sepal.Length, group = Species, data = iris, auto.key = TRUE)\n",
    "# auto.key genera una leyenda de color"
   ]
  },
  {
   "cell_type": "code",
   "execution_count": null,
   "metadata": {},
   "outputs": [],
   "source": [
    "xyplot(Petal.Width~Petal.Length, group = Species, data = iris, \n",
    "       auto.key = TRUE, \n",
    "       col = c(\"orange\", \"blue\", \"green\"))"
   ]
  },
  {
   "cell_type": "code",
   "execution_count": null,
   "metadata": {},
   "outputs": [],
   "source": [
    "cloud(Petal.Width ~ Petal.Length * Sepal.Width, group = Species, data = iris, auto.key = TRUE)"
   ]
  },
  {
   "cell_type": "code",
   "execution_count": null,
   "metadata": {},
   "outputs": [],
   "source": [
    "splom(~iris[1:4], groups = Species, data = iris)"
   ]
  },
  {
   "cell_type": "code",
   "execution_count": null,
   "metadata": {},
   "outputs": [],
   "source": [
    "bwplot(Petal.Length~Species, data = iris)"
   ]
  },
  {
   "cell_type": "markdown",
   "metadata": {},
   "source": [
    "## El paquete **tidyverse**\n",
    "### Datasets de ejemplo: *Iris de Fisher* y *mpg*"
   ]
  },
  {
   "cell_type": "code",
   "execution_count": null,
   "metadata": {},
   "outputs": [],
   "source": [
    "# install.packages(\"tidyverse\")"
   ]
  },
  {
   "cell_type": "code",
   "execution_count": null,
   "metadata": {},
   "outputs": [],
   "source": [
    "#x <- c(\"ggplot2\",\"dplyr\",\"tidyr\",\"readr\",\"purrr\",\"tibble\",\"stringr\",\"forcats\")\n",
    "#install.packages(x)"
   ]
  },
  {
   "cell_type": "code",
   "execution_count": 19,
   "metadata": {},
   "outputs": [
    {
     "name": "stderr",
     "output_type": "stream",
     "text": [
      "── \u001b[1mAttaching packages\u001b[22m ─────────────────────────────────────── tidyverse 1.2.1 ──\n",
      "\u001b[32m✔\u001b[39m \u001b[34mggplot2\u001b[39m 3.2.1     \u001b[32m✔\u001b[39m \u001b[34mpurrr  \u001b[39m 0.3.2\n",
      "\u001b[32m✔\u001b[39m \u001b[34mtibble \u001b[39m 2.1.3     \u001b[32m✔\u001b[39m \u001b[34mdplyr  \u001b[39m 0.8.3\n",
      "\u001b[32m✔\u001b[39m \u001b[34mtidyr  \u001b[39m 1.0.0     \u001b[32m✔\u001b[39m \u001b[34mstringr\u001b[39m 1.4.0\n",
      "\u001b[32m✔\u001b[39m \u001b[34mreadr  \u001b[39m 1.3.1     \u001b[32m✔\u001b[39m \u001b[34mforcats\u001b[39m 0.4.0\n",
      "── \u001b[1mConflicts\u001b[22m ────────────────────────────────────────── tidyverse_conflicts() ──\n",
      "\u001b[31m✖\u001b[39m \u001b[34mdplyr\u001b[39m::\u001b[32mfilter()\u001b[39m masks \u001b[34mstats\u001b[39m::filter()\n",
      "\u001b[31m✖\u001b[39m \u001b[34mdplyr\u001b[39m::\u001b[32mlag()\u001b[39m    masks \u001b[34mstats\u001b[39m::lag()\n"
     ]
    }
   ],
   "source": [
    "library(tidyverse)\n",
    "# library(\"ggplot2\")\n",
    "# library(\"dplyr\")\n",
    "# library(\"tidyr\")\n",
    "# library(\"readr\")\n",
    "# library(\"purrr\")\n",
    "# library(\"tibble\")\n",
    "# library(\"stringr\")\n",
    "# library(\"forcats\")"
   ]
  },
  {
   "cell_type": "markdown",
   "metadata": {},
   "source": [
    "\n",
    " \n",
    " La librería tidyverse carga a su vez las siguientes librerías o paquetes: \n",
    "   * **ggplot2**, para visualizar datos.\n",
    "   * **dplyr**, para manipular datos.\n",
    "   * **tidyr**, para ordenar datos.\n",
    "   * **readr**, para importar datos.\n",
    "   * **purrr**, para programar funciones.\n",
    "   * **tibble**, para `tibbles`, una versión moderna de los `data.frames`.\n",
    "   * **stringr**, para cadenas de caracteres (character strings).\n",
    "   * **forcats**, para factores.\n",
    "   \n",
    " En el siguiente ejemplo utilizamos **`ggplot()` (paquete `ggplot2`) para visualizar** los datos de _iris_.\n",
    " \n",
    " **Se comienza una gráfica con la función `ggplot()`**, que crea un sistema de coordenadas al que **se pueden agregar capas con el operador `+`**. `ggplot(data = mpg)` crea un gráfico vacío y se completa, en este ejemplo, con otra capa de puntos, la generada por la función `geom_point`:"
   ]
  },
  {
   "cell_type": "code",
   "execution_count": null,
   "metadata": {},
   "outputs": [],
   "source": [
    "ggplot(data = iris) +\n",
    "geom_point(mapping = aes(x=Petal.Width, y=Petal.Length))"
   ]
  },
  {
   "cell_type": "code",
   "execution_count": null,
   "metadata": {},
   "outputs": [],
   "source": [
    "ggplot(data = iris, aes(Species, Petal.Length)) +\n",
    "geom_boxplot()"
   ]
  },
  {
   "cell_type": "code",
   "execution_count": null,
   "metadata": {},
   "outputs": [],
   "source": [
    "# tenemos la opción de convertir el data.frame a tibble\n",
    "iris <- as_tibble(iris)"
   ]
  },
  {
   "cell_type": "markdown",
   "metadata": {},
   "source": [
    "De aquí en adelante utilizaremos el dataset *mpg* incluido en el paquete *ggplot2*:"
   ]
  },
  {
   "cell_type": "code",
   "execution_count": null,
   "metadata": {},
   "outputs": [],
   "source": [
    "data(package = \"ggplot2\")"
   ]
  },
  {
   "cell_type": "markdown",
   "metadata": {},
   "source": [
    "---\n",
    "### Pŕactica 1"
   ]
  },
  {
   "cell_type": "markdown",
   "metadata": {},
   "source": [
    "¿que classe de objeto es `mpg`? ¿cuántas columnas y filas tiene? ¿cuántas variables? ¿de qué tipo? ¿Cuál es la descripción de cada variable? (escribe las líneas de código en la siguiente celda)"
   ]
  },
  {
   "cell_type": "code",
   "execution_count": null,
   "metadata": {},
   "outputs": [],
   "source": [
    "# Visualiza la estructura de `mpg`\n",
    "str(mpg)\n",
    "# Accede a la página de ayuda del dataset\n",
    "?mpg"
   ]
  },
  {
   "cell_type": "markdown",
   "metadata": {},
   "source": [
    "Nos fijaremos en dos variables:\n",
    "* `displ`, tamaño del motor del coche en litros\n",
    "* `hwy`, la eficiencia de combustible en millas por galón (1 mpg =  4.5 litros). Un automóvil con una eficiencia de combustible baja consume más combustible que un automóvil con una eficiencia alta cuando recorren la misma distancia."
   ]
  },
  {
   "cell_type": "markdown",
   "metadata": {},
   "source": [
    "Utiliza `ggplot` para visualizar una variable frente a la otra en la siguiente celda."
   ]
  },
  {
   "cell_type": "code",
   "execution_count": null,
   "metadata": {},
   "outputs": [],
   "source": [
    "# ggplot(...) + geom_point(...)\n",
    "ggplot(data=mpg) +\n",
    "geom_point(mapping=aes(displ, hwy))"
   ]
  },
  {
   "cell_type": "markdown",
   "metadata": {},
   "source": [
    "¿qué podemos decir de estas dos variables?\n",
    "¿La relación entre ambas es negativa o positiva? ¿que conclusión sacamos?\n",
    "\n",
    "---"
   ]
  },
  {
   "cell_type": "markdown",
   "metadata": {},
   "source": [
    "Para **asociar un parámetro estético a una variable** añadimos el nombre de ese parámetro (o argumento) en `aes()`."
   ]
  },
  {
   "cell_type": "code",
   "execution_count": null,
   "metadata": {},
   "outputs": [],
   "source": [
    "ggplot(data = mpg) + \n",
    "  geom_point(mapping = aes(x = displ, y = hwy, color = class)) "
   ]
  },
  {
   "cell_type": "markdown",
   "metadata": {},
   "source": [
    "Los colores revelan que muchos de los puntos inusuales (rojo) son coches de dos plazas. A primeras, nadie diría que un coche de este tipo es híbrido... ¡son coches deportivos! que tienen motores grandes como los SUV y las Pickup, pero son pequeños, lo que mejora su consumo de combustible."
   ]
  },
  {
   "cell_type": "markdown",
   "metadata": {},
   "source": [
    "---\n",
    "### Práctica 2\n",
    "\n",
    "1) ¿Que tipo de variable es `class`? Elige una variable continua y crea un gráfico de la misma en función de las variables `displ` y `hwy` \n",
    "¿Cómo se comportan los estéticos para variables continuas en comparación a las categóricas?\n"
   ]
  },
  {
   "cell_type": "code",
   "execution_count": null,
   "metadata": {},
   "outputs": [],
   "source": [
    "str(mpg$cty)\n",
    "# ggplot ...\n",
    "ggplot(data = mpg) +\n",
    "geom_point(mapping=aes(x = displ, y = hwy, color = cty))\n"
   ]
  },
  {
   "cell_type": "markdown",
   "metadata": {},
   "source": [
    "2) Crea un gráfico de puntos (`displ` vs `hwy`) con `ggplot` donde los puntos se diferencien por color (`color`) para una variable categórica y por tamaño de punto (`size`) para una variable continua (e.g.`cty`)."
   ]
  },
  {
   "cell_type": "code",
   "execution_count": null,
   "metadata": {},
   "outputs": [],
   "source": [
    "#ggplot(...\n",
    "ggplot(data=mpg) +\n",
    "geom_point(mapping=aes(x = displ, y = hwy, color = class, size = cty))"
   ]
  },
  {
   "cell_type": "markdown",
   "metadata": {},
   "source": [
    "3) ¿Qué ocurre cuando intentamos diferenciar los puntos por forma (`shape`) en base a una variable continua (e.g. `cty`)?"
   ]
  },
  {
   "cell_type": "code",
   "execution_count": null,
   "metadata": {},
   "outputs": [],
   "source": [
    "# ggplot...\n",
    "ggplot(mpg, aes(x = displ, y = hwy, color = class, shape= cty)) +\n",
    "geom_point()\n"
   ]
  },
  {
   "cell_type": "markdown",
   "metadata": {},
   "source": [
    "---"
   ]
  },
  {
   "cell_type": "code",
   "execution_count": null,
   "metadata": {},
   "outputs": [],
   "source": [
    "ggplot(mpg, aes(x = displ, y = hwy, color = class, shape= cty > 20)) +\n",
    "geom_point()"
   ]
  },
  {
   "cell_type": "markdown",
   "metadata": {},
   "source": [
    "Otra estrategia útil para diferenciar grupos de puntos es utilizar `facet_wrap()` como una capa de ggplot más."
   ]
  },
  {
   "cell_type": "code",
   "execution_count": null,
   "metadata": {},
   "outputs": [],
   "source": [
    "ggplot(data = mpg) + \n",
    "  geom_point(mapping = aes(x = displ, y = hwy)) + \n",
    "  facet_wrap(~class, nrow = 2)"
   ]
  },
  {
   "cell_type": "markdown",
   "metadata": {},
   "source": [
    "## **Transformar datos**\n",
    "### (Dataset de ejemplo: *flights*)"
   ]
  },
  {
   "cell_type": "markdown",
   "metadata": {},
   "source": [
    "La visualización es una herramienta importante para la generación de información, pero es raro obtener los datos en la forma en la que se necesita. A menudo, habrá que crear nuevas variables o resúmenes, o tal vez solo cambiar el nombre de las variables o reordenar las observaciones.... para que sea más fácil trabajar con los datos.\n",
    "\n",
    "Continuando con el uso de los paquetes de `tidyverse`, **utilizaremos el paquete `dplyr`** para transformar el dataset `flights` (flights departing New York City in 2013), contenido en el paquete `nyflights13`."
   ]
  },
  {
   "cell_type": "code",
   "execution_count": null,
   "metadata": {},
   "outputs": [],
   "source": [
    "# install.packages(\"nycflights13\")"
   ]
  },
  {
   "cell_type": "code",
   "execution_count": 18,
   "metadata": {},
   "outputs": [],
   "source": [
    "library(nycflights13)"
   ]
  },
  {
   "cell_type": "code",
   "execution_count": 3,
   "metadata": {},
   "outputs": [
    {
     "name": "stdout",
     "output_type": "stream",
     "text": [
      "Loading objects:\n",
      "  flights\n"
     ]
    }
   ],
   "source": [
    "load(\"data/flights.rda\", verbose=TRUE)"
   ]
  },
  {
   "cell_type": "code",
   "execution_count": 7,
   "metadata": {},
   "outputs": [
    {
     "name": "stdout",
     "output_type": "stream",
     "text": [
      "Classes ‘tbl_df’, ‘tbl’ and 'data.frame':\t336776 obs. of  19 variables:\n",
      " $ year          : int  2013 2013 2013 2013 2013 2013 2013 2013 2013 2013 ...\n",
      " $ month         : int  1 1 1 1 1 1 1 1 1 1 ...\n",
      " $ day           : int  1 1 1 1 1 1 1 1 1 1 ...\n",
      " $ dep_time      : int  517 533 542 544 554 554 555 557 557 558 ...\n",
      " $ sched_dep_time: int  515 529 540 545 600 558 600 600 600 600 ...\n",
      " $ dep_delay     : num  2 4 2 -1 -6 -4 -5 -3 -3 -2 ...\n",
      " $ arr_time      : int  830 850 923 1004 812 740 913 709 838 753 ...\n",
      " $ sched_arr_time: int  819 830 850 1022 837 728 854 723 846 745 ...\n",
      " $ arr_delay     : num  11 20 33 -18 -25 12 19 -14 -8 8 ...\n",
      " $ carrier       : chr  \"UA\" \"UA\" \"AA\" \"B6\" ...\n",
      " $ flight        : int  1545 1714 1141 725 461 1696 507 5708 79 301 ...\n",
      " $ tailnum       : chr  \"N14228\" \"N24211\" \"N619AA\" \"N804JB\" ...\n",
      " $ origin        : chr  \"EWR\" \"LGA\" \"JFK\" \"JFK\" ...\n",
      " $ dest          : chr  \"IAH\" \"IAH\" \"MIA\" \"BQN\" ...\n",
      " $ air_time      : num  227 227 160 183 116 150 158 53 140 138 ...\n",
      " $ distance      : num  1400 1416 1089 1576 762 ...\n",
      " $ hour          : num  5 5 5 5 6 5 6 6 6 6 ...\n",
      " $ minute        : num  15 29 40 45 0 58 0 0 0 0 ...\n",
      " $ time_hour     : POSIXct, format: \"2013-01-01 05:00:00\" \"2013-01-01 05:00:00\" ...\n"
     ]
    }
   ],
   "source": [
    "str(flights)"
   ]
  },
  {
   "cell_type": "markdown",
   "metadata": {},
   "source": [
    "Las **cinco funciones clave de `dplyr`** que te permiten resolver la gran mayoría de los problemas de manipulación de datos:\n",
    "\n",
    "  * **filter()**,  Extraer subconjuntos de datos en función de sus valores. (es decir, filas)\n",
    "  * **arrange()**, Reordenar filas.\n",
    "  * **select()**, Extraer variables por su nombre.\n",
    "  * **mutate()**, Crear nuevas variables con funciones de las variables existentes.\n",
    "  * **summarise()**, Collapse many values down to a single summary.\n"
   ]
  },
  {
   "cell_type": "markdown",
   "metadata": {},
   "source": [
    "### **Filtrar filas**"
   ]
  },
  {
   "cell_type": "markdown",
   "metadata": {},
   "source": [
    "Mediante el uso de los operadores comparativos: >, >=, <, <=, != (no igual), == (igual)"
   ]
  },
  {
   "cell_type": "code",
   "execution_count": 20,
   "metadata": {},
   "outputs": [
    {
     "name": "stdout",
     "output_type": "stream",
     "text": [
      "Classes ‘tbl_df’, ‘tbl’ and 'data.frame':\t842 obs. of  19 variables:\n",
      " $ year          : int  2013 2013 2013 2013 2013 2013 2013 2013 2013 2013 ...\n",
      " $ month         : int  1 1 1 1 1 1 1 1 1 1 ...\n",
      " $ day           : int  1 1 1 1 1 1 1 1 1 1 ...\n",
      " $ dep_time      : int  517 533 542 544 554 554 555 557 557 558 ...\n",
      " $ sched_dep_time: int  515 529 540 545 600 558 600 600 600 600 ...\n",
      " $ dep_delay     : num  2 4 2 -1 -6 -4 -5 -3 -3 -2 ...\n",
      " $ arr_time      : int  830 850 923 1004 812 740 913 709 838 753 ...\n",
      " $ sched_arr_time: int  819 830 850 1022 837 728 854 723 846 745 ...\n",
      " $ arr_delay     : num  11 20 33 -18 -25 12 19 -14 -8 8 ...\n",
      " $ carrier       : chr  \"UA\" \"UA\" \"AA\" \"B6\" ...\n",
      " $ flight        : int  1545 1714 1141 725 461 1696 507 5708 79 301 ...\n",
      " $ tailnum       : chr  \"N14228\" \"N24211\" \"N619AA\" \"N804JB\" ...\n",
      " $ origin        : chr  \"EWR\" \"LGA\" \"JFK\" \"JFK\" ...\n",
      " $ dest          : chr  \"IAH\" \"IAH\" \"MIA\" \"BQN\" ...\n",
      " $ air_time      : num  227 227 160 183 116 150 158 53 140 138 ...\n",
      " $ distance      : num  1400 1416 1089 1576 762 ...\n",
      " $ hour          : num  5 5 5 5 6 5 6 6 6 6 ...\n",
      " $ minute        : num  15 29 40 45 0 58 0 0 0 0 ...\n",
      " $ time_hour     : POSIXct, format: \"2013-01-01 05:00:00\" \"2013-01-01 05:00:00\" ...\n"
     ]
    }
   ],
   "source": [
    "jan1 <- filter(flights, month == 1, day == 1)\n",
    "str(jan1)\n",
    "\n",
    "# Como crear una copia\n",
    "# hola <- flights"
   ]
  },
  {
   "cell_type": "code",
   "execution_count": 21,
   "metadata": {},
   "outputs": [
    {
     "data": {
      "image/png": "[encoded data removed]",
      "text/plain": [
       "plot without title"
      ]
     },
     "metadata": {},
     "output_type": "display_data"
    }
   ],
   "source": [
    "day1 <- filter(flights, month != 2, day == 1)\n",
    "ggplot(day1, aes(x = month, y = dep_delay, group = month)) +\n",
    "geom_boxplot(width=0.6, na.rm = TRUE)"
   ]
  },
  {
   "cell_type": "code",
   "execution_count": 22,
   "metadata": {},
   "outputs": [
    {
     "data": {
      "image/png": "[encoded data removed]",
      "text/plain": [
       "plot without title"
      ]
     },
     "metadata": {},
     "output_type": "display_data"
    }
   ],
   "source": [
    "month2 <- filter(flights, month == 5 | month == 7, day == 1)\n",
    "ggplot(month2, aes(x = month, y = dep_delay, group = month)) +\n",
    "geom_boxplot(width=0.6, na.rm = TRUE)"
   ]
  },
  {
   "cell_type": "markdown",
   "metadata": {},
   "source": [
    "### **Ordenar filas**"
   ]
  },
  {
   "cell_type": "code",
   "execution_count": 24,
   "metadata": {},
   "outputs": [
    {
     "name": "stderr",
     "output_type": "stream",
     "text": [
      "Warning message:\n",
      "“Removed 8255 rows containing missing values (geom_point).”Warning message:\n",
      "“Removed 8255 rows containing missing values (geom_point).”"
     ]
    },
    {
     "data": {
      "image/png": "[encoded data removed]",
      "text/plain": [
       "plot without title"
      ]
     },
     "metadata": {},
     "output_type": "display_data"
    }
   ],
   "source": [
    "bydate <- arrange(flights, year, month, day)\n",
    "bydelay <- arrange(flights, desc(dep_delay))\n",
    "ggplot(flights) +\n",
    "geom_point(aes(1:nrow(flights), dep_delay)) +\n",
    "geom_point(aes(1:nrow(flights), bydelay$dep_delay), color = \"red\")"
   ]
  },
  {
   "cell_type": "markdown",
   "metadata": {},
   "source": [
    "---\n",
    "### Practica 3\n",
    "1) Utiliza `filter()` y `is.na()` (en lugar de un operador comparativo) para saber cuantos vuelos no contienen datos de hora de salida.\n",
    " \n",
    "2) ¿Qué vuelos tuvieron trayectos más largos? ¿y los más cortos? utiliza `arrange()`.\n"
   ]
  },
  {
   "cell_type": "code",
   "execution_count": 42,
   "metadata": {},
   "outputs": [
    {
     "name": "stdout",
     "output_type": "stream",
     "text": [
      " num [1:336776] 20 20 21 21 21 21 21 21 21 21 ...\n"
     ]
    }
   ],
   "source": [
    "# arrange(...\n",
    "dep_nan <- filter(flights, is.na(dep_time))\n",
    "flights_sorted <- arrange(flights, air_time)\n",
    "str(flights_sorted$air_time)\n",
    "# dep_nan_sorted$air_time"
   ]
  },
  {
   "cell_type": "markdown",
   "metadata": {},
   "source": [
    "---"
   ]
  },
  {
   "cell_type": "markdown",
   "metadata": {},
   "source": [
    "### **Seleccionar columnas**\n",
    "\n"
   ]
  },
  {
   "cell_type": "code",
   "execution_count": 43,
   "metadata": {},
   "outputs": [
    {
     "name": "stdout",
     "output_type": "stream",
     "text": [
      "\u001b[38;5;246m# A tibble: 336,776 x 3\u001b[39m\n",
      "    year month   day\n",
      "   \u001b[3m\u001b[38;5;246m<int>\u001b[39m\u001b[23m \u001b[3m\u001b[38;5;246m<int>\u001b[39m\u001b[23m \u001b[3m\u001b[38;5;246m<int>\u001b[39m\u001b[23m\n",
      "\u001b[38;5;250m 1\u001b[39m  \u001b[4m2\u001b[24m013     1     1\n",
      "\u001b[38;5;250m 2\u001b[39m  \u001b[4m2\u001b[24m013     1     1\n",
      "\u001b[38;5;250m 3\u001b[39m  \u001b[4m2\u001b[24m013     1     1\n",
      "\u001b[38;5;250m 4\u001b[39m  \u001b[4m2\u001b[24m013     1     1\n",
      "\u001b[38;5;250m 5\u001b[39m  \u001b[4m2\u001b[24m013     1     1\n",
      "\u001b[38;5;250m 6\u001b[39m  \u001b[4m2\u001b[24m013     1     1\n",
      "\u001b[38;5;250m 7\u001b[39m  \u001b[4m2\u001b[24m013     1     1\n",
      "\u001b[38;5;250m 8\u001b[39m  \u001b[4m2\u001b[24m013     1     1\n",
      "\u001b[38;5;250m 9\u001b[39m  \u001b[4m2\u001b[24m013     1     1\n",
      "\u001b[38;5;250m10\u001b[39m  \u001b[4m2\u001b[24m013     1     1\n",
      "\u001b[38;5;246m# … with 336,766 more rows\u001b[39m\n",
      "\u001b[38;5;246m# A tibble: 336,776 x 3\u001b[39m\n",
      "    year month   day\n",
      "   \u001b[3m\u001b[38;5;246m<int>\u001b[39m\u001b[23m \u001b[3m\u001b[38;5;246m<int>\u001b[39m\u001b[23m \u001b[3m\u001b[38;5;246m<int>\u001b[39m\u001b[23m\n",
      "\u001b[38;5;250m 1\u001b[39m  \u001b[4m2\u001b[24m013     1     1\n",
      "\u001b[38;5;250m 2\u001b[39m  \u001b[4m2\u001b[24m013     1     1\n",
      "\u001b[38;5;250m 3\u001b[39m  \u001b[4m2\u001b[24m013     1     1\n",
      "\u001b[38;5;250m 4\u001b[39m  \u001b[4m2\u001b[24m013     1     1\n",
      "\u001b[38;5;250m 5\u001b[39m  \u001b[4m2\u001b[24m013     1     1\n",
      "\u001b[38;5;250m 6\u001b[39m  \u001b[4m2\u001b[24m013     1     1\n",
      "\u001b[38;5;250m 7\u001b[39m  \u001b[4m2\u001b[24m013     1     1\n",
      "\u001b[38;5;250m 8\u001b[39m  \u001b[4m2\u001b[24m013     1     1\n",
      "\u001b[38;5;250m 9\u001b[39m  \u001b[4m2\u001b[24m013     1     1\n",
      "\u001b[38;5;250m10\u001b[39m  \u001b[4m2\u001b[24m013     1     1\n",
      "\u001b[38;5;246m# … with 336,766 more rows\u001b[39m\n",
      "\u001b[38;5;246m# A tibble: 336,776 x 16\u001b[39m\n",
      "   dep_time sched_dep_time dep_delay arr_time sched_arr_time arr_delay carrier\n",
      "      \u001b[3m\u001b[38;5;246m<int>\u001b[39m\u001b[23m          \u001b[3m\u001b[38;5;246m<int>\u001b[39m\u001b[23m     \u001b[3m\u001b[38;5;246m<dbl>\u001b[39m\u001b[23m    \u001b[3m\u001b[38;5;246m<int>\u001b[39m\u001b[23m          \u001b[3m\u001b[38;5;246m<int>\u001b[39m\u001b[23m     \u001b[3m\u001b[38;5;246m<dbl>\u001b[39m\u001b[23m \u001b[3m\u001b[38;5;246m<chr>\u001b[39m\u001b[23m  \n",
      "\u001b[38;5;250m 1\u001b[39m      517            515         2      830            819        11 UA     \n",
      "\u001b[38;5;250m 2\u001b[39m      533            529         4      850            830        20 UA     \n",
      "\u001b[38;5;250m 3\u001b[39m      542            540         2      923            850        33 AA     \n",
      "\u001b[38;5;250m 4\u001b[39m      544            545        -\u001b[31m1\u001b[39m     \u001b[4m1\u001b[24m004           \u001b[4m1\u001b[24m022       -\u001b[31m18\u001b[39m B6     \n",
      "\u001b[38;5;250m 5\u001b[39m      554            600        -\u001b[31m6\u001b[39m      812            837       -\u001b[31m25\u001b[39m DL     \n",
      "\u001b[38;5;250m 6\u001b[39m      554            558        -\u001b[31m4\u001b[39m      740            728        12 UA     \n",
      "\u001b[38;5;250m 7\u001b[39m      555            600        -\u001b[31m5\u001b[39m      913            854        19 B6     \n",
      "\u001b[38;5;250m 8\u001b[39m      557            600        -\u001b[31m3\u001b[39m      709            723       -\u001b[31m14\u001b[39m EV     \n",
      "\u001b[38;5;250m 9\u001b[39m      557            600        -\u001b[31m3\u001b[39m      838            846        -\u001b[31m8\u001b[39m B6     \n",
      "\u001b[38;5;250m10\u001b[39m      558            600        -\u001b[31m2\u001b[39m      753            745         8 AA     \n",
      "\u001b[38;5;246m# … with 336,766 more rows, and 9 more variables: flight \u001b[3m\u001b[38;5;246m<int>\u001b[38;5;246m\u001b[23m, tailnum \u001b[3m\u001b[38;5;246m<chr>\u001b[38;5;246m\u001b[23m,\n",
      "#   origin \u001b[3m\u001b[38;5;246m<chr>\u001b[38;5;246m\u001b[23m, dest \u001b[3m\u001b[38;5;246m<chr>\u001b[38;5;246m\u001b[23m, air_time \u001b[3m\u001b[38;5;246m<dbl>\u001b[38;5;246m\u001b[23m, distance \u001b[3m\u001b[38;5;246m<dbl>\u001b[38;5;246m\u001b[23m, hour \u001b[3m\u001b[38;5;246m<dbl>\u001b[38;5;246m\u001b[23m,\n",
      "#   minute \u001b[3m\u001b[38;5;246m<dbl>\u001b[38;5;246m\u001b[23m, time_hour \u001b[3m\u001b[38;5;246m<dttm>\u001b[38;5;246m\u001b[23m\u001b[39m\n"
     ]
    }
   ],
   "source": [
    "# Seleccionar por el nombre de la columna\n",
    "print(select(flights, year, month, day))\n",
    "\n",
    "# Seleccionar todas las columnas entre \"year\" y \"day\"\n",
    "print(select(flights, year:day))\n",
    "\n",
    "# Seleccionar todas las columnas excepto las que están entre \"year\" y \"day\"\n",
    "print(select(flights, -(year:day)))\n",
    "\n"
   ]
  },
  {
   "cell_type": "markdown",
   "metadata": {},
   "source": [
    "\n",
    "Hya una serie de funciones \"helper\" que pueden utilizarse dentro de la función `select()`:\n",
    "\n",
    "   \n",
    "   * `starts_with(\"abc\")`\n",
    "\n",
    "   * `ends_with(\"xyz\")`\n",
    "\n",
    "   * `contains(\"ijk\")`\n",
    "\n",
    "   * `matches(\"(.)\\\\1\")`\n",
    "\n",
    "   * `num_range(\"x\", 1:3)`"
   ]
  },
  {
   "cell_type": "code",
   "execution_count": 44,
   "metadata": {},
   "outputs": [
    {
     "name": "stdout",
     "output_type": "stream",
     "text": [
      "Classes ‘tbl_df’, ‘tbl’ and 'data.frame':\t336776 obs. of  5 variables:\n",
      " $ dep_time      : int  517 533 542 544 554 554 555 557 557 558 ...\n",
      " $ sched_dep_time: int  515 529 540 545 600 558 600 600 600 600 ...\n",
      " $ arr_time      : int  830 850 923 1004 812 740 913 709 838 753 ...\n",
      " $ sched_arr_time: int  819 830 850 1022 837 728 854 723 846 745 ...\n",
      " $ air_time      : num  227 227 160 183 116 150 158 53 140 138 ...\n"
     ]
    }
   ],
   "source": [
    "flight_times <- select(flights, ends_with(\"time\"))\n",
    "str(flight_times)"
   ]
  },
  {
   "cell_type": "markdown",
   "metadata": {},
   "source": [
    "Otra función \"helper\" muy útil es `everything()`"
   ]
  },
  {
   "cell_type": "code",
   "execution_count": 45,
   "metadata": {},
   "outputs": [
    {
     "name": "stdout",
     "output_type": "stream",
     "text": [
      "Classes ‘tbl_df’, ‘tbl’ and 'data.frame':\t336776 obs. of  19 variables:\n",
      " $ time_hour     : POSIXct, format: \"2013-01-01 05:00:00\" \"2013-01-01 05:00:00\" ...\n",
      " $ air_time      : num  227 227 160 183 116 150 158 53 140 138 ...\n",
      " $ year          : int  2013 2013 2013 2013 2013 2013 2013 2013 2013 2013 ...\n",
      " $ month         : int  1 1 1 1 1 1 1 1 1 1 ...\n",
      " $ day           : int  1 1 1 1 1 1 1 1 1 1 ...\n",
      " $ dep_time      : int  517 533 542 544 554 554 555 557 557 558 ...\n",
      " $ sched_dep_time: int  515 529 540 545 600 558 600 600 600 600 ...\n",
      " $ dep_delay     : num  2 4 2 -1 -6 -4 -5 -3 -3 -2 ...\n",
      " $ arr_time      : int  830 850 923 1004 812 740 913 709 838 753 ...\n",
      " $ sched_arr_time: int  819 830 850 1022 837 728 854 723 846 745 ...\n",
      " $ arr_delay     : num  11 20 33 -18 -25 12 19 -14 -8 8 ...\n",
      " $ carrier       : chr  \"UA\" \"UA\" \"AA\" \"B6\" ...\n",
      " $ flight        : int  1545 1714 1141 725 461 1696 507 5708 79 301 ...\n",
      " $ tailnum       : chr  \"N14228\" \"N24211\" \"N619AA\" \"N804JB\" ...\n",
      " $ origin        : chr  \"EWR\" \"LGA\" \"JFK\" \"JFK\" ...\n",
      " $ dest          : chr  \"IAH\" \"IAH\" \"MIA\" \"BQN\" ...\n",
      " $ distance      : num  1400 1416 1089 1576 762 ...\n",
      " $ hour          : num  5 5 5 5 6 5 6 6 6 6 ...\n",
      " $ minute        : num  15 29 40 45 0 58 0 0 0 0 ...\n"
     ]
    }
   ],
   "source": [
    "df <- select(flights, time_hour, air_time, everything())\n",
    "str(df)"
   ]
  },
  {
   "cell_type": "markdown",
   "metadata": {},
   "source": [
    "### **Añadir nuevas variables**\n",
    "\n",
    "Además de seleccionar conjuntos de columnas existentes, a menudo es útil agregar nuevas columnas que son funciones de columnas existentes. Ese es el trabajo de `mutate()`.\n",
    "\n",
    "`mutate()` siempre agrega nuevas columnas al final de su conjunto de datos, por lo que utilizaremos un subconjunto de `fights` (usando `select()`) para que podamos ver las nuevas variables. "
   ]
  },
  {
   "cell_type": "code",
   "execution_count": 46,
   "metadata": {},
   "outputs": [
    {
     "data": {
      "text/html": [
       "<table>\n",
       "<caption>A tibble: 336776 × 9</caption>\n",
       "<thead>\n",
       "\t<tr><th scope=col>year</th><th scope=col>month</th><th scope=col>day</th><th scope=col>dep_delay</th><th scope=col>arr_delay</th><th scope=col>distance</th><th scope=col>air_time</th><th scope=col>gain</th><th scope=col>speed</th></tr>\n",
       "\t<tr><th scope=col>&lt;int&gt;</th><th scope=col>&lt;int&gt;</th><th scope=col>&lt;int&gt;</th><th scope=col>&lt;dbl&gt;</th><th scope=col>&lt;dbl&gt;</th><th scope=col>&lt;dbl&gt;</th><th scope=col>&lt;dbl&gt;</th><th scope=col>&lt;dbl&gt;</th><th scope=col>&lt;dbl&gt;</th></tr>\n",
       "</thead>\n",
       "<tbody>\n",
       "\t<tr><td>2013</td><td>1</td><td>1</td><td> 2</td><td> 11</td><td>1400</td><td>227</td><td> -9</td><td>370.0441</td></tr>\n",
       "\t<tr><td>2013</td><td>1</td><td>1</td><td> 4</td><td> 20</td><td>1416</td><td>227</td><td>-16</td><td>374.2731</td></tr>\n",
       "\t<tr><td>2013</td><td>1</td><td>1</td><td> 2</td><td> 33</td><td>1089</td><td>160</td><td>-31</td><td>408.3750</td></tr>\n",
       "\t<tr><td>2013</td><td>1</td><td>1</td><td>-1</td><td>-18</td><td>1576</td><td>183</td><td> 17</td><td>516.7213</td></tr>\n",
       "\t<tr><td>2013</td><td>1</td><td>1</td><td>-6</td><td>-25</td><td> 762</td><td>116</td><td> 19</td><td>394.1379</td></tr>\n",
       "\t<tr><td>2013</td><td>1</td><td>1</td><td>-4</td><td> 12</td><td> 719</td><td>150</td><td>-16</td><td>287.6000</td></tr>\n",
       "\t<tr><td>2013</td><td>1</td><td>1</td><td>-5</td><td> 19</td><td>1065</td><td>158</td><td>-24</td><td>404.4304</td></tr>\n",
       "\t<tr><td>2013</td><td>1</td><td>1</td><td>-3</td><td>-14</td><td> 229</td><td> 53</td><td> 11</td><td>259.2453</td></tr>\n",
       "\t<tr><td>2013</td><td>1</td><td>1</td><td>-3</td><td> -8</td><td> 944</td><td>140</td><td>  5</td><td>404.5714</td></tr>\n",
       "\t<tr><td>2013</td><td>1</td><td>1</td><td>-2</td><td>  8</td><td> 733</td><td>138</td><td>-10</td><td>318.6957</td></tr>\n",
       "\t<tr><td>2013</td><td>1</td><td>1</td><td>-2</td><td> -2</td><td>1028</td><td>149</td><td>  0</td><td>413.9597</td></tr>\n",
       "\t<tr><td>2013</td><td>1</td><td>1</td><td>-2</td><td> -3</td><td>1005</td><td>158</td><td>  1</td><td>381.6456</td></tr>\n",
       "\t<tr><td>2013</td><td>1</td><td>1</td><td>-2</td><td>  7</td><td>2475</td><td>345</td><td> -9</td><td>430.4348</td></tr>\n",
       "\t<tr><td>2013</td><td>1</td><td>1</td><td>-2</td><td>-14</td><td>2565</td><td>361</td><td> 12</td><td>426.3158</td></tr>\n",
       "\t<tr><td>2013</td><td>1</td><td>1</td><td>-1</td><td> 31</td><td>1389</td><td>257</td><td>-32</td><td>324.2802</td></tr>\n",
       "\t<tr><td>2013</td><td>1</td><td>1</td><td> 0</td><td> -4</td><td> 187</td><td> 44</td><td>  4</td><td>255.0000</td></tr>\n",
       "\t<tr><td>2013</td><td>1</td><td>1</td><td>-1</td><td> -8</td><td>2227</td><td>337</td><td>  7</td><td>396.4985</td></tr>\n",
       "\t<tr><td>2013</td><td>1</td><td>1</td><td> 0</td><td> -7</td><td>1076</td><td>152</td><td>  7</td><td>424.7368</td></tr>\n",
       "\t<tr><td>2013</td><td>1</td><td>1</td><td> 0</td><td> 12</td><td> 762</td><td>134</td><td>-12</td><td>341.1940</td></tr>\n",
       "\t<tr><td>2013</td><td>1</td><td>1</td><td> 1</td><td> -6</td><td>1023</td><td>147</td><td>  7</td><td>417.5510</td></tr>\n",
       "\t<tr><td>2013</td><td>1</td><td>1</td><td>-8</td><td> -8</td><td>1020</td><td>170</td><td>  0</td><td>360.0000</td></tr>\n",
       "\t<tr><td>2013</td><td>1</td><td>1</td><td>-3</td><td> 16</td><td> 502</td><td>105</td><td>-19</td><td>286.8571</td></tr>\n",
       "\t<tr><td>2013</td><td>1</td><td>1</td><td>-4</td><td>-12</td><td>1085</td><td>152</td><td>  8</td><td>428.2895</td></tr>\n",
       "\t<tr><td>2013</td><td>1</td><td>1</td><td>-4</td><td> -8</td><td> 760</td><td>128</td><td>  4</td><td>356.2500</td></tr>\n",
       "\t<tr><td>2013</td><td>1</td><td>1</td><td> 0</td><td>-17</td><td>1085</td><td>157</td><td> 17</td><td>414.6497</td></tr>\n",
       "\t<tr><td>2013</td><td>1</td><td>1</td><td> 8</td><td> 32</td><td> 719</td><td>139</td><td>-24</td><td>310.3597</td></tr>\n",
       "\t<tr><td>2013</td><td>1</td><td>1</td><td>11</td><td> 14</td><td>2586</td><td>366</td><td> -3</td><td>423.9344</td></tr>\n",
       "\t<tr><td>2013</td><td>1</td><td>1</td><td> 3</td><td>  4</td><td>1074</td><td>175</td><td> -1</td><td>368.2286</td></tr>\n",
       "\t<tr><td>2013</td><td>1</td><td>1</td><td> 0</td><td>-21</td><td>1598</td><td>182</td><td> 21</td><td>526.8132</td></tr>\n",
       "\t<tr><td>2013</td><td>1</td><td>1</td><td> 0</td><td> -9</td><td> 746</td><td>120</td><td>  9</td><td>373.0000</td></tr>\n",
       "\t<tr><td>⋮</td><td>⋮</td><td>⋮</td><td>⋮</td><td>⋮</td><td>⋮</td><td>⋮</td><td>⋮</td><td>⋮</td></tr>\n",
       "\t<tr><td>2013</td><td>9</td><td>30</td><td> -2</td><td>-24</td><td> 305</td><td> 45</td><td> 22</td><td>406.6667</td></tr>\n",
       "\t<tr><td>2013</td><td>9</td><td>30</td><td> -2</td><td> -9</td><td> 529</td><td> 72</td><td>  7</td><td>440.8333</td></tr>\n",
       "\t<tr><td>2013</td><td>9</td><td>30</td><td> -2</td><td>-31</td><td>1626</td><td>213</td><td> 29</td><td>458.0282</td></tr>\n",
       "\t<tr><td>2013</td><td>9</td><td>30</td><td> 30</td><td> -2</td><td> 292</td><td> 45</td><td> 32</td><td>389.3333</td></tr>\n",
       "\t<tr><td>2013</td><td>9</td><td>30</td><td> -9</td><td>-30</td><td> 213</td><td> 36</td><td> 21</td><td>355.0000</td></tr>\n",
       "\t<tr><td>2013</td><td>9</td><td>30</td><td>  0</td><td>-30</td><td>2475</td><td>298</td><td> 30</td><td>498.3221</td></tr>\n",
       "\t<tr><td>2013</td><td>9</td><td>30</td><td> 13</td><td> 11</td><td> 284</td><td> 47</td><td>  2</td><td>362.5532</td></tr>\n",
       "\t<tr><td>2013</td><td>9</td><td>30</td><td>  0</td><td>-25</td><td>1598</td><td>192</td><td> 25</td><td>499.3750</td></tr>\n",
       "\t<tr><td>2013</td><td>9</td><td>30</td><td> 10</td><td>  3</td><td>1076</td><td>139</td><td>  7</td><td>464.4604</td></tr>\n",
       "\t<tr><td>2013</td><td>9</td><td>30</td><td> -7</td><td>-23</td><td> 200</td><td> 37</td><td> 16</td><td>324.3243</td></tr>\n",
       "\t<tr><td>2013</td><td>9</td><td>30</td><td> -9</td><td>-16</td><td> 209</td><td> 39</td><td>  7</td><td>321.5385</td></tr>\n",
       "\t<tr><td>2013</td><td>9</td><td>30</td><td>194</td><td>194</td><td> 301</td><td> 50</td><td>  0</td><td>361.2000</td></tr>\n",
       "\t<tr><td>2013</td><td>9</td><td>30</td><td> -2</td><td>  8</td><td> 378</td><td> 61</td><td>-10</td><td>371.8033</td></tr>\n",
       "\t<tr><td>2013</td><td>9</td><td>30</td><td> 27</td><td>  7</td><td> 764</td><td> 97</td><td> 20</td><td>472.5773</td></tr>\n",
       "\t<tr><td>2013</td><td>9</td><td>30</td><td> 72</td><td> 57</td><td> 872</td><td>120</td><td> 15</td><td>436.0000</td></tr>\n",
       "\t<tr><td>2013</td><td>9</td><td>30</td><td>-14</td><td>-21</td><td> 273</td><td> 48</td><td>  7</td><td>341.2500</td></tr>\n",
       "\t<tr><td>2013</td><td>9</td><td>30</td><td> 80</td><td> 42</td><td>2565</td><td>318</td><td> 38</td><td>483.9623</td></tr>\n",
       "\t<tr><td>2013</td><td>9</td><td>30</td><td>154</td><td>130</td><td> 944</td><td>123</td><td> 24</td><td>460.4878</td></tr>\n",
       "\t<tr><td>2013</td><td>9</td><td>30</td><td> -8</td><td> -8</td><td> 266</td><td> 43</td><td>  0</td><td>371.1628</td></tr>\n",
       "\t<tr><td>2013</td><td>9</td><td>30</td><td> -5</td><td>-17</td><td> 209</td><td> 41</td><td> 12</td><td>305.8537</td></tr>\n",
       "\t<tr><td>2013</td><td>9</td><td>30</td><td>-10</td><td>-20</td><td> 301</td><td> 52</td><td> 10</td><td>347.3077</td></tr>\n",
       "\t<tr><td>2013</td><td>9</td><td>30</td><td> -5</td><td>-16</td><td> 264</td><td> 47</td><td> 11</td><td>337.0213</td></tr>\n",
       "\t<tr><td>2013</td><td>9</td><td>30</td><td> 12</td><td>  1</td><td> 187</td><td> 33</td><td> 11</td><td>340.0000</td></tr>\n",
       "\t<tr><td>2013</td><td>9</td><td>30</td><td>-10</td><td>-25</td><td>1617</td><td>196</td><td> 15</td><td>495.0000</td></tr>\n",
       "\t<tr><td>2013</td><td>9</td><td>30</td><td> NA</td><td> NA</td><td> 764</td><td> NA</td><td> NA</td><td>      NA</td></tr>\n",
       "\t<tr><td>2013</td><td>9</td><td>30</td><td> NA</td><td> NA</td><td> 213</td><td> NA</td><td> NA</td><td>      NA</td></tr>\n",
       "\t<tr><td>2013</td><td>9</td><td>30</td><td> NA</td><td> NA</td><td> 198</td><td> NA</td><td> NA</td><td>      NA</td></tr>\n",
       "\t<tr><td>2013</td><td>9</td><td>30</td><td> NA</td><td> NA</td><td> 764</td><td> NA</td><td> NA</td><td>      NA</td></tr>\n",
       "\t<tr><td>2013</td><td>9</td><td>30</td><td> NA</td><td> NA</td><td> 419</td><td> NA</td><td> NA</td><td>      NA</td></tr>\n",
       "\t<tr><td>2013</td><td>9</td><td>30</td><td> NA</td><td> NA</td><td> 431</td><td> NA</td><td> NA</td><td>      NA</td></tr>\n",
       "</tbody>\n",
       "</table>\n"
      ],
      "text/latex": [
       "A tibble: 336776 × 9\n",
       "\\begin{tabular}{r|lllllllll}\n",
       " year & month & day & dep\\_delay & arr\\_delay & distance & air\\_time & gain & speed\\\\\n",
       " <int> & <int> & <int> & <dbl> & <dbl> & <dbl> & <dbl> & <dbl> & <dbl>\\\\\n",
       "\\hline\n",
       "\t 2013 & 1 & 1 &  2 &  11 & 1400 & 227 &  -9 & 370.0441\\\\\n",
       "\t 2013 & 1 & 1 &  4 &  20 & 1416 & 227 & -16 & 374.2731\\\\\n",
       "\t 2013 & 1 & 1 &  2 &  33 & 1089 & 160 & -31 & 408.3750\\\\\n",
       "\t 2013 & 1 & 1 & -1 & -18 & 1576 & 183 &  17 & 516.7213\\\\\n",
       "\t 2013 & 1 & 1 & -6 & -25 &  762 & 116 &  19 & 394.1379\\\\\n",
       "\t 2013 & 1 & 1 & -4 &  12 &  719 & 150 & -16 & 287.6000\\\\\n",
       "\t 2013 & 1 & 1 & -5 &  19 & 1065 & 158 & -24 & 404.4304\\\\\n",
       "\t 2013 & 1 & 1 & -3 & -14 &  229 &  53 &  11 & 259.2453\\\\\n",
       "\t 2013 & 1 & 1 & -3 &  -8 &  944 & 140 &   5 & 404.5714\\\\\n",
       "\t 2013 & 1 & 1 & -2 &   8 &  733 & 138 & -10 & 318.6957\\\\\n",
       "\t 2013 & 1 & 1 & -2 &  -2 & 1028 & 149 &   0 & 413.9597\\\\\n",
       "\t 2013 & 1 & 1 & -2 &  -3 & 1005 & 158 &   1 & 381.6456\\\\\n",
       "\t 2013 & 1 & 1 & -2 &   7 & 2475 & 345 &  -9 & 430.4348\\\\\n",
       "\t 2013 & 1 & 1 & -2 & -14 & 2565 & 361 &  12 & 426.3158\\\\\n",
       "\t 2013 & 1 & 1 & -1 &  31 & 1389 & 257 & -32 & 324.2802\\\\\n",
       "\t 2013 & 1 & 1 &  0 &  -4 &  187 &  44 &   4 & 255.0000\\\\\n",
       "\t 2013 & 1 & 1 & -1 &  -8 & 2227 & 337 &   7 & 396.4985\\\\\n",
       "\t 2013 & 1 & 1 &  0 &  -7 & 1076 & 152 &   7 & 424.7368\\\\\n",
       "\t 2013 & 1 & 1 &  0 &  12 &  762 & 134 & -12 & 341.1940\\\\\n",
       "\t 2013 & 1 & 1 &  1 &  -6 & 1023 & 147 &   7 & 417.5510\\\\\n",
       "\t 2013 & 1 & 1 & -8 &  -8 & 1020 & 170 &   0 & 360.0000\\\\\n",
       "\t 2013 & 1 & 1 & -3 &  16 &  502 & 105 & -19 & 286.8571\\\\\n",
       "\t 2013 & 1 & 1 & -4 & -12 & 1085 & 152 &   8 & 428.2895\\\\\n",
       "\t 2013 & 1 & 1 & -4 &  -8 &  760 & 128 &   4 & 356.2500\\\\\n",
       "\t 2013 & 1 & 1 &  0 & -17 & 1085 & 157 &  17 & 414.6497\\\\\n",
       "\t 2013 & 1 & 1 &  8 &  32 &  719 & 139 & -24 & 310.3597\\\\\n",
       "\t 2013 & 1 & 1 & 11 &  14 & 2586 & 366 &  -3 & 423.9344\\\\\n",
       "\t 2013 & 1 & 1 &  3 &   4 & 1074 & 175 &  -1 & 368.2286\\\\\n",
       "\t 2013 & 1 & 1 &  0 & -21 & 1598 & 182 &  21 & 526.8132\\\\\n",
       "\t 2013 & 1 & 1 &  0 &  -9 &  746 & 120 &   9 & 373.0000\\\\\n",
       "\t ⋮ & ⋮ & ⋮ & ⋮ & ⋮ & ⋮ & ⋮ & ⋮ & ⋮\\\\\n",
       "\t 2013 & 9 & 30 &  -2 & -24 &  305 &  45 &  22 & 406.6667\\\\\n",
       "\t 2013 & 9 & 30 &  -2 &  -9 &  529 &  72 &   7 & 440.8333\\\\\n",
       "\t 2013 & 9 & 30 &  -2 & -31 & 1626 & 213 &  29 & 458.0282\\\\\n",
       "\t 2013 & 9 & 30 &  30 &  -2 &  292 &  45 &  32 & 389.3333\\\\\n",
       "\t 2013 & 9 & 30 &  -9 & -30 &  213 &  36 &  21 & 355.0000\\\\\n",
       "\t 2013 & 9 & 30 &   0 & -30 & 2475 & 298 &  30 & 498.3221\\\\\n",
       "\t 2013 & 9 & 30 &  13 &  11 &  284 &  47 &   2 & 362.5532\\\\\n",
       "\t 2013 & 9 & 30 &   0 & -25 & 1598 & 192 &  25 & 499.3750\\\\\n",
       "\t 2013 & 9 & 30 &  10 &   3 & 1076 & 139 &   7 & 464.4604\\\\\n",
       "\t 2013 & 9 & 30 &  -7 & -23 &  200 &  37 &  16 & 324.3243\\\\\n",
       "\t 2013 & 9 & 30 &  -9 & -16 &  209 &  39 &   7 & 321.5385\\\\\n",
       "\t 2013 & 9 & 30 & 194 & 194 &  301 &  50 &   0 & 361.2000\\\\\n",
       "\t 2013 & 9 & 30 &  -2 &   8 &  378 &  61 & -10 & 371.8033\\\\\n",
       "\t 2013 & 9 & 30 &  27 &   7 &  764 &  97 &  20 & 472.5773\\\\\n",
       "\t 2013 & 9 & 30 &  72 &  57 &  872 & 120 &  15 & 436.0000\\\\\n",
       "\t 2013 & 9 & 30 & -14 & -21 &  273 &  48 &   7 & 341.2500\\\\\n",
       "\t 2013 & 9 & 30 &  80 &  42 & 2565 & 318 &  38 & 483.9623\\\\\n",
       "\t 2013 & 9 & 30 & 154 & 130 &  944 & 123 &  24 & 460.4878\\\\\n",
       "\t 2013 & 9 & 30 &  -8 &  -8 &  266 &  43 &   0 & 371.1628\\\\\n",
       "\t 2013 & 9 & 30 &  -5 & -17 &  209 &  41 &  12 & 305.8537\\\\\n",
       "\t 2013 & 9 & 30 & -10 & -20 &  301 &  52 &  10 & 347.3077\\\\\n",
       "\t 2013 & 9 & 30 &  -5 & -16 &  264 &  47 &  11 & 337.0213\\\\\n",
       "\t 2013 & 9 & 30 &  12 &   1 &  187 &  33 &  11 & 340.0000\\\\\n",
       "\t 2013 & 9 & 30 & -10 & -25 & 1617 & 196 &  15 & 495.0000\\\\\n",
       "\t 2013 & 9 & 30 &  NA &  NA &  764 &  NA &  NA &       NA\\\\\n",
       "\t 2013 & 9 & 30 &  NA &  NA &  213 &  NA &  NA &       NA\\\\\n",
       "\t 2013 & 9 & 30 &  NA &  NA &  198 &  NA &  NA &       NA\\\\\n",
       "\t 2013 & 9 & 30 &  NA &  NA &  764 &  NA &  NA &       NA\\\\\n",
       "\t 2013 & 9 & 30 &  NA &  NA &  419 &  NA &  NA &       NA\\\\\n",
       "\t 2013 & 9 & 30 &  NA &  NA &  431 &  NA &  NA &       NA\\\\\n",
       "\\end{tabular}\n"
      ],
      "text/markdown": [
       "\n",
       "A tibble: 336776 × 9\n",
       "\n",
       "| year &lt;int&gt; | month &lt;int&gt; | day &lt;int&gt; | dep_delay &lt;dbl&gt; | arr_delay &lt;dbl&gt; | distance &lt;dbl&gt; | air_time &lt;dbl&gt; | gain &lt;dbl&gt; | speed &lt;dbl&gt; |\n",
       "|---|---|---|---|---|---|---|---|---|\n",
       "| 2013 | 1 | 1 |  2 |  11 | 1400 | 227 |  -9 | 370.0441 |\n",
       "| 2013 | 1 | 1 |  4 |  20 | 1416 | 227 | -16 | 374.2731 |\n",
       "| 2013 | 1 | 1 |  2 |  33 | 1089 | 160 | -31 | 408.3750 |\n",
       "| 2013 | 1 | 1 | -1 | -18 | 1576 | 183 |  17 | 516.7213 |\n",
       "| 2013 | 1 | 1 | -6 | -25 |  762 | 116 |  19 | 394.1379 |\n",
       "| 2013 | 1 | 1 | -4 |  12 |  719 | 150 | -16 | 287.6000 |\n",
       "| 2013 | 1 | 1 | -5 |  19 | 1065 | 158 | -24 | 404.4304 |\n",
       "| 2013 | 1 | 1 | -3 | -14 |  229 |  53 |  11 | 259.2453 |\n",
       "| 2013 | 1 | 1 | -3 |  -8 |  944 | 140 |   5 | 404.5714 |\n",
       "| 2013 | 1 | 1 | -2 |   8 |  733 | 138 | -10 | 318.6957 |\n",
       "| 2013 | 1 | 1 | -2 |  -2 | 1028 | 149 |   0 | 413.9597 |\n",
       "| 2013 | 1 | 1 | -2 |  -3 | 1005 | 158 |   1 | 381.6456 |\n",
       "| 2013 | 1 | 1 | -2 |   7 | 2475 | 345 |  -9 | 430.4348 |\n",
       "| 2013 | 1 | 1 | -2 | -14 | 2565 | 361 |  12 | 426.3158 |\n",
       "| 2013 | 1 | 1 | -1 |  31 | 1389 | 257 | -32 | 324.2802 |\n",
       "| 2013 | 1 | 1 |  0 |  -4 |  187 |  44 |   4 | 255.0000 |\n",
       "| 2013 | 1 | 1 | -1 |  -8 | 2227 | 337 |   7 | 396.4985 |\n",
       "| 2013 | 1 | 1 |  0 |  -7 | 1076 | 152 |   7 | 424.7368 |\n",
       "| 2013 | 1 | 1 |  0 |  12 |  762 | 134 | -12 | 341.1940 |\n",
       "| 2013 | 1 | 1 |  1 |  -6 | 1023 | 147 |   7 | 417.5510 |\n",
       "| 2013 | 1 | 1 | -8 |  -8 | 1020 | 170 |   0 | 360.0000 |\n",
       "| 2013 | 1 | 1 | -3 |  16 |  502 | 105 | -19 | 286.8571 |\n",
       "| 2013 | 1 | 1 | -4 | -12 | 1085 | 152 |   8 | 428.2895 |\n",
       "| 2013 | 1 | 1 | -4 |  -8 |  760 | 128 |   4 | 356.2500 |\n",
       "| 2013 | 1 | 1 |  0 | -17 | 1085 | 157 |  17 | 414.6497 |\n",
       "| 2013 | 1 | 1 |  8 |  32 |  719 | 139 | -24 | 310.3597 |\n",
       "| 2013 | 1 | 1 | 11 |  14 | 2586 | 366 |  -3 | 423.9344 |\n",
       "| 2013 | 1 | 1 |  3 |   4 | 1074 | 175 |  -1 | 368.2286 |\n",
       "| 2013 | 1 | 1 |  0 | -21 | 1598 | 182 |  21 | 526.8132 |\n",
       "| 2013 | 1 | 1 |  0 |  -9 |  746 | 120 |   9 | 373.0000 |\n",
       "| ⋮ | ⋮ | ⋮ | ⋮ | ⋮ | ⋮ | ⋮ | ⋮ | ⋮ |\n",
       "| 2013 | 9 | 30 |  -2 | -24 |  305 |  45 |  22 | 406.6667 |\n",
       "| 2013 | 9 | 30 |  -2 |  -9 |  529 |  72 |   7 | 440.8333 |\n",
       "| 2013 | 9 | 30 |  -2 | -31 | 1626 | 213 |  29 | 458.0282 |\n",
       "| 2013 | 9 | 30 |  30 |  -2 |  292 |  45 |  32 | 389.3333 |\n",
       "| 2013 | 9 | 30 |  -9 | -30 |  213 |  36 |  21 | 355.0000 |\n",
       "| 2013 | 9 | 30 |   0 | -30 | 2475 | 298 |  30 | 498.3221 |\n",
       "| 2013 | 9 | 30 |  13 |  11 |  284 |  47 |   2 | 362.5532 |\n",
       "| 2013 | 9 | 30 |   0 | -25 | 1598 | 192 |  25 | 499.3750 |\n",
       "| 2013 | 9 | 30 |  10 |   3 | 1076 | 139 |   7 | 464.4604 |\n",
       "| 2013 | 9 | 30 |  -7 | -23 |  200 |  37 |  16 | 324.3243 |\n",
       "| 2013 | 9 | 30 |  -9 | -16 |  209 |  39 |   7 | 321.5385 |\n",
       "| 2013 | 9 | 30 | 194 | 194 |  301 |  50 |   0 | 361.2000 |\n",
       "| 2013 | 9 | 30 |  -2 |   8 |  378 |  61 | -10 | 371.8033 |\n",
       "| 2013 | 9 | 30 |  27 |   7 |  764 |  97 |  20 | 472.5773 |\n",
       "| 2013 | 9 | 30 |  72 |  57 |  872 | 120 |  15 | 436.0000 |\n",
       "| 2013 | 9 | 30 | -14 | -21 |  273 |  48 |   7 | 341.2500 |\n",
       "| 2013 | 9 | 30 |  80 |  42 | 2565 | 318 |  38 | 483.9623 |\n",
       "| 2013 | 9 | 30 | 154 | 130 |  944 | 123 |  24 | 460.4878 |\n",
       "| 2013 | 9 | 30 |  -8 |  -8 |  266 |  43 |   0 | 371.1628 |\n",
       "| 2013 | 9 | 30 |  -5 | -17 |  209 |  41 |  12 | 305.8537 |\n",
       "| 2013 | 9 | 30 | -10 | -20 |  301 |  52 |  10 | 347.3077 |\n",
       "| 2013 | 9 | 30 |  -5 | -16 |  264 |  47 |  11 | 337.0213 |\n",
       "| 2013 | 9 | 30 |  12 |   1 |  187 |  33 |  11 | 340.0000 |\n",
       "| 2013 | 9 | 30 | -10 | -25 | 1617 | 196 |  15 | 495.0000 |\n",
       "| 2013 | 9 | 30 |  NA |  NA |  764 |  NA |  NA |       NA |\n",
       "| 2013 | 9 | 30 |  NA |  NA |  213 |  NA |  NA |       NA |\n",
       "| 2013 | 9 | 30 |  NA |  NA |  198 |  NA |  NA |       NA |\n",
       "| 2013 | 9 | 30 |  NA |  NA |  764 |  NA |  NA |       NA |\n",
       "| 2013 | 9 | 30 |  NA |  NA |  419 |  NA |  NA |       NA |\n",
       "| 2013 | 9 | 30 |  NA |  NA |  431 |  NA |  NA |       NA |\n",
       "\n"
      ],
      "text/plain": [
       "       year month day dep_delay arr_delay distance air_time gain speed   \n",
       "1      2013 1     1    2         11       1400     227       -9  370.0441\n",
       "2      2013 1     1    4         20       1416     227      -16  374.2731\n",
       "3      2013 1     1    2         33       1089     160      -31  408.3750\n",
       "4      2013 1     1   -1        -18       1576     183       17  516.7213\n",
       "5      2013 1     1   -6        -25        762     116       19  394.1379\n",
       "6      2013 1     1   -4         12        719     150      -16  287.6000\n",
       "7      2013 1     1   -5         19       1065     158      -24  404.4304\n",
       "8      2013 1     1   -3        -14        229      53       11  259.2453\n",
       "9      2013 1     1   -3         -8        944     140        5  404.5714\n",
       "10     2013 1     1   -2          8        733     138      -10  318.6957\n",
       "11     2013 1     1   -2         -2       1028     149        0  413.9597\n",
       "12     2013 1     1   -2         -3       1005     158        1  381.6456\n",
       "13     2013 1     1   -2          7       2475     345       -9  430.4348\n",
       "14     2013 1     1   -2        -14       2565     361       12  426.3158\n",
       "15     2013 1     1   -1         31       1389     257      -32  324.2802\n",
       "16     2013 1     1    0         -4        187      44        4  255.0000\n",
       "17     2013 1     1   -1         -8       2227     337        7  396.4985\n",
       "18     2013 1     1    0         -7       1076     152        7  424.7368\n",
       "19     2013 1     1    0         12        762     134      -12  341.1940\n",
       "20     2013 1     1    1         -6       1023     147        7  417.5510\n",
       "21     2013 1     1   -8         -8       1020     170        0  360.0000\n",
       "22     2013 1     1   -3         16        502     105      -19  286.8571\n",
       "23     2013 1     1   -4        -12       1085     152        8  428.2895\n",
       "24     2013 1     1   -4         -8        760     128        4  356.2500\n",
       "25     2013 1     1    0        -17       1085     157       17  414.6497\n",
       "26     2013 1     1    8         32        719     139      -24  310.3597\n",
       "27     2013 1     1   11         14       2586     366       -3  423.9344\n",
       "28     2013 1     1    3          4       1074     175       -1  368.2286\n",
       "29     2013 1     1    0        -21       1598     182       21  526.8132\n",
       "30     2013 1     1    0         -9        746     120        9  373.0000\n",
       "⋮      ⋮    ⋮     ⋮   ⋮         ⋮         ⋮        ⋮        ⋮    ⋮       \n",
       "336747 2013 9     30   -2       -24        305      45       22  406.6667\n",
       "336748 2013 9     30   -2        -9        529      72        7  440.8333\n",
       "336749 2013 9     30   -2       -31       1626     213       29  458.0282\n",
       "336750 2013 9     30   30        -2        292      45       32  389.3333\n",
       "336751 2013 9     30   -9       -30        213      36       21  355.0000\n",
       "336752 2013 9     30    0       -30       2475     298       30  498.3221\n",
       "336753 2013 9     30   13        11        284      47        2  362.5532\n",
       "336754 2013 9     30    0       -25       1598     192       25  499.3750\n",
       "336755 2013 9     30   10         3       1076     139        7  464.4604\n",
       "336756 2013 9     30   -7       -23        200      37       16  324.3243\n",
       "336757 2013 9     30   -9       -16        209      39        7  321.5385\n",
       "336758 2013 9     30  194       194        301      50        0  361.2000\n",
       "336759 2013 9     30   -2         8        378      61      -10  371.8033\n",
       "336760 2013 9     30   27         7        764      97       20  472.5773\n",
       "336761 2013 9     30   72        57        872     120       15  436.0000\n",
       "336762 2013 9     30  -14       -21        273      48        7  341.2500\n",
       "336763 2013 9     30   80        42       2565     318       38  483.9623\n",
       "336764 2013 9     30  154       130        944     123       24  460.4878\n",
       "336765 2013 9     30   -8        -8        266      43        0  371.1628\n",
       "336766 2013 9     30   -5       -17        209      41       12  305.8537\n",
       "336767 2013 9     30  -10       -20        301      52       10  347.3077\n",
       "336768 2013 9     30   -5       -16        264      47       11  337.0213\n",
       "336769 2013 9     30   12         1        187      33       11  340.0000\n",
       "336770 2013 9     30  -10       -25       1617     196       15  495.0000\n",
       "336771 2013 9     30   NA        NA        764      NA       NA        NA\n",
       "336772 2013 9     30   NA        NA        213      NA       NA        NA\n",
       "336773 2013 9     30   NA        NA        198      NA       NA        NA\n",
       "336774 2013 9     30   NA        NA        764      NA       NA        NA\n",
       "336775 2013 9     30   NA        NA        419      NA       NA        NA\n",
       "336776 2013 9     30   NA        NA        431      NA       NA        NA"
      ]
     },
     "metadata": {},
     "output_type": "display_data"
    }
   ],
   "source": [
    "flights_sml <- select(flights, \n",
    "  year:day, \n",
    "  ends_with(\"delay\"), \n",
    "  distance, \n",
    "  air_time\n",
    ")\n",
    "\n",
    "mutate(flights_sml,\n",
    "  gain = dep_delay - arr_delay,\n",
    "  speed = distance / air_time * 60\n",
    ")"
   ]
  },
  {
   "cell_type": "markdown",
   "metadata": {},
   "source": [
    "¿Qué ocurre con los `NA` del final?"
   ]
  },
  {
   "cell_type": "markdown",
   "metadata": {},
   "source": [
    "---"
   ]
  },
  {
   "cell_type": "markdown",
   "metadata": {},
   "source": [
    "## IMPORTAR Y EXPORTAR (LEER Y ESCRIBIR) DATOS\n",
    "\n",
    "### (Dataset de ejemplo: *Iris de Fisher* y *flights*)\n",
    "\n",
    "Trabajar con los datos proporcionados por los paquetes de R es una excelente manera de aprender las herramientas de data science, pero en algún momento necesitaréis comenzar a trabajar con vuestros propios datos.\n",
    "\n",
    "Utilizaremos el **paquete `readr`**, que es también parte de `tidyverse`.\n",
    "\n",
    "\n",
    "### Leer datos\n",
    "La mayoría de las funciones de lectura convierten archivos planos en data frames:\n",
    "\n",
    "\n",
    "* `read_csv()` lee archivos delimitados por comas, `read_csv2()` lee archivos separados por punto y coma, `read_tsv()` lee archivos delimitados por tabulaciones, y `read_delim()` lee archivos con cualquier delimitador.\n",
    "\n",
    "* `read_fwf()` lee archivos de ancho fijo. Puede especificar campos por su ancho con `fwf_widths()` o su posición con `fwf_positions()`. `read_table()` lee una variación común de archivos de ancho fijo donde las columnas están separadas por espacios en blanco.\n",
    "\n",
    "* `read_log()` reads Apache style log files (ver https://www.screamingfrog.co.uk/an-seos-guide-to-apache-log-files/)\n",
    "\n",
    "\n"
   ]
  },
  {
   "cell_type": "code",
   "execution_count": 47,
   "metadata": {},
   "outputs": [
    {
     "name": "stderr",
     "output_type": "stream",
     "text": [
      "Parsed with column specification:\n",
      "cols(\n",
      "  Id = \u001b[32mcol_double()\u001b[39m,\n",
      "  SepalLengthCm = \u001b[32mcol_double()\u001b[39m,\n",
      "  SepalWidthCm = \u001b[32mcol_double()\u001b[39m,\n",
      "  PetalLengthCm = \u001b[32mcol_double()\u001b[39m,\n",
      "  PetalWidthCm = \u001b[32mcol_double()\u001b[39m,\n",
      "  Species = \u001b[31mcol_character()\u001b[39m\n",
      ")\n"
     ]
    },
    {
     "name": "stdout",
     "output_type": "stream",
     "text": [
      "Classes ‘spec_tbl_df’, ‘tbl_df’, ‘tbl’ and 'data.frame':\t150 obs. of  6 variables:\n",
      " $ Id           : num  1 2 3 4 5 6 7 8 9 10 ...\n",
      " $ SepalLengthCm: num  5.1 4.9 4.7 4.6 5 5.4 4.6 5 4.4 4.9 ...\n",
      " $ SepalWidthCm : num  3.5 3 3.2 3.1 3.6 3.9 3.4 3.4 2.9 3.1 ...\n",
      " $ PetalLengthCm: num  1.4 1.4 1.3 1.5 1.4 1.7 1.4 1.5 1.4 1.5 ...\n",
      " $ PetalWidthCm : num  0.2 0.2 0.2 0.2 0.2 0.4 0.3 0.2 0.2 0.1 ...\n",
      " $ Species      : chr  \"Iris-setosa\" \"Iris-setosa\" \"Iris-setosa\" \"Iris-setosa\" ...\n",
      " - attr(*, \"spec\")=\n",
      "  .. cols(\n",
      "  ..   Id = \u001b[32mcol_double()\u001b[39m,\n",
      "  ..   SepalLengthCm = \u001b[32mcol_double()\u001b[39m,\n",
      "  ..   SepalWidthCm = \u001b[32mcol_double()\u001b[39m,\n",
      "  ..   PetalLengthCm = \u001b[32mcol_double()\u001b[39m,\n",
      "  ..   PetalWidthCm = \u001b[32mcol_double()\u001b[39m,\n",
      "  ..   Species = \u001b[31mcol_character()\u001b[39m\n",
      "  .. )\n"
     ]
    }
   ],
   "source": [
    "iris <- read_csv(\"data/Iris.csv\")\n",
    "str(iris)"
   ]
  },
  {
   "cell_type": "markdown",
   "metadata": {},
   "source": [
    "También podemos pasar a `read_csv` un csv que generemos \"al vuelo\" en R: "
   ]
  },
  {
   "cell_type": "code",
   "execution_count": 52,
   "metadata": {},
   "outputs": [
    {
     "data": {
      "text/html": [
       "<table>\n",
       "<caption>A spec_tbl_df: 2 × 3</caption>\n",
       "<thead>\n",
       "\t<tr><th scope=col>a</th><th scope=col>b</th><th scope=col>c</th></tr>\n",
       "\t<tr><th scope=col>&lt;dbl&gt;</th><th scope=col>&lt;dbl&gt;</th><th scope=col>&lt;dbl&gt;</th></tr>\n",
       "</thead>\n",
       "<tbody>\n",
       "\t<tr><td>1</td><td>2</td><td>3</td></tr>\n",
       "\t<tr><td>4</td><td>5</td><td>6</td></tr>\n",
       "</tbody>\n",
       "</table>\n"
      ],
      "text/latex": [
       "A spec_tbl_df: 2 × 3\n",
       "\\begin{tabular}{r|lll}\n",
       " a & b & c\\\\\n",
       " <dbl> & <dbl> & <dbl>\\\\\n",
       "\\hline\n",
       "\t 1 & 2 & 3\\\\\n",
       "\t 4 & 5 & 6\\\\\n",
       "\\end{tabular}\n"
      ],
      "text/markdown": [
       "\n",
       "A spec_tbl_df: 2 × 3\n",
       "\n",
       "| a &lt;dbl&gt; | b &lt;dbl&gt; | c &lt;dbl&gt; |\n",
       "|---|---|---|\n",
       "| 1 | 2 | 3 |\n",
       "| 4 | 5 | 6 |\n",
       "\n"
      ],
      "text/plain": [
       "  a b c\n",
       "1 1 2 3\n",
       "2 4 5 6"
      ]
     },
     "metadata": {},
     "output_type": "display_data"
    }
   ],
   "source": [
    "read_csv(\"a,b,c\n",
    "1,2,3\n",
    "4,5,6\")"
   ]
  },
  {
   "cell_type": "markdown",
   "metadata": {},
   "source": [
    "A veces hay algunas líneas de metadatos en la parte superior del archivo:\n",
    "* El argumento `skip = n` se usa para omitir las primeras n líneas. \n",
    "* El argumento `comment = \"#\"` se usa para eliminar todas las líneas que comienzan con (por ejemplo #)"
   ]
  },
  {
   "cell_type": "code",
   "execution_count": 55,
   "metadata": {},
   "outputs": [
    {
     "data": {
      "text/html": [
       "<table>\n",
       "<caption>A spec_tbl_df: 1 × 3</caption>\n",
       "<thead>\n",
       "\t<tr><th scope=col>x</th><th scope=col>y</th><th scope=col>z</th></tr>\n",
       "\t<tr><th scope=col>&lt;dbl&gt;</th><th scope=col>&lt;dbl&gt;</th><th scope=col>&lt;dbl&gt;</th></tr>\n",
       "</thead>\n",
       "<tbody>\n",
       "\t<tr><td>1</td><td>2</td><td>3</td></tr>\n",
       "</tbody>\n",
       "</table>\n"
      ],
      "text/latex": [
       "A spec_tbl_df: 1 × 3\n",
       "\\begin{tabular}{r|lll}\n",
       " x & y & z\\\\\n",
       " <dbl> & <dbl> & <dbl>\\\\\n",
       "\\hline\n",
       "\t 1 & 2 & 3\\\\\n",
       "\\end{tabular}\n"
      ],
      "text/markdown": [
       "\n",
       "A spec_tbl_df: 1 × 3\n",
       "\n",
       "| x &lt;dbl&gt; | y &lt;dbl&gt; | z &lt;dbl&gt; |\n",
       "|---|---|---|\n",
       "| 1 | 2 | 3 |\n",
       "\n"
      ],
      "text/plain": [
       "  x y z\n",
       "1 1 2 3"
      ]
     },
     "metadata": {},
     "output_type": "display_data"
    }
   ],
   "source": [
    "read_csv(\"The first line of metadata\n",
    "  The second line of metadata\n",
    "  x,y,z\n",
    "  1,2,3\", skip = 2)"
   ]
  },
  {
   "cell_type": "code",
   "execution_count": null,
   "metadata": {},
   "outputs": [],
   "source": [
    "read_csv(\"# A comment I want to skip\n",
    "  x,y,z\n",
    "  1,2,3\", comment = \"#\")"
   ]
  },
  {
   "cell_type": "markdown",
   "metadata": {},
   "source": [
    "Es posible que los datos no tengan nombres de columna. Puedes usar `col_names = FALSE`. (`\\n` se puede usar para agregar una nueva línea)."
   ]
  },
  {
   "cell_type": "code",
   "execution_count": 58,
   "metadata": {},
   "outputs": [
    {
     "data": {
      "text/html": [
       "<table>\n",
       "<caption>A spec_tbl_df: 2 × 3</caption>\n",
       "<thead>\n",
       "\t<tr><th scope=col>X1</th><th scope=col>X2</th><th scope=col>X3</th></tr>\n",
       "\t<tr><th scope=col>&lt;dbl&gt;</th><th scope=col>&lt;dbl&gt;</th><th scope=col>&lt;dbl&gt;</th></tr>\n",
       "</thead>\n",
       "<tbody>\n",
       "\t<tr><td>1</td><td>2</td><td>3</td></tr>\n",
       "\t<tr><td>4</td><td>5</td><td>6</td></tr>\n",
       "</tbody>\n",
       "</table>\n"
      ],
      "text/latex": [
       "A spec_tbl_df: 2 × 3\n",
       "\\begin{tabular}{r|lll}\n",
       " X1 & X2 & X3\\\\\n",
       " <dbl> & <dbl> & <dbl>\\\\\n",
       "\\hline\n",
       "\t 1 & 2 & 3\\\\\n",
       "\t 4 & 5 & 6\\\\\n",
       "\\end{tabular}\n"
      ],
      "text/markdown": [
       "\n",
       "A spec_tbl_df: 2 × 3\n",
       "\n",
       "| X1 &lt;dbl&gt; | X2 &lt;dbl&gt; | X3 &lt;dbl&gt; |\n",
       "|---|---|---|\n",
       "| 1 | 2 | 3 |\n",
       "| 4 | 5 | 6 |\n",
       "\n"
      ],
      "text/plain": [
       "  X1 X2 X3\n",
       "1 1  2  3 \n",
       "2 4  5  6 "
      ]
     },
     "metadata": {},
     "output_type": "display_data"
    }
   ],
   "source": [
    "read_csv(\"1,2,3\\n4,5,6\", col_names = FALSE)"
   ]
  },
  {
   "cell_type": "markdown",
   "metadata": {},
   "source": [
    "Puedes pasar a `col_names` un vector de caracteres que se usará como nombres de columna:"
   ]
  },
  {
   "cell_type": "code",
   "execution_count": 59,
   "metadata": {},
   "outputs": [
    {
     "data": {
      "text/html": [
       "<table>\n",
       "<caption>A spec_tbl_df: 2 × 3</caption>\n",
       "<thead>\n",
       "\t<tr><th scope=col>x</th><th scope=col>y</th><th scope=col>z</th></tr>\n",
       "\t<tr><th scope=col>&lt;dbl&gt;</th><th scope=col>&lt;dbl&gt;</th><th scope=col>&lt;dbl&gt;</th></tr>\n",
       "</thead>\n",
       "<tbody>\n",
       "\t<tr><td>1</td><td>2</td><td>3</td></tr>\n",
       "\t<tr><td>4</td><td>5</td><td>6</td></tr>\n",
       "</tbody>\n",
       "</table>\n"
      ],
      "text/latex": [
       "A spec_tbl_df: 2 × 3\n",
       "\\begin{tabular}{r|lll}\n",
       " x & y & z\\\\\n",
       " <dbl> & <dbl> & <dbl>\\\\\n",
       "\\hline\n",
       "\t 1 & 2 & 3\\\\\n",
       "\t 4 & 5 & 6\\\\\n",
       "\\end{tabular}\n"
      ],
      "text/markdown": [
       "\n",
       "A spec_tbl_df: 2 × 3\n",
       "\n",
       "| x &lt;dbl&gt; | y &lt;dbl&gt; | z &lt;dbl&gt; |\n",
       "|---|---|---|\n",
       "| 1 | 2 | 3 |\n",
       "| 4 | 5 | 6 |\n",
       "\n"
      ],
      "text/plain": [
       "  x y z\n",
       "1 1 2 3\n",
       "2 4 5 6"
      ]
     },
     "metadata": {},
     "output_type": "display_data"
    }
   ],
   "source": [
    "read_csv(\"1,2,3\\n4,5,6\", col_names = c(\"x\", \"y\", \"z\"))"
   ]
  },
  {
   "cell_type": "markdown",
   "metadata": {},
   "source": [
    "El argumento `na` se usa para especificar qué valor (o valores) del archivo son \"missing values\":"
   ]
  },
  {
   "cell_type": "code",
   "execution_count": null,
   "metadata": {},
   "outputs": [],
   "source": [
    "read_csv(\"a,b,c\\n1,2,.\", na = \".\")"
   ]
  },
  {
   "cell_type": "markdown",
   "metadata": {},
   "source": [
    "Las principales ventajas de `read_csv` frente a `read.csv` (de base de R) son:\n",
    "* Es más rápido.\n",
    "* Importa los datos a un objeto de clase `tibble`. De manera que...\n",
    "    - No convierte los \"character\" a \"factor\" for defecto\n",
    "    - No usa nombres de filas\n",
    "    - No transforma los nombres de columna"
   ]
  },
  {
   "cell_type": "markdown",
   "metadata": {},
   "source": [
    "---\n",
    "\n",
    "### Práctica 4\n",
    "\n",
    "¿Qúe función de importación utilizarías para un archivo separado por \"|\" (e.g. \"a|b|c\\n1|2|3\")? Escribe un ejemplo a continuación:"
   ]
  },
  {
   "cell_type": "code",
   "execution_count": 83,
   "metadata": {},
   "outputs": [
    {
     "data": {
      "text/html": [
       "<table>\n",
       "<caption>A spec_tbl_df: 1 × 3</caption>\n",
       "<thead>\n",
       "\t<tr><th scope=col>a</th><th scope=col>b</th><th scope=col>c</th></tr>\n",
       "\t<tr><th scope=col>&lt;dbl&gt;</th><th scope=col>&lt;dbl&gt;</th><th scope=col>&lt;dbl&gt;</th></tr>\n",
       "</thead>\n",
       "<tbody>\n",
       "\t<tr><td>1</td><td>2</td><td>3</td></tr>\n",
       "</tbody>\n",
       "</table>\n"
      ],
      "text/latex": [
       "A spec_tbl_df: 1 × 3\n",
       "\\begin{tabular}{r|lll}\n",
       " a & b & c\\\\\n",
       " <dbl> & <dbl> & <dbl>\\\\\n",
       "\\hline\n",
       "\t 1 & 2 & 3\\\\\n",
       "\\end{tabular}\n"
      ],
      "text/markdown": [
       "\n",
       "A spec_tbl_df: 1 × 3\n",
       "\n",
       "| a &lt;dbl&gt; | b &lt;dbl&gt; | c &lt;dbl&gt; |\n",
       "|---|---|---|\n",
       "| 1 | 2 | 3 |\n",
       "\n"
      ],
      "text/plain": [
       "  a b c\n",
       "1 1 2 3"
      ]
     },
     "metadata": {},
     "output_type": "display_data"
    }
   ],
   "source": [
    "read_delim(\"a|b|c\\n1|2|3\", delim=\"|\")"
   ]
  },
  {
   "cell_type": "markdown",
   "metadata": {},
   "source": [
    "Identifica qué está mal en los siguientes archivos CSV y corrígelo:"
   ]
  },
  {
   "cell_type": "code",
   "execution_count": 92,
   "metadata": {},
   "outputs": [
    {
     "name": "stderr",
     "output_type": "stream",
     "text": [
      "Warning message:\n",
      "“Missing column names filled in: 'X3' [3]”"
     ]
    },
    {
     "data": {
      "text/html": [
       "<table>\n",
       "<caption>A spec_tbl_df: 2 × 3</caption>\n",
       "<thead>\n",
       "\t<tr><th scope=col>a</th><th scope=col>b</th><th scope=col>X3</th></tr>\n",
       "\t<tr><th scope=col>&lt;dbl&gt;</th><th scope=col>&lt;dbl&gt;</th><th scope=col>&lt;dbl&gt;</th></tr>\n",
       "</thead>\n",
       "<tbody>\n",
       "\t<tr><td>1</td><td>2</td><td>3</td></tr>\n",
       "\t<tr><td>4</td><td>5</td><td>6</td></tr>\n",
       "</tbody>\n",
       "</table>\n"
      ],
      "text/latex": [
       "A spec_tbl_df: 2 × 3\n",
       "\\begin{tabular}{r|lll}\n",
       " a & b & X3\\\\\n",
       " <dbl> & <dbl> & <dbl>\\\\\n",
       "\\hline\n",
       "\t 1 & 2 & 3\\\\\n",
       "\t 4 & 5 & 6\\\\\n",
       "\\end{tabular}\n"
      ],
      "text/markdown": [
       "\n",
       "A spec_tbl_df: 2 × 3\n",
       "\n",
       "| a &lt;dbl&gt; | b &lt;dbl&gt; | X3 &lt;dbl&gt; |\n",
       "|---|---|---|\n",
       "| 1 | 2 | 3 |\n",
       "| 4 | 5 | 6 |\n",
       "\n"
      ],
      "text/plain": [
       "  a b X3\n",
       "1 1 2 3 \n",
       "2 4 5 6 "
      ]
     },
     "metadata": {},
     "output_type": "display_data"
    },
    {
     "name": "stderr",
     "output_type": "stream",
     "text": [
      "Using ',' as decimal and '.' as grouping mark. Use read_delim() for more control.\n"
     ]
    },
    {
     "data": {
      "text/html": [
       "<table>\n",
       "<caption>A spec_tbl_df: 1 × 2</caption>\n",
       "<thead>\n",
       "\t<tr><th scope=col>a</th><th scope=col>b</th></tr>\n",
       "\t<tr><th scope=col>&lt;dbl&gt;</th><th scope=col>&lt;dbl&gt;</th></tr>\n",
       "</thead>\n",
       "<tbody>\n",
       "\t<tr><td>1</td><td>3</td></tr>\n",
       "</tbody>\n",
       "</table>\n"
      ],
      "text/latex": [
       "A spec_tbl_df: 1 × 2\n",
       "\\begin{tabular}{r|ll}\n",
       " a & b\\\\\n",
       " <dbl> & <dbl>\\\\\n",
       "\\hline\n",
       "\t 1 & 3\\\\\n",
       "\\end{tabular}\n"
      ],
      "text/markdown": [
       "\n",
       "A spec_tbl_df: 1 × 2\n",
       "\n",
       "| a &lt;dbl&gt; | b &lt;dbl&gt; |\n",
       "|---|---|\n",
       "| 1 | 3 |\n",
       "\n"
      ],
      "text/plain": [
       "  a b\n",
       "1 1 3"
      ]
     },
     "metadata": {},
     "output_type": "display_data"
    }
   ],
   "source": [
    "read_csv(\"a,b,\\n1,2,3\\n4,5,6\")\n",
    "read_csv2(\"a;b\\n1;3\")\n"
   ]
  },
  {
   "cell_type": "markdown",
   "metadata": {},
   "source": [
    "---\n",
    "\n",
    "### Escribir datos\n",
    "\n",
    "`readr` incluye tres funciones útiles para escribir datos en disco: `write_csv()`, `write_delim()` `write_tsv()`\n",
    "\n",
    "---\n",
    "\n",
    "### Práctica 5\n",
    "\n",
    "Exporta el dataset `flights` al directorio que quieras (utiliza `?write_csv` como ayuda)."
   ]
  },
  {
   "cell_type": "code",
   "execution_count": null,
   "metadata": {},
   "outputs": [],
   "source": [
    "# write_..."
   ]
  },
  {
   "cell_type": "markdown",
   "metadata": {},
   "source": [
    "---"
   ]
  },
  {
   "cell_type": "markdown",
   "metadata": {},
   "source": [
    "## ORDENAR DATOS\n",
    "\n",
    "### (Datasets de ejemplo: *table1*, *table2*, *table3*, ... y *flights*)\n",
    "\n",
    "A veces nos tenemos que enfrentar a datasets desordenados y complejos. **El paquete `tidyr` ofrece herramientas que ayudan a ordenar datos.** \n",
    "Los datos que utilizaremos en esta sección se incluyen en el paquete `tidyr` (e.g. `table1`, `table2`, ...)"
   ]
  },
  {
   "cell_type": "code",
   "execution_count": null,
   "metadata": {},
   "outputs": [],
   "source": [
    "table1"
   ]
  },
  {
   "cell_type": "code",
   "execution_count": null,
   "metadata": {},
   "outputs": [],
   "source": [
    "table2"
   ]
  },
  {
   "cell_type": "code",
   "execution_count": null,
   "metadata": {},
   "outputs": [],
   "source": [
    "table3"
   ]
  },
  {
   "cell_type": "code",
   "execution_count": null,
   "metadata": {},
   "outputs": [],
   "source": [
    "table4a"
   ]
  },
  {
   "cell_type": "code",
   "execution_count": null,
   "metadata": {},
   "outputs": [],
   "source": [
    "table4b"
   ]
  },
  {
   "cell_type": "markdown",
   "metadata": {},
   "source": [
    "Todas estas tablas son representaciones del mismo conjunto de datos subyacente, pero no son igualmente fáciles de usar. Nuestro objetivo es obtener un conjunto de datos ordenado.\n",
    "\n",
    "\n",
    "Hay tres reglas que cumple un **CONJUNTO DE DATOS ORDENADO**:\n",
    "\n",
    "* **Cada variable** debe tener su **propia columna**.\n",
    "* **Cada observación** debe tener su **propia fila**.\n",
    "* **Cada valor** debe tener su **propia celda**.\n",
    "\n",
    "![](figs/tidy-1.png)"
   ]
  },
  {
   "cell_type": "markdown",
   "metadata": {},
   "source": [
    "En este ejemplo, únicamente `table1` está ordenada. Es la única representación donde cada columna es una variable."
   ]
  },
  {
   "cell_type": "code",
   "execution_count": null,
   "metadata": {},
   "outputs": [],
   "source": [
    "# Añadimos la variable rate (rate per 10,000)\n",
    "  mutate(table1, rate = cases / population * 10000)\n"
   ]
  },
  {
   "cell_type": "markdown",
   "metadata": {},
   "source": [
    "* La Función **`gather()`**:  Un problema común es un conjunto de datos donde algunos de los **nombres de columnas** no son nombres de variables, sino **valores de una variable**, como ocurre en `table4a` y `table4b`."
   ]
  },
  {
   "cell_type": "code",
   "execution_count": null,
   "metadata": {},
   "outputs": [],
   "source": [
    "table4a\n",
    "table4b\n",
    "tidy4a <- gather(table4a, `1999`, `2000`, key = \"year\", value = \"cases\")\n",
    "tidy4a"
   ]
  },
  {
   "cell_type": "code",
   "execution_count": null,
   "metadata": {},
   "outputs": [],
   "source": [
    "tidy4b <- gather(table4b, `1999`, `2000`, key = \"year\", value = \"population\")\n",
    "tidy4b"
   ]
  },
  {
   "cell_type": "markdown",
   "metadata": {},
   "source": [
    "Utilizamos la función `left_join()` de `dplyr` para combinar `table4a` y `table4b`:"
   ]
  },
  {
   "cell_type": "code",
   "execution_count": null,
   "metadata": {},
   "outputs": [],
   "source": [
    "left_join(tidy4a, tidy4b)"
   ]
  },
  {
   "cell_type": "markdown",
   "metadata": {},
   "source": [
    "* La Función **`spread()`**. A veces una **observación** está dispersa **en varias filas** (e.g. `table2`, una observación es un país en un año, pero cada observación se distribuye en dos filas)."
   ]
  },
  {
   "cell_type": "code",
   "execution_count": null,
   "metadata": {},
   "outputs": [],
   "source": [
    "table2\n",
    "tidy2 <- spread(table2, key = type, value = count)\n",
    "tidy2"
   ]
  },
  {
   "cell_type": "markdown",
   "metadata": {},
   "source": [
    "![](figs/tidy-8.png)"
   ]
  },
  {
   "cell_type": "markdown",
   "metadata": {},
   "source": [
    "* La función **`separate()`**. A veces podemos encontrarnos con **una columna** que contiene **dos variables** (e.g. `table3`, columna `rate` contiene las variables `cases` y `population`)."
   ]
  },
  {
   "cell_type": "code",
   "execution_count": null,
   "metadata": {},
   "outputs": [],
   "source": [
    "table3\n",
    "separate(table3, rate, into = c(\"cases\", \"population\"))"
   ]
  },
  {
   "cell_type": "code",
   "execution_count": null,
   "metadata": {},
   "outputs": [],
   "source": [
    "tidy3 <- separate(table3, rate, into = c(\"cases\", \"population\"), sep = \"/\")"
   ]
  },
  {
   "cell_type": "markdown",
   "metadata": {},
   "source": [
    "* La función **`unite()`**. Nos puede interesar **combinar** multiples **variables en una única** (e.g. para fechas)"
   ]
  },
  {
   "cell_type": "markdown",
   "metadata": {},
   "source": [
    "--- \n",
    "### Práctica 6\n",
    "\n",
    "Utiliza el dataset `flights` y la función `unite()` para crear la variable `fecha` que combina el año, el mes y el día."
   ]
  },
  {
   "cell_type": "code",
   "execution_count": null,
   "metadata": {},
   "outputs": [],
   "source": [
    "# unite()..\n"
   ]
  },
  {
   "cell_type": "markdown",
   "metadata": {},
   "source": [
    "---"
   ]
  },
  {
   "cell_type": "markdown",
   "metadata": {},
   "source": [
    "\n",
    "Hasta ahora, hemos ido ejecutando cada proceso con líneas de código independientes, asignando cada resultado provisional a una nueva variable. Por lo general, se suele construir un **\"pipe\"** gradualmente con `%>%`. \n",
    "\n",
    "Por ejemplo:\n",
    "\n",
    "\n"
   ]
  },
  {
   "cell_type": "code",
   "execution_count": null,
   "metadata": {},
   "outputs": [],
   "source": [
    "iris %>%\n",
    "group_by(Species) %>%\n",
    "  summarise(meanSL = mean(SepalLengthCm), meanSW = mean(SepalWidthCm), \n",
    "          meanPL = mean(PetalLengthCm), meanPW = mean(PetalWidthCm))"
   ]
  },
  {
   "cell_type": "code",
   "execution_count": null,
   "metadata": {},
   "outputs": [],
   "source": [
    "titanic <- read_csv(\"data/titanic.csv\")\n",
    "str(titanic)"
   ]
  },
  {
   "cell_type": "code",
   "execution_count": null,
   "metadata": {},
   "outputs": [],
   "source": [
    "titanic %>%\n",
    "\n",
    "  select(-PassengerId, -Name, -Cabin, -Ticket) %>%\n",
    "\n",
    "  mutate(Sex = fct_recode(Sex,\n",
    "           \"0\" = \"male\",\n",
    "           \"1\" = \"female\"),\n",
    "         Embarked = fct_recode(Embarked,\n",
    "           \"1\" = \"S\",\n",
    "           \"2\" = \"C\",\n",
    "           \"3\" = \"Q\")  \n",
    "\n",
    "        ) %>%\n",
    " \n",
    "  mutate(Sex = as.integer(Sex),\n",
    "         Embarked = as.integer(Embarked),\n",
    "         Pclass = as.integer(Pclass),\n",
    "         Survived = as.integer(Survived)) %>%\n",
    "  filter(complete.cases(.)) %>%\n",
    "  cor() %>%\n",
    "  abs() %>%\n",
    "  levelplot(col.regions = c(gray.colors(5), rev(gray.colors(5))) , at = seq(-1, 1, 0.2))"
   ]
  },
  {
   "cell_type": "markdown",
   "metadata": {},
   "source": [
    "---\n",
    "\n",
    "## CASO DE ESTUDIO\n",
    "\n",
    "(Dataset de ejemplo: *Kaggle ML and Data Science Survey, 2017*)"
   ]
  },
  {
   "cell_type": "markdown",
   "metadata": {},
   "source": [
    "1.- Consulta el \"overview\" del dataset \"Kaggle ML and Data Science Survey, 2017\" de Kaggle (https://www.kaggle.com/kaggle/kaggle-survey-2017)\n",
    "\n",
    "2.- Descárgalo y léelo en R. ¿Un único csv o varios?\n",
    "\n",
    "3.- Echa un vistazo a los scripts de R markdown (notebooks con extensión \".rmd\") disponibles (pestaña kernels).\n",
    "\n",
    "4.- Puedes elegir el que más te interese. Este, https://www.kaggle.com/kumarhalake/kaggle-survey-2017-graphical-exploration, es apropiado para visualizar datos. Puedes encontrar otro donde muestren cómo transformar los datos, por ejemplo, https://www.kaggle.com/mrisdal/dealing-with-dirty-data-on-the-job, o cómo ordenarlos (tidy).\n",
    "\n",
    "5.- Reproduce alguno de los gráficos y pasos que se muestran en los notebooks de kaggle.\n",
    "\n"
   ]
  }
 ],
 "metadata": {
  "kernelspec": {
   "display_name": "R",
   "language": "R",
   "name": "ir"
  },
  "language_info": {
   "codemirror_mode": "r",
   "file_extension": ".r",
   "mimetype": "text/x-r-source",
   "name": "R",
   "pygments_lexer": "r",
   "version": "3.6.1"
  }
 },
 "nbformat": 4,
 "nbformat_minor": 2
}
