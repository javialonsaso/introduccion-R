{
 "cells": [
  {
   "cell_type": "markdown",
   "metadata": {},
   "source": [
    "# Estructuras de Control"
   ]
  },
  {
   "cell_type": "markdown",
   "metadata": {},
   "source": [
    "Las estructuras de control son el esqueleto del lenguage de la programación. Entre las estructuras de control encontramos los bucles, las sentencias condicionales. En este clase vamos a ver las estructuras de control básicas de la programación en R. \n",
    "\n",
    "PARTE 1:\n",
    "- if-else\n",
    "- for\n",
    "- while\n",
    "- repeat/break\n",
    "\n",
    "PARTE 2:\n",
    "- apply/sapply/lapply/tapply\n",
    "- programación paralelizada"
   ]
  },
  {
   "cell_type": "markdown",
   "metadata": {},
   "source": [
    "## If-else\n"
   ]
  },
  {
   "cell_type": "markdown",
   "metadata": {},
   "source": [
    "En esta sección vamos a ver como implementar una condición en R. Las condiciones se expresan de la siguiente manera:\n",
    "\n",
    "- a == b   (es TRUE si a y b son IGUALES) \n",
    "- a != b   (es TRUE si a y b son DISTINTO)\n",
    "- a >= b   (es TRUE si a es MAYOR o IGUAL a b)\n",
    "- a <= b   (es TRUE si a es MENOR o IGUAL a b)\n",
    "- a < b || a == c (es TRUE si a es MENOR que b o si a es IGUAL a c)\n",
    "- a <= b && a == c (es TRUE si a es MENOR que b y si a es IGUAL a c)\n",
    "\n",
    "Si se ejecuta la condición se obtiene un objeto de tipo booleano (TRUE o FALSE), que indica si se cumple o no dicha condición. Los elementos a y b pueden ser en principio cualquier objeto: lista, número, caracter ... "
   ]
  },
  {
   "cell_type": "code",
   "execution_count": 2,
   "metadata": {},
   "outputs": [
    {
     "data": {
      "text/html": [
       "TRUE"
      ],
      "text/latex": [
       "TRUE"
      ],
      "text/markdown": [
       "TRUE"
      ],
      "text/plain": [
       "[1] TRUE"
      ]
     },
     "metadata": {},
     "output_type": "display_data"
    },
    {
     "data": {
      "text/html": [
       "FALSE"
      ],
      "text/latex": [
       "FALSE"
      ],
      "text/markdown": [
       "FALSE"
      ],
      "text/plain": [
       "[1] FALSE"
      ]
     },
     "metadata": {},
     "output_type": "display_data"
    },
    {
     "data": {
      "text/html": [
       "TRUE"
      ],
      "text/latex": [
       "TRUE"
      ],
      "text/markdown": [
       "TRUE"
      ],
      "text/plain": [
       "[1] TRUE"
      ]
     },
     "metadata": {},
     "output_type": "display_data"
    },
    {
     "data": {
      "text/html": [
       "FALSE"
      ],
      "text/latex": [
       "FALSE"
      ],
      "text/markdown": [
       "FALSE"
      ],
      "text/plain": [
       "[1] FALSE"
      ]
     },
     "metadata": {},
     "output_type": "display_data"
    },
    {
     "data": {
      "text/html": [
       "TRUE"
      ],
      "text/latex": [
       "TRUE"
      ],
      "text/markdown": [
       "TRUE"
      ],
      "text/plain": [
       "[1] TRUE"
      ]
     },
     "metadata": {},
     "output_type": "display_data"
    },
    {
     "data": {
      "text/html": [
       "FALSE"
      ],
      "text/latex": [
       "FALSE"
      ],
      "text/markdown": [
       "FALSE"
      ],
      "text/plain": [
       "[1] FALSE"
      ]
     },
     "metadata": {},
     "output_type": "display_data"
    },
    {
     "data": {
      "text/html": [
       "TRUE"
      ],
      "text/latex": [
       "TRUE"
      ],
      "text/markdown": [
       "TRUE"
      ],
      "text/plain": [
       "[1] TRUE"
      ]
     },
     "metadata": {},
     "output_type": "display_data"
    }
   ],
   "source": [
    "a <- 2\n",
    "b <- 5\n",
    "c <- 2\n",
    "\n",
    "a == 2\n",
    "a == b\n",
    "a == c\n",
    "a != 2\n",
    "b >= c\n",
    "\n",
    "a == c && a == b\n",
    "a == c || a == b"
   ]
  },
  {
   "cell_type": "markdown",
   "metadata": {},
   "source": [
    "La condición también puede estar asignada a un objeto, como por ejemplo:"
   ]
  },
  {
   "cell_type": "code",
   "execution_count": 4,
   "metadata": {},
   "outputs": [
    {
     "name": "stdout",
     "output_type": "stream",
     "text": [
      "[1] \"No se cumple la condicion\"\n"
     ]
    },
    {
     "data": {
      "text/html": [
       "'Esto se debe a que el objeto cond1 es de la clase: logical'"
      ],
      "text/latex": [
       "'Esto se debe a que el objeto cond1 es de la clase: logical'"
      ],
      "text/markdown": [
       "'Esto se debe a que el objeto cond1 es de la clase: logical'"
      ],
      "text/plain": [
       "[1] \"Esto se debe a que el objeto cond1 es de la clase: logical\""
      ]
     },
     "metadata": {},
     "output_type": "display_data"
    },
    {
     "name": "stdout",
     "output_type": "stream",
     "text": [
      "[1] \"Se cumple la condicion\"\n"
     ]
    }
   ],
   "source": [
    "cond1 <- a == 2\n",
    "\n",
    "# Aqui está asignada la condicion a cond1\n",
    "if (cond1) {\n",
    "    print(\"Se cumple la condicion\")\n",
    "} else {\n",
    "    print(\"No se cumple la condicion\")\n",
    "}\n",
    "paste(\"Esto se debe a que el objeto cond1 es de la clase:\",class(cond1))\n",
    "\n",
    "# ... que equivale a esto\n",
    "if (a == 2) {\n",
    "    print(\"Se cumple la condicion\")\n",
    "} else {\n",
    "    print(\"No se cumple la condicion\")\n",
    "}"
   ]
  },
  {
   "cell_type": "markdown",
   "metadata": {},
   "source": [
    "Si ponemos el símbolo ! antes de la condición indica DISTINTO a la condición:"
   ]
  },
  {
   "cell_type": "code",
   "execution_count": 5,
   "metadata": {},
   "outputs": [
    {
     "data": {
      "text/html": [
       "'Por tanto si cond1 es TRUE entonces !cond1 es FALSE'"
      ],
      "text/latex": [
       "'Por tanto si cond1 es TRUE entonces !cond1 es FALSE'"
      ],
      "text/markdown": [
       "'Por tanto si cond1 es TRUE entonces !cond1 es FALSE'"
      ],
      "text/plain": [
       "[1] \"Por tanto si cond1 es TRUE entonces !cond1 es FALSE\""
      ]
     },
     "metadata": {},
     "output_type": "display_data"
    },
    {
     "name": "stdout",
     "output_type": "stream",
     "text": [
      "[1] \"No se cumple la condicion\"\n"
     ]
    }
   ],
   "source": [
    "paste(\"Por tanto si cond1 es\",cond1,\"entonces !cond1 es\",!cond1)\n",
    "\n",
    "if (!cond1) {\n",
    "    print(\"Se cumple la condicion\")\n",
    "} else {\n",
    "    print(\"No se cumple la condicion\")\n",
    "}"
   ]
  },
  {
   "cell_type": "markdown",
   "metadata": {},
   "source": [
    "Hay funciones importantes de R que nos permiten obtener información sobre sobre los objetos, de tal manera que dichas funciones nos \"contestan\" con True o False .\n",
    "Por ejemplo, a la pregunta: ¿Hay algún NaN en esta matriz? se encarga de responderla la función any.na(), cuya salida de la función es una variable booleana."
   ]
  },
  {
   "cell_type": "code",
   "execution_count": 10,
   "metadata": {},
   "outputs": [
    {
     "data": {
      "text/html": [
       "'En este dataset hay NaNs'"
      ],
      "text/latex": [
       "'En este dataset hay NaNs'"
      ],
      "text/markdown": [
       "'En este dataset hay NaNs'"
      ],
      "text/plain": [
       "[1] \"En este dataset hay NaNs\""
      ]
     },
     "metadata": {},
     "output_type": "display_data"
    }
   ],
   "source": [
    "vec <- c(1,5,NA,7)\n",
    "cond <- anyNA(vec)\n",
    "if (cond) {\n",
    "    paste(\"En este dataset hay NaNs\")\n",
    "} else {\n",
    "    print(\"En este dataset no hay NaNs\")\n",
    "}"
   ]
  },
  {
   "cell_type": "markdown",
   "metadata": {},
   "source": [
    "Otro ejemplo, a la pregunta: ¿Es esto un NaN en esta matriz? se encarga de responderla la función is.na(), cuya salida de la función es una variable booleana."
   ]
  },
  {
   "cell_type": "code",
   "execution_count": 51,
   "metadata": {},
   "outputs": [
    {
     "data": {
      "text/html": [
       "<ol class=list-inline>\n",
       "\t<li>FALSE</li>\n",
       "\t<li>FALSE</li>\n",
       "\t<li>TRUE</li>\n",
       "\t<li>FALSE</li>\n",
       "</ol>\n"
      ],
      "text/latex": [
       "\\begin{enumerate*}\n",
       "\\item FALSE\n",
       "\\item FALSE\n",
       "\\item TRUE\n",
       "\\item FALSE\n",
       "\\end{enumerate*}\n"
      ],
      "text/markdown": [
       "1. FALSE\n",
       "2. FALSE\n",
       "3. TRUE\n",
       "4. FALSE\n",
       "\n",
       "\n"
      ],
      "text/plain": [
       "[1] FALSE FALSE  TRUE FALSE"
      ]
     },
     "metadata": {},
     "output_type": "display_data"
    }
   ],
   "source": [
    "vec <- c(1,5,NA,7)\n",
    "is.na(vec)"
   ]
  },
  {
   "cell_type": "markdown",
   "metadata": {},
   "source": [
    "En este caso anterior, si introdujesemos lo siguiente, salta un warning ya que vec no tiene longitud 1."
   ]
  },
  {
   "cell_type": "code",
   "execution_count": 11,
   "metadata": {},
   "outputs": [
    {
     "name": "stderr",
     "output_type": "stream",
     "text": [
      "Warning message in if (cond) {:\n",
      "“the condition has length > 1 and only the first element will be used”"
     ]
    },
    {
     "name": "stdout",
     "output_type": "stream",
     "text": [
      "[1] \"En este dataset no hay NaNs\"\n"
     ]
    },
    {
     "data": {
      "text/html": [],
      "text/latex": [],
      "text/markdown": [],
      "text/plain": [
       "integer(0)"
      ]
     },
     "metadata": {},
     "output_type": "display_data"
    }
   ],
   "source": [
    "vec <- c(1,5,NA,7)\n",
    "cond <- is.na(vec)\n",
    "if (cond) {\n",
    "    num_NA <- which(vec == NA)\n",
    "    paste(\"En este dataset hay NaNs, concretamente hay\",num_NA)\n",
    "} else {\n",
    "    print(\"En este dataset no hay NaNs\")\n",
    "}\n",
    "\n",
    "which(vec == NA)"
   ]
  },
  {
   "cell_type": "code",
   "execution_count": null,
   "metadata": {},
   "outputs": [],
   "source": []
  },
  {
   "cell_type": "markdown",
   "metadata": {},
   "source": [
    "En resumidas cuentas, en la estructura if (condicion), lo importante es que la condicion sea un objeto de tipo booleano y a ser posible cuya longitud sea 1!"
   ]
  },
  {
   "cell_type": "markdown",
   "metadata": {},
   "source": [
    "Hay dos grandes diferencias con respecto a python: 1) la condición va entre paréntesis mientras que en python no y 2) el cuerpo de la condición va entre llaves sin importar el sangrado de línea mientras que en python es al revés (prima el sangrado de línea y no hay que poner llaves)."
   ]
  },
  {
   "cell_type": "code",
   "execution_count": 11,
   "metadata": {},
   "outputs": [],
   "source": [
    "## En R\n",
    "#if (condicion) {\n",
    "#    # haz algo aqui\n",
    "#} else {\n",
    "#    # sino haz algo aqui\n",
    "#}\n",
    "#\n",
    "## En python\n",
    "#if condicion:\n",
    "#    #haz algo aqui\n",
    "#else:\n",
    "#    #sino haz algo aqui"
   ]
  },
  {
   "cell_type": "markdown",
   "metadata": {},
   "source": [
    "A continuación se pueden ver un ejemplo completo de la aplicacion del if else:"
   ]
  },
  {
   "cell_type": "code",
   "execution_count": 13,
   "metadata": {},
   "outputs": [
    {
     "name": "stdout",
     "output_type": "stream",
     "text": [
      "Le toca el turno a:Paco\n",
      "Me puede decir su apellido por favor:Robles\n"
     ]
    },
    {
     "data": {
      "text/html": [
       "'Muy bien Paco Robles pase a la sala'"
      ],
      "text/latex": [
       "'Muy bien Paco Robles pase a la sala'"
      ],
      "text/markdown": [
       "'Muy bien Paco Robles pase a la sala'"
      ],
      "text/plain": [
       "[1] \"Muy bien Paco Robles pase a la sala\""
      ]
     },
     "metadata": {},
     "output_type": "display_data"
    }
   ],
   "source": [
    "my_list = list(\"nombre\" = c(\"Paco\",\"Álvaro\",\"Juan\"), \n",
    "               \"apellido\" = c(\"López\",\"Castillo\",\"Robles\")\n",
    "              ) \n",
    "\n",
    "nom <- readline(prompt=\"Le toca el turno a:\")\n",
    "\n",
    "if (any(my_list$nombre == nom)) {\n",
    "       apell <- readline(prompt=\"Me puede decir su apellido por favor:\")\n",
    "    if (any(my_list$apellido == apell)) {\n",
    "        paste(\"Muy bien\",nom,apell,\"pase a la sala\")\n",
    "    }\n",
    "    else {\n",
    "        paste(\"Lo siento yo estoy buscando a otro\",nom)\n",
    "    }\n",
    "}else {\n",
    "    paste(\"No hay nadie con ese nombre en la sala\")\n",
    "}       "
   ]
  },
  {
   "cell_type": "markdown",
   "metadata": {},
   "source": [
    "En realidad, el ejercicio anterior tiene un pequeño fallo ya que no es capaz de asociar los apellidos con los nombres. Es decir, cuando introduces el apellido el código tan solo busca si ese apellido está en my_list, independientemente de si efectivamente el apellido en cuestión está asociado a algún nombre en particular (Si introduces de nombre \"Paco\" y de apellido \"Castillo\" el algoritmo va a llamar a Paco Castillo cuando no hay ningún Paco Castillo). \n",
    "\n",
    "EJERCICIO PROPUESTO: asocia los nombres a los apellidos en la siguiente celda (ayuda: utiliza la función which):"
   ]
  },
  {
   "cell_type": "code",
   "execution_count": 5,
   "metadata": {},
   "outputs": [
    {
     "name": "stdout",
     "output_type": "stream",
     "text": [
      "Le toca el turno a:Paco\n",
      "Me puede decir su apellido por favor:López\n"
     ]
    },
    {
     "data": {
      "text/html": [
       "'Muy bien Paco López pase a la sala'"
      ],
      "text/latex": [
       "'Muy bien Paco López pase a la sala'"
      ],
      "text/markdown": [
       "'Muy bien Paco López pase a la sala'"
      ],
      "text/plain": [
       "[1] \"Muy bien Paco López pase a la sala\""
      ]
     },
     "metadata": {},
     "output_type": "display_data"
    }
   ],
   "source": [
    "my_list = list(\"nombre\" = c(\"Paco\",\"Álvaro\",\"Juan\"), \n",
    "               \"apellido\" = c(\"López\",\"Castillo\",\"Robles\")\n",
    "              ) \n",
    "\n",
    "nom <- readline(prompt=\"Le toca el turno a:\")\n",
    "\n",
    "nom.pos <- which(my_list$nombre == nom)\n",
    "\n",
    "if (any(my_list$nombre == nom)) {\n",
    "       apell <- readline(prompt=\"Me puede decir su apellido por favor:\")\n",
    "\n",
    "    if (my_list$apellido[nom.pos] == apell) {\n",
    "        paste(\"Muy bien\",nom,apell,\"pase a la sala\")\n",
    "    }\n",
    "    else {\n",
    "        paste(\"Lo siento yo estoy buscando a otro\",nom)\n",
    "    }\n",
    "}else {\n",
    "    paste(\"No hay nadie con ese nombre en la sala\")\n",
    "} "
   ]
  },
  {
   "cell_type": "markdown",
   "metadata": {},
   "source": [
    "EJERCICIO PROPUESTO: En la siguiente celda tienes un vector de datos. Tienes que hacer lo siguiente:\n",
    "- Identifica los valores menores que 1 y asignales el valor 0.\n",
    "- Identifica los valores mayores que 0 y multiplicalos por 2."
   ]
  },
  {
   "cell_type": "code",
   "execution_count": 29,
   "metadata": {},
   "outputs": [
    {
     "data": {
      "text/html": [
       "<ol class=list-inline>\n",
       "\t<li>-16</li>\n",
       "\t<li>97</li>\n",
       "\t<li>-95</li>\n",
       "\t<li>59</li>\n",
       "\t<li>35</li>\n",
       "\t<li>-84</li>\n",
       "\t<li>-8</li>\n",
       "\t<li>24</li>\n",
       "\t<li>-60</li>\n",
       "\t<li>77</li>\n",
       "\t<li>-26</li>\n",
       "\t<li>30</li>\n",
       "\t<li>-51</li>\n",
       "\t<li>14</li>\n",
       "\t<li>-46</li>\n",
       "\t<li>-38</li>\n",
       "\t<li>96</li>\n",
       "\t<li>-68</li>\n",
       "\t<li>-47</li>\n",
       "\t<li>4</li>\n",
       "\t<li>11</li>\n",
       "\t<li>70</li>\n",
       "\t<li>-63</li>\n",
       "\t<li>81</li>\n",
       "\t<li>9</li>\n",
       "\t<li>67</li>\n",
       "\t<li>43</li>\n",
       "\t<li>-56</li>\n",
       "\t<li>33</li>\n",
       "\t<li>-18</li>\n",
       "\t<li>-92</li>\n",
       "\t<li>18</li>\n",
       "\t<li>93</li>\n",
       "\t<li>72</li>\n",
       "\t<li>-7</li>\n",
       "\t<li>29</li>\n",
       "\t<li>69</li>\n",
       "\t<li>-98</li>\n",
       "\t<li>28</li>\n",
       "\t<li>-53</li>\n",
       "\t<li>92</li>\n",
       "\t<li>73</li>\n",
       "\t<li>83</li>\n",
       "\t<li>-83</li>\n",
       "\t<li>-93</li>\n",
       "\t<li>66</li>\n",
       "\t<li>-64</li>\n",
       "\t<li>48</li>\n",
       "\t<li>17</li>\n",
       "\t<li>-30</li>\n",
       "\t<li>1</li>\n",
       "\t<li>-57</li>\n",
       "\t<li>-81</li>\n",
       "\t<li>79</li>\n",
       "\t<li>5</li>\n",
       "\t<li>88</li>\n",
       "\t<li>-31</li>\n",
       "\t<li>-86</li>\n",
       "\t<li>-88</li>\n",
       "\t<li>-29</li>\n",
       "\t<li>52</li>\n",
       "\t<li>-5</li>\n",
       "\t<li>-24</li>\n",
       "\t<li>32</li>\n",
       "\t<li>12</li>\n",
       "\t<li>21</li>\n",
       "\t<li>47</li>\n",
       "\t<li>-48</li>\n",
       "\t<li>19</li>\n",
       "\t<li>-65</li>\n",
       "\t<li>95</li>\n",
       "\t<li>-21</li>\n",
       "\t<li>26</li>\n",
       "\t<li>-80</li>\n",
       "\t<li>-90</li>\n",
       "\t<li>-28</li>\n",
       "\t<li>-22</li>\n",
       "\t<li>46</li>\n",
       "\t<li>-23</li>\n",
       "\t<li>0</li>\n",
       "\t<li>-58</li>\n",
       "\t<li>36</li>\n",
       "\t<li>-25</li>\n",
       "\t<li>-76</li>\n",
       "\t<li>-37</li>\n",
       "\t<li>45</li>\n",
       "\t<li>-12</li>\n",
       "\t<li>-78</li>\n",
       "\t<li>-73</li>\n",
       "\t<li>53</li>\n",
       "\t<li>-100</li>\n",
       "\t<li>-33</li>\n",
       "\t<li>-15</li>\n",
       "\t<li>-13</li>\n",
       "\t<li>-44</li>\n",
       "\t<li>94</li>\n",
       "\t<li>50</li>\n",
       "\t<li>13</li>\n",
       "\t<li>-9</li>\n",
       "\t<li>51</li>\n",
       "</ol>\n"
      ],
      "text/latex": [
       "\\begin{enumerate*}\n",
       "\\item -16\n",
       "\\item 97\n",
       "\\item -95\n",
       "\\item 59\n",
       "\\item 35\n",
       "\\item -84\n",
       "\\item -8\n",
       "\\item 24\n",
       "\\item -60\n",
       "\\item 77\n",
       "\\item -26\n",
       "\\item 30\n",
       "\\item -51\n",
       "\\item 14\n",
       "\\item -46\n",
       "\\item -38\n",
       "\\item 96\n",
       "\\item -68\n",
       "\\item -47\n",
       "\\item 4\n",
       "\\item 11\n",
       "\\item 70\n",
       "\\item -63\n",
       "\\item 81\n",
       "\\item 9\n",
       "\\item 67\n",
       "\\item 43\n",
       "\\item -56\n",
       "\\item 33\n",
       "\\item -18\n",
       "\\item -92\n",
       "\\item 18\n",
       "\\item 93\n",
       "\\item 72\n",
       "\\item -7\n",
       "\\item 29\n",
       "\\item 69\n",
       "\\item -98\n",
       "\\item 28\n",
       "\\item -53\n",
       "\\item 92\n",
       "\\item 73\n",
       "\\item 83\n",
       "\\item -83\n",
       "\\item -93\n",
       "\\item 66\n",
       "\\item -64\n",
       "\\item 48\n",
       "\\item 17\n",
       "\\item -30\n",
       "\\item 1\n",
       "\\item -57\n",
       "\\item -81\n",
       "\\item 79\n",
       "\\item 5\n",
       "\\item 88\n",
       "\\item -31\n",
       "\\item -86\n",
       "\\item -88\n",
       "\\item -29\n",
       "\\item 52\n",
       "\\item -5\n",
       "\\item -24\n",
       "\\item 32\n",
       "\\item 12\n",
       "\\item 21\n",
       "\\item 47\n",
       "\\item -48\n",
       "\\item 19\n",
       "\\item -65\n",
       "\\item 95\n",
       "\\item -21\n",
       "\\item 26\n",
       "\\item -80\n",
       "\\item -90\n",
       "\\item -28\n",
       "\\item -22\n",
       "\\item 46\n",
       "\\item -23\n",
       "\\item 0\n",
       "\\item -58\n",
       "\\item 36\n",
       "\\item -25\n",
       "\\item -76\n",
       "\\item -37\n",
       "\\item 45\n",
       "\\item -12\n",
       "\\item -78\n",
       "\\item -73\n",
       "\\item 53\n",
       "\\item -100\n",
       "\\item -33\n",
       "\\item -15\n",
       "\\item -13\n",
       "\\item -44\n",
       "\\item 94\n",
       "\\item 50\n",
       "\\item 13\n",
       "\\item -9\n",
       "\\item 51\n",
       "\\end{enumerate*}\n"
      ],
      "text/markdown": [
       "1. -16\n",
       "2. 97\n",
       "3. -95\n",
       "4. 59\n",
       "5. 35\n",
       "6. -84\n",
       "7. -8\n",
       "8. 24\n",
       "9. -60\n",
       "10. 77\n",
       "11. -26\n",
       "12. 30\n",
       "13. -51\n",
       "14. 14\n",
       "15. -46\n",
       "16. -38\n",
       "17. 96\n",
       "18. -68\n",
       "19. -47\n",
       "20. 4\n",
       "21. 11\n",
       "22. 70\n",
       "23. -63\n",
       "24. 81\n",
       "25. 9\n",
       "26. 67\n",
       "27. 43\n",
       "28. -56\n",
       "29. 33\n",
       "30. -18\n",
       "31. -92\n",
       "32. 18\n",
       "33. 93\n",
       "34. 72\n",
       "35. -7\n",
       "36. 29\n",
       "37. 69\n",
       "38. -98\n",
       "39. 28\n",
       "40. -53\n",
       "41. 92\n",
       "42. 73\n",
       "43. 83\n",
       "44. -83\n",
       "45. -93\n",
       "46. 66\n",
       "47. -64\n",
       "48. 48\n",
       "49. 17\n",
       "50. -30\n",
       "51. 1\n",
       "52. -57\n",
       "53. -81\n",
       "54. 79\n",
       "55. 5\n",
       "56. 88\n",
       "57. -31\n",
       "58. -86\n",
       "59. -88\n",
       "60. -29\n",
       "61. 52\n",
       "62. -5\n",
       "63. -24\n",
       "64. 32\n",
       "65. 12\n",
       "66. 21\n",
       "67. 47\n",
       "68. -48\n",
       "69. 19\n",
       "70. -65\n",
       "71. 95\n",
       "72. -21\n",
       "73. 26\n",
       "74. -80\n",
       "75. -90\n",
       "76. -28\n",
       "77. -22\n",
       "78. 46\n",
       "79. -23\n",
       "80. 0\n",
       "81. -58\n",
       "82. 36\n",
       "83. -25\n",
       "84. -76\n",
       "85. -37\n",
       "86. 45\n",
       "87. -12\n",
       "88. -78\n",
       "89. -73\n",
       "90. 53\n",
       "91. -100\n",
       "92. -33\n",
       "93. -15\n",
       "94. -13\n",
       "95. -44\n",
       "96. 94\n",
       "97. 50\n",
       "98. 13\n",
       "99. -9\n",
       "100. 51\n",
       "\n",
       "\n"
      ],
      "text/plain": [
       "  [1]  -16   97  -95   59   35  -84   -8   24  -60   77  -26   30  -51   14  -46\n",
       " [16]  -38   96  -68  -47    4   11   70  -63   81    9   67   43  -56   33  -18\n",
       " [31]  -92   18   93   72   -7   29   69  -98   28  -53   92   73   83  -83  -93\n",
       " [46]   66  -64   48   17  -30    1  -57  -81   79    5   88  -31  -86  -88  -29\n",
       " [61]   52   -5  -24   32   12   21   47  -48   19  -65   95  -21   26  -80  -90\n",
       " [76]  -28  -22   46  -23    0  -58   36  -25  -76  -37   45  -12  -78  -73   53\n",
       " [91] -100  -33  -15  -13  -44   94   50   13   -9   51"
      ]
     },
     "metadata": {},
     "output_type": "display_data"
    },
    {
     "data": {
      "text/html": [
       "<ol class=list-inline>\n",
       "\t<li>0</li>\n",
       "\t<li>97</li>\n",
       "\t<li>0</li>\n",
       "\t<li>59</li>\n",
       "\t<li>35</li>\n",
       "\t<li>0</li>\n",
       "\t<li>0</li>\n",
       "\t<li>24</li>\n",
       "\t<li>0</li>\n",
       "\t<li>77</li>\n",
       "\t<li>0</li>\n",
       "\t<li>30</li>\n",
       "\t<li>0</li>\n",
       "\t<li>14</li>\n",
       "\t<li>0</li>\n",
       "\t<li>0</li>\n",
       "\t<li>96</li>\n",
       "\t<li>0</li>\n",
       "\t<li>0</li>\n",
       "\t<li>4</li>\n",
       "\t<li>11</li>\n",
       "\t<li>70</li>\n",
       "\t<li>0</li>\n",
       "\t<li>81</li>\n",
       "\t<li>9</li>\n",
       "\t<li>67</li>\n",
       "\t<li>43</li>\n",
       "\t<li>0</li>\n",
       "\t<li>33</li>\n",
       "\t<li>0</li>\n",
       "\t<li>0</li>\n",
       "\t<li>18</li>\n",
       "\t<li>93</li>\n",
       "\t<li>72</li>\n",
       "\t<li>0</li>\n",
       "\t<li>29</li>\n",
       "\t<li>69</li>\n",
       "\t<li>0</li>\n",
       "\t<li>28</li>\n",
       "\t<li>0</li>\n",
       "\t<li>92</li>\n",
       "\t<li>73</li>\n",
       "\t<li>83</li>\n",
       "\t<li>0</li>\n",
       "\t<li>0</li>\n",
       "\t<li>66</li>\n",
       "\t<li>0</li>\n",
       "\t<li>48</li>\n",
       "\t<li>17</li>\n",
       "\t<li>0</li>\n",
       "\t<li>1</li>\n",
       "\t<li>0</li>\n",
       "\t<li>0</li>\n",
       "\t<li>79</li>\n",
       "\t<li>5</li>\n",
       "\t<li>88</li>\n",
       "\t<li>0</li>\n",
       "\t<li>0</li>\n",
       "\t<li>0</li>\n",
       "\t<li>0</li>\n",
       "\t<li>52</li>\n",
       "\t<li>0</li>\n",
       "\t<li>0</li>\n",
       "\t<li>32</li>\n",
       "\t<li>12</li>\n",
       "\t<li>21</li>\n",
       "\t<li>47</li>\n",
       "\t<li>0</li>\n",
       "\t<li>19</li>\n",
       "\t<li>0</li>\n",
       "\t<li>95</li>\n",
       "\t<li>0</li>\n",
       "\t<li>26</li>\n",
       "\t<li>0</li>\n",
       "\t<li>0</li>\n",
       "\t<li>0</li>\n",
       "\t<li>0</li>\n",
       "\t<li>46</li>\n",
       "\t<li>0</li>\n",
       "\t<li>0</li>\n",
       "\t<li>0</li>\n",
       "\t<li>36</li>\n",
       "\t<li>0</li>\n",
       "\t<li>0</li>\n",
       "\t<li>0</li>\n",
       "\t<li>45</li>\n",
       "\t<li>0</li>\n",
       "\t<li>0</li>\n",
       "\t<li>0</li>\n",
       "\t<li>53</li>\n",
       "\t<li>0</li>\n",
       "\t<li>0</li>\n",
       "\t<li>0</li>\n",
       "\t<li>0</li>\n",
       "\t<li>0</li>\n",
       "\t<li>94</li>\n",
       "\t<li>50</li>\n",
       "\t<li>13</li>\n",
       "\t<li>0</li>\n",
       "\t<li>51</li>\n",
       "</ol>\n"
      ],
      "text/latex": [
       "\\begin{enumerate*}\n",
       "\\item 0\n",
       "\\item 97\n",
       "\\item 0\n",
       "\\item 59\n",
       "\\item 35\n",
       "\\item 0\n",
       "\\item 0\n",
       "\\item 24\n",
       "\\item 0\n",
       "\\item 77\n",
       "\\item 0\n",
       "\\item 30\n",
       "\\item 0\n",
       "\\item 14\n",
       "\\item 0\n",
       "\\item 0\n",
       "\\item 96\n",
       "\\item 0\n",
       "\\item 0\n",
       "\\item 4\n",
       "\\item 11\n",
       "\\item 70\n",
       "\\item 0\n",
       "\\item 81\n",
       "\\item 9\n",
       "\\item 67\n",
       "\\item 43\n",
       "\\item 0\n",
       "\\item 33\n",
       "\\item 0\n",
       "\\item 0\n",
       "\\item 18\n",
       "\\item 93\n",
       "\\item 72\n",
       "\\item 0\n",
       "\\item 29\n",
       "\\item 69\n",
       "\\item 0\n",
       "\\item 28\n",
       "\\item 0\n",
       "\\item 92\n",
       "\\item 73\n",
       "\\item 83\n",
       "\\item 0\n",
       "\\item 0\n",
       "\\item 66\n",
       "\\item 0\n",
       "\\item 48\n",
       "\\item 17\n",
       "\\item 0\n",
       "\\item 1\n",
       "\\item 0\n",
       "\\item 0\n",
       "\\item 79\n",
       "\\item 5\n",
       "\\item 88\n",
       "\\item 0\n",
       "\\item 0\n",
       "\\item 0\n",
       "\\item 0\n",
       "\\item 52\n",
       "\\item 0\n",
       "\\item 0\n",
       "\\item 32\n",
       "\\item 12\n",
       "\\item 21\n",
       "\\item 47\n",
       "\\item 0\n",
       "\\item 19\n",
       "\\item 0\n",
       "\\item 95\n",
       "\\item 0\n",
       "\\item 26\n",
       "\\item 0\n",
       "\\item 0\n",
       "\\item 0\n",
       "\\item 0\n",
       "\\item 46\n",
       "\\item 0\n",
       "\\item 0\n",
       "\\item 0\n",
       "\\item 36\n",
       "\\item 0\n",
       "\\item 0\n",
       "\\item 0\n",
       "\\item 45\n",
       "\\item 0\n",
       "\\item 0\n",
       "\\item 0\n",
       "\\item 53\n",
       "\\item 0\n",
       "\\item 0\n",
       "\\item 0\n",
       "\\item 0\n",
       "\\item 0\n",
       "\\item 94\n",
       "\\item 50\n",
       "\\item 13\n",
       "\\item 0\n",
       "\\item 51\n",
       "\\end{enumerate*}\n"
      ],
      "text/markdown": [
       "1. 0\n",
       "2. 97\n",
       "3. 0\n",
       "4. 59\n",
       "5. 35\n",
       "6. 0\n",
       "7. 0\n",
       "8. 24\n",
       "9. 0\n",
       "10. 77\n",
       "11. 0\n",
       "12. 30\n",
       "13. 0\n",
       "14. 14\n",
       "15. 0\n",
       "16. 0\n",
       "17. 96\n",
       "18. 0\n",
       "19. 0\n",
       "20. 4\n",
       "21. 11\n",
       "22. 70\n",
       "23. 0\n",
       "24. 81\n",
       "25. 9\n",
       "26. 67\n",
       "27. 43\n",
       "28. 0\n",
       "29. 33\n",
       "30. 0\n",
       "31. 0\n",
       "32. 18\n",
       "33. 93\n",
       "34. 72\n",
       "35. 0\n",
       "36. 29\n",
       "37. 69\n",
       "38. 0\n",
       "39. 28\n",
       "40. 0\n",
       "41. 92\n",
       "42. 73\n",
       "43. 83\n",
       "44. 0\n",
       "45. 0\n",
       "46. 66\n",
       "47. 0\n",
       "48. 48\n",
       "49. 17\n",
       "50. 0\n",
       "51. 1\n",
       "52. 0\n",
       "53. 0\n",
       "54. 79\n",
       "55. 5\n",
       "56. 88\n",
       "57. 0\n",
       "58. 0\n",
       "59. 0\n",
       "60. 0\n",
       "61. 52\n",
       "62. 0\n",
       "63. 0\n",
       "64. 32\n",
       "65. 12\n",
       "66. 21\n",
       "67. 47\n",
       "68. 0\n",
       "69. 19\n",
       "70. 0\n",
       "71. 95\n",
       "72. 0\n",
       "73. 26\n",
       "74. 0\n",
       "75. 0\n",
       "76. 0\n",
       "77. 0\n",
       "78. 46\n",
       "79. 0\n",
       "80. 0\n",
       "81. 0\n",
       "82. 36\n",
       "83. 0\n",
       "84. 0\n",
       "85. 0\n",
       "86. 45\n",
       "87. 0\n",
       "88. 0\n",
       "89. 0\n",
       "90. 53\n",
       "91. 0\n",
       "92. 0\n",
       "93. 0\n",
       "94. 0\n",
       "95. 0\n",
       "96. 94\n",
       "97. 50\n",
       "98. 13\n",
       "99. 0\n",
       "100. 51\n",
       "\n",
       "\n"
      ],
      "text/plain": [
       "  [1]  0 97  0 59 35  0  0 24  0 77  0 30  0 14  0  0 96  0  0  4 11 70  0 81  9\n",
       " [26] 67 43  0 33  0  0 18 93 72  0 29 69  0 28  0 92 73 83  0  0 66  0 48 17  0\n",
       " [51]  1  0  0 79  5 88  0  0  0  0 52  0  0 32 12 21 47  0 19  0 95  0 26  0  0\n",
       " [76]  0  0 46  0  0  0 36  0  0  0 45  0  0  0 53  0  0  0  0  0 94 50 13  0 51"
      ]
     },
     "metadata": {},
     "output_type": "display_data"
    },
    {
     "data": {
      "text/html": [
       "<ol class=list-inline>\n",
       "\t<li>0</li>\n",
       "\t<li>194</li>\n",
       "\t<li>0</li>\n",
       "\t<li>118</li>\n",
       "\t<li>70</li>\n",
       "\t<li>0</li>\n",
       "\t<li>0</li>\n",
       "\t<li>48</li>\n",
       "\t<li>0</li>\n",
       "\t<li>154</li>\n",
       "\t<li>0</li>\n",
       "\t<li>60</li>\n",
       "\t<li>0</li>\n",
       "\t<li>28</li>\n",
       "\t<li>0</li>\n",
       "\t<li>0</li>\n",
       "\t<li>192</li>\n",
       "\t<li>0</li>\n",
       "\t<li>0</li>\n",
       "\t<li>8</li>\n",
       "\t<li>22</li>\n",
       "\t<li>140</li>\n",
       "\t<li>0</li>\n",
       "\t<li>162</li>\n",
       "\t<li>18</li>\n",
       "\t<li>134</li>\n",
       "\t<li>86</li>\n",
       "\t<li>0</li>\n",
       "\t<li>66</li>\n",
       "\t<li>0</li>\n",
       "\t<li>0</li>\n",
       "\t<li>36</li>\n",
       "\t<li>186</li>\n",
       "\t<li>144</li>\n",
       "\t<li>0</li>\n",
       "\t<li>58</li>\n",
       "\t<li>138</li>\n",
       "\t<li>0</li>\n",
       "\t<li>56</li>\n",
       "\t<li>0</li>\n",
       "\t<li>184</li>\n",
       "\t<li>146</li>\n",
       "\t<li>166</li>\n",
       "\t<li>0</li>\n",
       "\t<li>0</li>\n",
       "\t<li>132</li>\n",
       "\t<li>0</li>\n",
       "\t<li>96</li>\n",
       "\t<li>34</li>\n",
       "\t<li>0</li>\n",
       "\t<li>2</li>\n",
       "\t<li>0</li>\n",
       "\t<li>0</li>\n",
       "\t<li>158</li>\n",
       "\t<li>10</li>\n",
       "\t<li>176</li>\n",
       "\t<li>0</li>\n",
       "\t<li>0</li>\n",
       "\t<li>0</li>\n",
       "\t<li>0</li>\n",
       "\t<li>104</li>\n",
       "\t<li>0</li>\n",
       "\t<li>0</li>\n",
       "\t<li>64</li>\n",
       "\t<li>24</li>\n",
       "\t<li>42</li>\n",
       "\t<li>94</li>\n",
       "\t<li>0</li>\n",
       "\t<li>38</li>\n",
       "\t<li>0</li>\n",
       "\t<li>190</li>\n",
       "\t<li>0</li>\n",
       "\t<li>52</li>\n",
       "\t<li>0</li>\n",
       "\t<li>0</li>\n",
       "\t<li>0</li>\n",
       "\t<li>0</li>\n",
       "\t<li>92</li>\n",
       "\t<li>0</li>\n",
       "\t<li>0</li>\n",
       "\t<li>0</li>\n",
       "\t<li>72</li>\n",
       "\t<li>0</li>\n",
       "\t<li>0</li>\n",
       "\t<li>0</li>\n",
       "\t<li>90</li>\n",
       "\t<li>0</li>\n",
       "\t<li>0</li>\n",
       "\t<li>0</li>\n",
       "\t<li>106</li>\n",
       "\t<li>0</li>\n",
       "\t<li>0</li>\n",
       "\t<li>0</li>\n",
       "\t<li>0</li>\n",
       "\t<li>0</li>\n",
       "\t<li>188</li>\n",
       "\t<li>100</li>\n",
       "\t<li>26</li>\n",
       "\t<li>0</li>\n",
       "\t<li>102</li>\n",
       "</ol>\n"
      ],
      "text/latex": [
       "\\begin{enumerate*}\n",
       "\\item 0\n",
       "\\item 194\n",
       "\\item 0\n",
       "\\item 118\n",
       "\\item 70\n",
       "\\item 0\n",
       "\\item 0\n",
       "\\item 48\n",
       "\\item 0\n",
       "\\item 154\n",
       "\\item 0\n",
       "\\item 60\n",
       "\\item 0\n",
       "\\item 28\n",
       "\\item 0\n",
       "\\item 0\n",
       "\\item 192\n",
       "\\item 0\n",
       "\\item 0\n",
       "\\item 8\n",
       "\\item 22\n",
       "\\item 140\n",
       "\\item 0\n",
       "\\item 162\n",
       "\\item 18\n",
       "\\item 134\n",
       "\\item 86\n",
       "\\item 0\n",
       "\\item 66\n",
       "\\item 0\n",
       "\\item 0\n",
       "\\item 36\n",
       "\\item 186\n",
       "\\item 144\n",
       "\\item 0\n",
       "\\item 58\n",
       "\\item 138\n",
       "\\item 0\n",
       "\\item 56\n",
       "\\item 0\n",
       "\\item 184\n",
       "\\item 146\n",
       "\\item 166\n",
       "\\item 0\n",
       "\\item 0\n",
       "\\item 132\n",
       "\\item 0\n",
       "\\item 96\n",
       "\\item 34\n",
       "\\item 0\n",
       "\\item 2\n",
       "\\item 0\n",
       "\\item 0\n",
       "\\item 158\n",
       "\\item 10\n",
       "\\item 176\n",
       "\\item 0\n",
       "\\item 0\n",
       "\\item 0\n",
       "\\item 0\n",
       "\\item 104\n",
       "\\item 0\n",
       "\\item 0\n",
       "\\item 64\n",
       "\\item 24\n",
       "\\item 42\n",
       "\\item 94\n",
       "\\item 0\n",
       "\\item 38\n",
       "\\item 0\n",
       "\\item 190\n",
       "\\item 0\n",
       "\\item 52\n",
       "\\item 0\n",
       "\\item 0\n",
       "\\item 0\n",
       "\\item 0\n",
       "\\item 92\n",
       "\\item 0\n",
       "\\item 0\n",
       "\\item 0\n",
       "\\item 72\n",
       "\\item 0\n",
       "\\item 0\n",
       "\\item 0\n",
       "\\item 90\n",
       "\\item 0\n",
       "\\item 0\n",
       "\\item 0\n",
       "\\item 106\n",
       "\\item 0\n",
       "\\item 0\n",
       "\\item 0\n",
       "\\item 0\n",
       "\\item 0\n",
       "\\item 188\n",
       "\\item 100\n",
       "\\item 26\n",
       "\\item 0\n",
       "\\item 102\n",
       "\\end{enumerate*}\n"
      ],
      "text/markdown": [
       "1. 0\n",
       "2. 194\n",
       "3. 0\n",
       "4. 118\n",
       "5. 70\n",
       "6. 0\n",
       "7. 0\n",
       "8. 48\n",
       "9. 0\n",
       "10. 154\n",
       "11. 0\n",
       "12. 60\n",
       "13. 0\n",
       "14. 28\n",
       "15. 0\n",
       "16. 0\n",
       "17. 192\n",
       "18. 0\n",
       "19. 0\n",
       "20. 8\n",
       "21. 22\n",
       "22. 140\n",
       "23. 0\n",
       "24. 162\n",
       "25. 18\n",
       "26. 134\n",
       "27. 86\n",
       "28. 0\n",
       "29. 66\n",
       "30. 0\n",
       "31. 0\n",
       "32. 36\n",
       "33. 186\n",
       "34. 144\n",
       "35. 0\n",
       "36. 58\n",
       "37. 138\n",
       "38. 0\n",
       "39. 56\n",
       "40. 0\n",
       "41. 184\n",
       "42. 146\n",
       "43. 166\n",
       "44. 0\n",
       "45. 0\n",
       "46. 132\n",
       "47. 0\n",
       "48. 96\n",
       "49. 34\n",
       "50. 0\n",
       "51. 2\n",
       "52. 0\n",
       "53. 0\n",
       "54. 158\n",
       "55. 10\n",
       "56. 176\n",
       "57. 0\n",
       "58. 0\n",
       "59. 0\n",
       "60. 0\n",
       "61. 104\n",
       "62. 0\n",
       "63. 0\n",
       "64. 64\n",
       "65. 24\n",
       "66. 42\n",
       "67. 94\n",
       "68. 0\n",
       "69. 38\n",
       "70. 0\n",
       "71. 190\n",
       "72. 0\n",
       "73. 52\n",
       "74. 0\n",
       "75. 0\n",
       "76. 0\n",
       "77. 0\n",
       "78. 92\n",
       "79. 0\n",
       "80. 0\n",
       "81. 0\n",
       "82. 72\n",
       "83. 0\n",
       "84. 0\n",
       "85. 0\n",
       "86. 90\n",
       "87. 0\n",
       "88. 0\n",
       "89. 0\n",
       "90. 106\n",
       "91. 0\n",
       "92. 0\n",
       "93. 0\n",
       "94. 0\n",
       "95. 0\n",
       "96. 188\n",
       "97. 100\n",
       "98. 26\n",
       "99. 0\n",
       "100. 102\n",
       "\n",
       "\n"
      ],
      "text/plain": [
       "  [1]   0 194   0 118  70   0   0  48   0 154   0  60   0  28   0   0 192   0\n",
       " [19]   0   8  22 140   0 162  18 134  86   0  66   0   0  36 186 144   0  58\n",
       " [37] 138   0  56   0 184 146 166   0   0 132   0  96  34   0   2   0   0 158\n",
       " [55]  10 176   0   0   0   0 104   0   0  64  24  42  94   0  38   0 190   0\n",
       " [73]  52   0   0   0   0  92   0   0   0  72   0   0   0  90   0   0   0 106\n",
       " [91]   0   0   0   0   0 188 100  26   0 102"
      ]
     },
     "metadata": {},
     "output_type": "display_data"
    }
   ],
   "source": [
    "set.seed(2)\n",
    "vec <- sample(-100:100,size = 100)\n",
    "vec\n",
    "\n",
    "vec[vec < 1] = 0\n",
    "vec\n",
    "vec[which(vec > 0)] <- 2*vec[which(vec > 0)]\n",
    "vec"
   ]
  },
  {
   "cell_type": "code",
   "execution_count": 5,
   "metadata": {},
   "outputs": [
    {
     "data": {
      "text/html": [
       "<ol class=list-inline>\n",
       "\t<li>-63</li>\n",
       "\t<li>40</li>\n",
       "\t<li>14</li>\n",
       "\t<li>-67</li>\n",
       "\t<li>85</li>\n",
       "\t<li>84</li>\n",
       "</ol>\n"
      ],
      "text/latex": [
       "\\begin{enumerate*}\n",
       "\\item -63\n",
       "\\item 40\n",
       "\\item 14\n",
       "\\item -67\n",
       "\\item 85\n",
       "\\item 84\n",
       "\\end{enumerate*}\n"
      ],
      "text/markdown": [
       "1. -63\n",
       "2. 40\n",
       "3. 14\n",
       "4. -67\n",
       "5. 85\n",
       "6. 84\n",
       "\n",
       "\n"
      ],
      "text/plain": [
       "[1] -63  40  14 -67  85  84"
      ]
     },
     "metadata": {},
     "output_type": "display_data"
    },
    {
     "data": {
      "text/html": [
       "<ol class=list-inline>\n",
       "\t<li>0</li>\n",
       "\t<li>80</li>\n",
       "\t<li>28</li>\n",
       "\t<li>0</li>\n",
       "\t<li>170</li>\n",
       "\t<li>168</li>\n",
       "</ol>\n"
      ],
      "text/latex": [
       "\\begin{enumerate*}\n",
       "\\item 0\n",
       "\\item 80\n",
       "\\item 28\n",
       "\\item 0\n",
       "\\item 170\n",
       "\\item 168\n",
       "\\end{enumerate*}\n"
      ],
      "text/markdown": [
       "1. 0\n",
       "2. 80\n",
       "3. 28\n",
       "4. 0\n",
       "5. 170\n",
       "6. 168\n",
       "\n",
       "\n"
      ],
      "text/plain": [
       "[1]   0  80  28   0 170 168"
      ]
     },
     "metadata": {},
     "output_type": "display_data"
    }
   ],
   "source": [
    "set.seed(2)\n",
    "vec <- sample(-100:100,size = 100)\n",
    "head(vec)\n",
    "if (any(vec < 1)){\n",
    "    vec[which(vec < 1)] <- 0\n",
    "}\n",
    "\n",
    "if (any(vec > 1)){\n",
    "    vec[which(vec > 0)] <- vec[which(vec > 0)] * 2\n",
    "}\n",
    "head(vec)"
   ]
  },
  {
   "cell_type": "markdown",
   "metadata": {},
   "source": [
    "## for"
   ]
  },
  {
   "cell_type": "markdown",
   "metadata": {},
   "source": [
    "El bucle for permite realizar iteraciones. Una iteración es un ciclo de operaciones que se repiten a través de uno o varios índices Al igual que la condición if, las diferencias con python residen en la presencia de llaves en sustitución de los sangrados de línea. De tal manera que la sintaxis es:\n",
    "- for (i in vec){cuerpo del bucle}\n",
    "\n",
    "Si el cuerpo del bucle solo continene una línea se puede poner a continuación y sin llaves:\n",
    "- for (i in vec) cuerpo del bucle"
   ]
  },
  {
   "cell_type": "markdown",
   "metadata": {},
   "source": [
    "Podemos iterar sobre elementos de un vector..."
   ]
  },
  {
   "cell_type": "code",
   "execution_count": 30,
   "metadata": {},
   "outputs": [
    {
     "name": "stdout",
     "output_type": "stream",
     "text": [
      "[1] \"carro\"\n",
      "[1] \"camion\"\n",
      "[1] \"metro\"\n",
      "[1] \"moto\"\n"
     ]
    }
   ],
   "source": [
    "medios.transporte <- c(\"carro\", \"camion\",\"metro\", \"moto\")\n",
    "for (vehiculo in medios.transporte) print(vehiculo)\n",
    "# Si el bucle es de una sola línea no hace falta corchetes"
   ]
  },
  {
   "cell_type": "markdown",
   "metadata": {},
   "source": [
    "... o iterar sobre elementos de una lista."
   ]
  },
  {
   "cell_type": "code",
   "execution_count": 31,
   "metadata": {},
   "outputs": [
    {
     "name": "stdout",
     "output_type": "stream",
     "text": [
      "[1] \"carro\"\n",
      "[1] \"camion\"\n",
      "[1] \"metro\"\n",
      "[1] \"moto\"\n"
     ]
    }
   ],
   "source": [
    "medios.transporte <- list(\"carro\", \"camion\",\"metro\", \"moto\")\n",
    "for (vehiculo in medios.transporte) print(vehiculo)"
   ]
  },
  {
   "cell_type": "markdown",
   "metadata": {},
   "source": [
    "Si en cada interación vamos a ir rellenando elementos en un vector/matriz/lista es importante inicializarlas antes:"
   ]
  },
  {
   "cell_type": "code",
   "execution_count": 39,
   "metadata": {},
   "outputs": [
    {
     "data": {
      "text/html": [
       "<ol class=list-inline>\n",
       "\t<li>1</li>\n",
       "\t<li>8</li>\n",
       "\t<li>27</li>\n",
       "\t<li>64</li>\n",
       "\t<li>125</li>\n",
       "\t<li>216</li>\n",
       "</ol>\n"
      ],
      "text/latex": [
       "\\begin{enumerate*}\n",
       "\\item 1\n",
       "\\item 8\n",
       "\\item 27\n",
       "\\item 64\n",
       "\\item 125\n",
       "\\item 216\n",
       "\\end{enumerate*}\n"
      ],
      "text/markdown": [
       "1. 1\n",
       "2. 8\n",
       "3. 27\n",
       "4. 64\n",
       "5. 125\n",
       "6. 216\n",
       "\n",
       "\n"
      ],
      "text/plain": [
       "[1]   1   8  27  64 125 216"
      ]
     },
     "metadata": {},
     "output_type": "display_data"
    }
   ],
   "source": [
    "x <- 1:500\n",
    "y <- x^2\n",
    "z <- c()\n",
    "for (i in 1:500) z[i] <- x[i]*y[i]\n",
    "head(z)"
   ]
  },
  {
   "cell_type": "markdown",
   "metadata": {},
   "source": [
    "... si no se hubiese inicializado el vector z pasaría esto:"
   ]
  },
  {
   "cell_type": "code",
   "execution_count": 102,
   "metadata": {},
   "outputs": [
    {
     "ename": "ERROR",
     "evalue": "Error in eval(expr, envir, enclos): object 'zz' not found\n",
     "output_type": "error",
     "traceback": [
      "Error in eval(expr, envir, enclos): object 'zz' not found\nTraceback:\n"
     ]
    }
   ],
   "source": [
    "x <- 1:500\n",
    "y <- x^2\n",
    "for (i in 1:500) zz[i] <- x[i]*y[i]\n",
    "head(z)"
   ]
  },
  {
   "cell_type": "markdown",
   "metadata": {},
   "source": [
    "Por ello una parte importante de los bucles for es la inicialización de los objetos.\n",
    "- Inicializar un vector: c()\n",
    "- Inicializar una matriz: matrix(data=, ncol=, nrow=)\n",
    "- Inicializar un array: array(data=,dim=)\n",
    "\n",
    "Si a los vectores o a las listas se les quiere dar una longitud determinada se puede utilizar la función vector():\n",
    "- vector(mode=\"list\",length=)\n",
    "- vector(mode=\"numeric\",length=)"
   ]
  },
  {
   "cell_type": "code",
   "execution_count": 41,
   "metadata": {},
   "outputs": [
    {
     "name": "stdout",
     "output_type": "stream",
     "text": [
      "[1] \"La matriz x contiene:\"\n"
     ]
    },
    {
     "data": {
      "text/html": [
       "<table>\n",
       "<caption>A matrix: 3 × 2 of type int</caption>\n",
       "<tbody>\n",
       "\t<tr><td>1</td><td>4</td></tr>\n",
       "\t<tr><td>2</td><td>5</td></tr>\n",
       "\t<tr><td>3</td><td>6</td></tr>\n",
       "</tbody>\n",
       "</table>\n"
      ],
      "text/latex": [
       "A matrix: 3 × 2 of type int\n",
       "\\begin{tabular}{ll}\n",
       "\t 1 & 4\\\\\n",
       "\t 2 & 5\\\\\n",
       "\t 3 & 6\\\\\n",
       "\\end{tabular}\n"
      ],
      "text/markdown": [
       "\n",
       "A matrix: 3 × 2 of type int\n",
       "\n",
       "| 1 | 4 |\n",
       "| 2 | 5 |\n",
       "| 3 | 6 |\n",
       "\n"
      ],
      "text/plain": [
       "     [,1] [,2]\n",
       "[1,] 1    4   \n",
       "[2,] 2    5   \n",
       "[3,] 3    6   "
      ]
     },
     "metadata": {},
     "output_type": "display_data"
    },
    {
     "name": "stdout",
     "output_type": "stream",
     "text": [
      "[1] \"La matriz y contiene:\"\n"
     ]
    },
    {
     "data": {
      "text/html": [
       "<table>\n",
       "<caption>A matrix: 3 × 2 of type dbl</caption>\n",
       "<tbody>\n",
       "\t<tr><td>0</td><td>3</td></tr>\n",
       "\t<tr><td>1</td><td>4</td></tr>\n",
       "\t<tr><td>2</td><td>5</td></tr>\n",
       "</tbody>\n",
       "</table>\n"
      ],
      "text/latex": [
       "A matrix: 3 × 2 of type dbl\n",
       "\\begin{tabular}{ll}\n",
       "\t 0 & 3\\\\\n",
       "\t 1 & 4\\\\\n",
       "\t 2 & 5\\\\\n",
       "\\end{tabular}\n"
      ],
      "text/markdown": [
       "\n",
       "A matrix: 3 × 2 of type dbl\n",
       "\n",
       "| 0 | 3 |\n",
       "| 1 | 4 |\n",
       "| 2 | 5 |\n",
       "\n"
      ],
      "text/plain": [
       "     [,1] [,2]\n",
       "[1,] 0    3   \n",
       "[2,] 1    4   \n",
       "[3,] 2    5   "
      ]
     },
     "metadata": {},
     "output_type": "display_data"
    },
    {
     "name": "stdout",
     "output_type": "stream",
     "text": [
      "[1] \"La matriz z contiene:\"\n"
     ]
    },
    {
     "data": {
      "text/html": [
       "<table>\n",
       "<caption>A matrix: 3 × 2 of type dbl</caption>\n",
       "<tbody>\n",
       "\t<tr><td>0</td><td>12</td></tr>\n",
       "\t<tr><td>2</td><td>20</td></tr>\n",
       "\t<tr><td>6</td><td>30</td></tr>\n",
       "</tbody>\n",
       "</table>\n"
      ],
      "text/latex": [
       "A matrix: 3 × 2 of type dbl\n",
       "\\begin{tabular}{ll}\n",
       "\t 0 & 12\\\\\n",
       "\t 2 & 20\\\\\n",
       "\t 6 & 30\\\\\n",
       "\\end{tabular}\n"
      ],
      "text/markdown": [
       "\n",
       "A matrix: 3 × 2 of type dbl\n",
       "\n",
       "| 0 | 12 |\n",
       "| 2 | 20 |\n",
       "| 6 | 30 |\n",
       "\n"
      ],
      "text/plain": [
       "     [,1] [,2]\n",
       "[1,] 0    12  \n",
       "[2,] 2    20  \n",
       "[3,] 6    30  "
      ]
     },
     "metadata": {},
     "output_type": "display_data"
    }
   ],
   "source": [
    "x <- matrix(data = 1:6, ncol = 2, nrow = 3)\n",
    "y <- x-1\n",
    "z <- matrix(data = NA, ncol = 2, nrow = 3)\n",
    "for (i in 1:nrow(x)) {\n",
    "  z[i,] <- x[i,]*y[i,]  # [i,] <-> Seleccióname todas las columnas de la fila \"i\"\n",
    "} \n",
    "\n",
    "print(\"La matriz x contiene:\") \n",
    "x\n",
    "print(\"La matriz y contiene:\") \n",
    "y\n",
    "print(\"La matriz z contiene:\") \n",
    "z"
   ]
  },
  {
   "cell_type": "markdown",
   "metadata": {},
   "source": [
    "EJERCICIO PROPUESTO: Busca la manera de hacer en tan solo UN bucle for lo que en la siguiente celda está hecho en DOS."
   ]
  },
  {
   "cell_type": "code",
   "execution_count": 6,
   "metadata": {},
   "outputs": [
    {
     "name": "stdout",
     "output_type": "stream",
     "text": [
      "[1] \"La matriz x contiene:\"\n"
     ]
    },
    {
     "data": {
      "text/html": [
       "<table>\n",
       "<tbody>\n",
       "\t<tr><td>1</td><td>4</td></tr>\n",
       "\t<tr><td>2</td><td>5</td></tr>\n",
       "\t<tr><td>3</td><td>6</td></tr>\n",
       "</tbody>\n",
       "</table>\n"
      ],
      "text/latex": [
       "\\begin{tabular}{ll}\n",
       "\t 1 & 4\\\\\n",
       "\t 2 & 5\\\\\n",
       "\t 3 & 6\\\\\n",
       "\\end{tabular}\n"
      ],
      "text/markdown": [
       "\n",
       "| 1 | 4 | \n",
       "| 2 | 5 | \n",
       "| 3 | 6 | \n",
       "\n",
       "\n"
      ],
      "text/plain": [
       "     [,1] [,2]\n",
       "[1,] 1    4   \n",
       "[2,] 2    5   \n",
       "[3,] 3    6   "
      ]
     },
     "metadata": {},
     "output_type": "display_data"
    },
    {
     "name": "stdout",
     "output_type": "stream",
     "text": [
      "[1] \"La matriz z (que si os fijais es la traspuesta de x) contiene:\"\n"
     ]
    },
    {
     "data": {
      "text/html": [
       "<table>\n",
       "<tbody>\n",
       "\t<tr><td>1</td><td>2</td><td>3</td></tr>\n",
       "\t<tr><td>4</td><td>5</td><td>6</td></tr>\n",
       "</tbody>\n",
       "</table>\n"
      ],
      "text/latex": [
       "\\begin{tabular}{lll}\n",
       "\t 1 & 2 & 3\\\\\n",
       "\t 4 & 5 & 6\\\\\n",
       "\\end{tabular}\n"
      ],
      "text/markdown": [
       "\n",
       "| 1 | 2 | 3 | \n",
       "| 4 | 5 | 6 | \n",
       "\n",
       "\n"
      ],
      "text/plain": [
       "     [,1] [,2] [,3]\n",
       "[1,] 1    2    3   \n",
       "[2,] 4    5    6   "
      ]
     },
     "metadata": {},
     "output_type": "display_data"
    }
   ],
   "source": [
    "# Con dos bucles for\n",
    "x <- matrix(data = 1:6, ncol = 2, nrow = 3)\n",
    "z <- matrix(data = NA, ncol = 3, nrow = 2)\n",
    "for (i in 1:ncol(x)){\n",
    "    for (j in 1:nrow(x)){\n",
    "        z[i,j]= x[j,i]\n",
    "    }\n",
    "}\n",
    "print(\"La matriz x contiene:\") \n",
    "x\n",
    "print(\"La matriz z (que si os fijais es la traspuesta de x) contiene:\") \n",
    "z"
   ]
  },
  {
   "cell_type": "code",
   "execution_count": 48,
   "metadata": {},
   "outputs": [
    {
     "name": "stdout",
     "output_type": "stream",
     "text": [
      "[1] \"La matriz x contiene:\"\n"
     ]
    },
    {
     "data": {
      "text/html": [
       "<table>\n",
       "<caption>A matrix: 3 × 2 of type int</caption>\n",
       "<tbody>\n",
       "\t<tr><td>1</td><td>4</td></tr>\n",
       "\t<tr><td>2</td><td>5</td></tr>\n",
       "\t<tr><td>3</td><td>6</td></tr>\n",
       "</tbody>\n",
       "</table>\n"
      ],
      "text/latex": [
       "A matrix: 3 × 2 of type int\n",
       "\\begin{tabular}{ll}\n",
       "\t 1 & 4\\\\\n",
       "\t 2 & 5\\\\\n",
       "\t 3 & 6\\\\\n",
       "\\end{tabular}\n"
      ],
      "text/markdown": [
       "\n",
       "A matrix: 3 × 2 of type int\n",
       "\n",
       "| 1 | 4 |\n",
       "| 2 | 5 |\n",
       "| 3 | 6 |\n",
       "\n"
      ],
      "text/plain": [
       "     [,1] [,2]\n",
       "[1,] 1    4   \n",
       "[2,] 2    5   \n",
       "[3,] 3    6   "
      ]
     },
     "metadata": {},
     "output_type": "display_data"
    },
    {
     "name": "stdout",
     "output_type": "stream",
     "text": [
      "[1] \"La matriz z (que si os fijais es la traspuesta de x) contiene:\"\n"
     ]
    },
    {
     "data": {
      "text/html": [
       "<table>\n",
       "<caption>A matrix: 2 × 3 of type int</caption>\n",
       "<tbody>\n",
       "\t<tr><td>1</td><td>2</td><td>3</td></tr>\n",
       "\t<tr><td>4</td><td>5</td><td>6</td></tr>\n",
       "</tbody>\n",
       "</table>\n"
      ],
      "text/latex": [
       "A matrix: 2 × 3 of type int\n",
       "\\begin{tabular}{lll}\n",
       "\t 1 & 2 & 3\\\\\n",
       "\t 4 & 5 & 6\\\\\n",
       "\\end{tabular}\n"
      ],
      "text/markdown": [
       "\n",
       "A matrix: 2 × 3 of type int\n",
       "\n",
       "| 1 | 2 | 3 |\n",
       "| 4 | 5 | 6 |\n",
       "\n"
      ],
      "text/plain": [
       "     [,1] [,2] [,3]\n",
       "[1,] 1    2    3   \n",
       "[2,] 4    5    6   "
      ]
     },
     "metadata": {},
     "output_type": "display_data"
    }
   ],
   "source": [
    "# Con un bucle for\n",
    "x <- matrix(data = 1:6, ncol = 2, nrow = 3)\n",
    "z <- matrix(data = NA, ncol = 3, nrow = 2)\n",
    "for (i in 1:ncol(x)){\n",
    "    z[i,]= x[,i]\n",
    "}\n",
    "\n",
    "print(\"La matriz x contiene:\") \n",
    "x\n",
    "print(\"La matriz z (que si os fijais es la traspuesta de x) contiene:\") \n",
    "z"
   ]
  },
  {
   "cell_type": "markdown",
   "metadata": {},
   "source": [
    "EJERCICIO PROPUESTO: Inicializa un array con valores generados aleatoriamente por una distribucion uniforme entre [-1,1], de dimensiones (100,2,3) y calcula la media a lo largo de la primera dimension, de tal manera que el resultado sea una matriz de dimensiones (2,3). (Para dar valores aleatorios utiliza la función runif(), si no se conoce dicha función buscad la información en la red. Buscar informacion en la red sobre  funciones es una actividad diaria en la vida del programador ya sea principiante o avanzado y por tanto forma parte del aprendizaje en el ámbito de la programación).\n",
    "\n",
    "Sin utilizar la función mean de R, programa un bucle que resuelva el ejercicio."
   ]
  },
  {
   "cell_type": "code",
   "execution_count": 103,
   "metadata": {},
   "outputs": [
    {
     "data": {
      "text/html": [
       "<table>\n",
       "<caption>A matrix: 2 × 3 of type dbl</caption>\n",
       "<tbody>\n",
       "\t<tr><td>-0.006630772</td><td>-0.06511411</td><td>-0.05767052</td></tr>\n",
       "\t<tr><td> 0.060558312</td><td> 0.02747938</td><td>-0.04078011</td></tr>\n",
       "</tbody>\n",
       "</table>\n"
      ],
      "text/latex": [
       "A matrix: 2 × 3 of type dbl\n",
       "\\begin{tabular}{lll}\n",
       "\t -0.006630772 & -0.06511411 & -0.05767052\\\\\n",
       "\t  0.060558312 &  0.02747938 & -0.04078011\\\\\n",
       "\\end{tabular}\n"
      ],
      "text/markdown": [
       "\n",
       "A matrix: 2 × 3 of type dbl\n",
       "\n",
       "| -0.006630772 | -0.06511411 | -0.05767052 |\n",
       "|  0.060558312 |  0.02747938 | -0.04078011 |\n",
       "\n"
      ],
      "text/plain": [
       "     [,1]         [,2]        [,3]       \n",
       "[1,] -0.006630772 -0.06511411 -0.05767052\n",
       "[2,]  0.060558312  0.02747938 -0.04078011"
      ]
     },
     "metadata": {},
     "output_type": "display_data"
    }
   ],
   "source": [
    "n.eye <- 100\n",
    "n.row <- 2\n",
    "n.col <- 3\n",
    "\n",
    "data <- runif(n.eye*n.row*n.col)*2-1\n",
    "dim(data) <- c(n.eye, n.row, n.col)\n",
    "med <- matrix(data = 0, nrow=n.row, ncol=n.col)\n",
    "\n",
    "\n",
    "# for (i in (1:n.eye)){\n",
    "#     med <- med + data[i,,]\n",
    "# }\n",
    "# med <- med/n.eye\n",
    "\n",
    "\n",
    "for (i in 1:n.row){\n",
    "    for (j in 1:n.col){\n",
    "        med[i,j] <- mean(data[,i,j])\n",
    "    }\n",
    "}\n",
    "\n",
    "\n",
    "\n",
    "med\n",
    "\n",
    "\n",
    "\n",
    "\n",
    "\n"
   ]
  },
  {
   "cell_type": "code",
   "execution_count": 49,
   "metadata": {},
   "outputs": [
    {
     "data": {
      "text/html": [
       "<table>\n",
       "<caption>A matrix: 2 × 3 of type dbl</caption>\n",
       "<tbody>\n",
       "\t<tr><td>-0.02525662</td><td>-0.02904985</td><td>-0.01845852</td></tr>\n",
       "\t<tr><td>-0.06405710</td><td> 0.07724395</td><td> 0.05386146</td></tr>\n",
       "</tbody>\n",
       "</table>\n"
      ],
      "text/latex": [
       "A matrix: 2 × 3 of type dbl\n",
       "\\begin{tabular}{lll}\n",
       "\t -0.02525662 & -0.02904985 & -0.01845852\\\\\n",
       "\t -0.06405710 &  0.07724395 &  0.05386146\\\\\n",
       "\\end{tabular}\n"
      ],
      "text/markdown": [
       "\n",
       "A matrix: 2 × 3 of type dbl\n",
       "\n",
       "| -0.02525662 | -0.02904985 | -0.01845852 |\n",
       "| -0.06405710 |  0.07724395 |  0.05386146 |\n",
       "\n"
      ],
      "text/plain": [
       "     [,1]        [,2]        [,3]       \n",
       "[1,] -0.02525662 -0.02904985 -0.01845852\n",
       "[2,] -0.06405710  0.07724395  0.05386146"
      ]
     },
     "metadata": {},
     "output_type": "display_data"
    }
   ],
   "source": [
    "data <- array(runif(n = 100*2*3, min = -1,max = 1),dim = c(100,2,3))\n",
    "mean_data <- matrix(nrow = 2,ncol = 3)\n",
    "for (i in 1:nrow(mean_data)){\n",
    "    for (j in 1:ncol(mean_data)){\n",
    "        mean_data[i,j] = sum(data[,i,j])/dim(data)[1]\n",
    "    }\n",
    "}\n",
    "mean_data"
   ]
  },
  {
   "cell_type": "markdown",
   "metadata": {},
   "source": [
    "EJERCICIO PROPUESTO: En la clase de ayer visteis como definir una funcion en R. Utiliza el código del ejercicio anterior (el cual calcula la media a lo largo de la primera dimension para un el array x de 3 dimensiones) para definir una funcion el cual calcule dicha media pero para cualquier array x de 3 dimensiones."
   ]
  },
  {
   "cell_type": "code",
   "execution_count": 116,
   "metadata": {},
   "outputs": [
    {
     "data": {
      "text/html": [
       "<table>\n",
       "<caption>A matrix: 2 × 3 of type dbl</caption>\n",
       "<tbody>\n",
       "\t<tr><td> 0.01184559</td><td>0.02649910</td><td>-0.04679409</td></tr>\n",
       "\t<tr><td>-0.03938372</td><td>0.05906789</td><td>-0.05558056</td></tr>\n",
       "</tbody>\n",
       "</table>\n"
      ],
      "text/latex": [
       "A matrix: 2 × 3 of type dbl\n",
       "\\begin{tabular}{lll}\n",
       "\t  0.01184559 & 0.02649910 & -0.04679409\\\\\n",
       "\t -0.03938372 & 0.05906789 & -0.05558056\\\\\n",
       "\\end{tabular}\n"
      ],
      "text/markdown": [
       "\n",
       "A matrix: 2 × 3 of type dbl\n",
       "\n",
       "|  0.01184559 | 0.02649910 | -0.04679409 |\n",
       "| -0.03938372 | 0.05906789 | -0.05558056 |\n",
       "\n"
      ],
      "text/plain": [
       "     [,1]        [,2]       [,3]       \n",
       "[1,]  0.01184559 0.02649910 -0.04679409\n",
       "[2,] -0.03938372 0.05906789 -0.05558056"
      ]
     },
     "metadata": {},
     "output_type": "display_data"
    }
   ],
   "source": [
    "calculate_mean <- function(x){\n",
    "    n.row <- dim(x)[2]\n",
    "    n.col <- dim(x)[3]\n",
    "    mean_x = matrix(data = 0, nrow = n.row, ncol = n.col)\n",
    "    \n",
    "    for (i in 1:dim(x)[1]){\n",
    "        mean_x = mean_x + x[i,,]\n",
    "    }\n",
    "    mean_x <- mean_x / dim(x)[1]\n",
    "    return(mean_x)\n",
    "}\n",
    "\n",
    "\n",
    "n.eye <- 100\n",
    "n.row <- 2\n",
    "n.col <- 3\n",
    "\n",
    "data <- runif(n.eye*n.row*n.col)*2-1\n",
    "dim(data) <- c(n.eye, n.row, n.col)\n",
    "\n",
    "calculate_mean(data)"
   ]
  },
  {
   "cell_type": "code",
   "execution_count": 118,
   "metadata": {},
   "outputs": [
    {
     "name": "stdout",
     "output_type": "stream",
     "text": [
      "[1] \"matrix 1\"\n"
     ]
    },
    {
     "data": {
      "text/html": [
       "<table>\n",
       "<caption>A matrix: 2 × 3 of type dbl</caption>\n",
       "<tbody>\n",
       "\t<tr><td>-0.006882261</td><td>0.03416430</td><td>-0.02653971</td></tr>\n",
       "\t<tr><td> 0.093889767</td><td>0.02923572</td><td>-0.01874157</td></tr>\n",
       "</tbody>\n",
       "</table>\n"
      ],
      "text/latex": [
       "A matrix: 2 × 3 of type dbl\n",
       "\\begin{tabular}{lll}\n",
       "\t -0.006882261 & 0.03416430 & -0.02653971\\\\\n",
       "\t  0.093889767 & 0.02923572 & -0.01874157\\\\\n",
       "\\end{tabular}\n"
      ],
      "text/markdown": [
       "\n",
       "A matrix: 2 × 3 of type dbl\n",
       "\n",
       "| -0.006882261 | 0.03416430 | -0.02653971 |\n",
       "|  0.093889767 | 0.02923572 | -0.01874157 |\n",
       "\n"
      ],
      "text/plain": [
       "     [,1]         [,2]       [,3]       \n",
       "[1,] -0.006882261 0.03416430 -0.02653971\n",
       "[2,]  0.093889767 0.02923572 -0.01874157"
      ]
     },
     "metadata": {},
     "output_type": "display_data"
    },
    {
     "name": "stdout",
     "output_type": "stream",
     "text": [
      "[1] \"matrix 2\"\n"
     ]
    },
    {
     "data": {
      "text/html": [
       "<table>\n",
       "<caption>A matrix: 5 × 2 of type dbl</caption>\n",
       "<tbody>\n",
       "\t<tr><td>0.012591403</td><td>-0.019162243</td></tr>\n",
       "\t<tr><td>0.027831814</td><td> 0.002376708</td></tr>\n",
       "\t<tr><td>0.001650311</td><td>-0.002972361</td></tr>\n",
       "\t<tr><td>0.028532150</td><td>-0.008317287</td></tr>\n",
       "\t<tr><td>0.015729193</td><td> 0.018212539</td></tr>\n",
       "</tbody>\n",
       "</table>\n"
      ],
      "text/latex": [
       "A matrix: 5 × 2 of type dbl\n",
       "\\begin{tabular}{ll}\n",
       "\t 0.012591403 & -0.019162243\\\\\n",
       "\t 0.027831814 &  0.002376708\\\\\n",
       "\t 0.001650311 & -0.002972361\\\\\n",
       "\t 0.028532150 & -0.008317287\\\\\n",
       "\t 0.015729193 &  0.018212539\\\\\n",
       "\\end{tabular}\n"
      ],
      "text/markdown": [
       "\n",
       "A matrix: 5 × 2 of type dbl\n",
       "\n",
       "| 0.012591403 | -0.019162243 |\n",
       "| 0.027831814 |  0.002376708 |\n",
       "| 0.001650311 | -0.002972361 |\n",
       "| 0.028532150 | -0.008317287 |\n",
       "| 0.015729193 |  0.018212539 |\n",
       "\n"
      ],
      "text/plain": [
       "     [,1]        [,2]        \n",
       "[1,] 0.012591403 -0.019162243\n",
       "[2,] 0.027831814  0.002376708\n",
       "[3,] 0.001650311 -0.002972361\n",
       "[4,] 0.028532150 -0.008317287\n",
       "[5,] 0.015729193  0.018212539"
      ]
     },
     "metadata": {},
     "output_type": "display_data"
    }
   ],
   "source": [
    "# Resultado del profesor\n",
    "\n",
    "calculate_mean <- function(x){\n",
    "    mean_data <- matrix(nrow = dim(x)[2],ncol = dim(x)[3])\n",
    "    for (i in 1:nrow(mean_data)){\n",
    "        for (j in 1:ncol(mean_data)){\n",
    "            mean_data[i,j] = sum(x[,i,j])/dim(x)[1]\n",
    "        }\n",
    "    }\n",
    "    return(mean_data)\n",
    "}\n",
    "\n",
    "data1 <- array(runif(n = 100*2*3, min = -1,max = 1),dim = c(100,2,3))\n",
    "print(\"matrix 1\")\n",
    "calculate_mean(data1)\n",
    "data2 <- array(runif(n = 490*5*2, min = -1,max = 1),dim = c(490,5,2))\n",
    "print(\"matrix 2\")\n",
    "calculate_mean(data2)"
   ]
  },
  {
   "cell_type": "markdown",
   "metadata": {},
   "source": [
    "## while, repeat, break"
   ]
  },
  {
   "cell_type": "markdown",
   "metadata": {},
   "source": [
    "### while"
   ]
  },
  {
   "cell_type": "markdown",
   "metadata": {},
   "source": [
    "A continuación vamos a ver como utilizar la estructura iterativa while, el cual ejecuta el bucle hasta que se cumple una condicion."
   ]
  },
  {
   "cell_type": "code",
   "execution_count": 30,
   "metadata": {},
   "outputs": [
    {
     "name": "stdout",
     "output_type": "stream",
     "text": [
      "[1] \"Aun voy por el numero 0\"\n",
      "[1] \"Aun voy por el numero 1\"\n",
      "[1] \"Aun voy por el numero 2\"\n",
      "[1] \"Aun voy por el numero 3\"\n",
      "[1] \"Aun voy por el numero 4\"\n",
      "[1] \"Aun voy por el numero 5\"\n",
      "[1] \"Aun voy por el numero 6\"\n",
      "[1] \"Aun voy por el numero 7\"\n",
      "[1] \"Aun voy por el numero 8\"\n",
      "[1] \"Aun voy por el numero 9\"\n"
     ]
    }
   ],
   "source": [
    "n <- 0\n",
    "while(n < 10){\n",
    "    print(paste(\"Aun voy por el numero\",n))\n",
    "    n <- n+1\n",
    "}"
   ]
  },
  {
   "cell_type": "markdown",
   "metadata": {},
   "source": [
    "EJERCICIO PROPUESTO: Escriba un algoritmo usando la instrucción while que genere 1000 números al azar con distribución uniforme en [0,1] y los sume hasta llegar a 100. El resultado es el número de sumandos. (Para generar números al azar con dicha distribución utilizar la función runif)"
   ]
  },
  {
   "cell_type": "code",
   "execution_count": 156,
   "metadata": {},
   "outputs": [
    {
     "data": {
      "text/html": [
       "'Se han realizado 216 bucles'"
      ],
      "text/latex": [
       "'Se han realizado 216 bucles'"
      ],
      "text/markdown": [
       "'Se han realizado 216 bucles'"
      ],
      "text/plain": [
       "[1] \"Se han realizado 216 bucles\""
      ]
     },
     "metadata": {},
     "output_type": "display_data"
    }
   ],
   "source": [
    "suma <- 0\n",
    "data <- runif(1000)\n",
    "i <- 1\n",
    "while(suma < 100){\n",
    "    suma <- suma + data[i]\n",
    "    i <- i + 1\n",
    "}\n",
    "\n",
    "paste(\"Se han realizado\", i, \"bucles\")"
   ]
  },
  {
   "cell_type": "code",
   "execution_count": 33,
   "metadata": {},
   "outputs": [
    {
     "name": "stdout",
     "output_type": "stream",
     "text": [
      "[1] \"Se han utilizado 208 números, cuya suma es igual a 100.04078414687\"\n"
     ]
    }
   ],
   "source": [
    "# RESULTADO DEL PROFESOR\n",
    "\n",
    "data <- runif(1000,min = 0,max = 1)\n",
    "suma <- 0\n",
    "n <- 0\n",
    "while (suma < 100) {\n",
    "    n <- n + 1\n",
    "    suma <- suma + data[n]\n",
    "}\n",
    "print(paste(\"Se han utilizado\",n,\"números, cuya suma es igual a\",suma))"
   ]
  },
  {
   "cell_type": "markdown",
   "metadata": {},
   "source": [
    "### repeat, break"
   ]
  },
  {
   "cell_type": "markdown",
   "metadata": {},
   "source": [
    "Repeat ejecuta el bucle una y otra vez, repitiéndolo hasta que se cumple una condicion donde es necesario que aparezca la secuencia break. De otra manera, el bucle acabaría siendo infinito."
   ]
  },
  {
   "cell_type": "code",
   "execution_count": 31,
   "metadata": {},
   "outputs": [
    {
     "data": {
      "text/html": [
       "1035"
      ],
      "text/latex": [
       "1035"
      ],
      "text/markdown": [
       "1035"
      ],
      "text/plain": [
       "[1] 1035"
      ]
     },
     "metadata": {},
     "output_type": "display_data"
    },
    {
     "data": {
      "text/html": [
       "45"
      ],
      "text/latex": [
       "45"
      ],
      "text/markdown": [
       "45"
      ],
      "text/plain": [
       "[1] 45"
      ]
     },
     "metadata": {},
     "output_type": "display_data"
    }
   ],
   "source": [
    "n <-0\n",
    "suma <- 0\n",
    "repeat {\n",
    "    n <- n+1 \n",
    "    suma <- suma + n\n",
    "    if ( suma > 1000) break\n",
    "}\n",
    "suma\n",
    "n"
   ]
  },
  {
   "cell_type": "markdown",
   "metadata": {},
   "source": [
    "EJERCICIO PROPUESTO: Escriba un algoritmo usando la instrucción repeat que genere 1000 números al azar con distribución uniforme en [0,1] y los sume uno a uno hasta llegar a 100. El resultado es el número de sumandos. (Para generar números al azar con dicha distribución utilizar la función runif)\n"
   ]
  },
  {
   "cell_type": "code",
   "execution_count": 34,
   "metadata": {},
   "outputs": [
    {
     "name": "stdout",
     "output_type": "stream",
     "text": [
      "[1] \"Se han utilizado 196 números, cuya suma es igual a 100.359347080812\"\n"
     ]
    }
   ],
   "source": [
    "data <- runif(1000,min = 0,max = 1)\n",
    "suma <- 0\n",
    "n <- 0\n",
    "repeat {\n",
    "    n <- n + 1\n",
    "    suma <- suma + data[n]\n",
    "    if (suma >= 100) break\n",
    "}\n",
    "print(paste(\"Se han utilizado\",n,\"números, cuya suma es igual a\",suma))"
   ]
  }
 ],
 "metadata": {
  "kernelspec": {
   "display_name": "R",
   "language": "R",
   "name": "ir"
  },
  "language_info": {
   "codemirror_mode": "r",
   "file_extension": ".r",
   "mimetype": "text/x-r-source",
   "name": "R",
   "pygments_lexer": "r",
   "version": "3.6.1"
  }
 },
 "nbformat": 4,
 "nbformat_minor": 2
}
